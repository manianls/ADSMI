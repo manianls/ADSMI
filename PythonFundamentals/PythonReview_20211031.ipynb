{
  "nbformat": 4,
  "nbformat_minor": 0,
  "metadata": {
    "colab": {
      "name": "PythonReview-20211031.ipynb",
      "private_outputs": true,
      "provenance": [],
      "include_colab_link": true
    },
    "kernelspec": {
      "name": "python3",
      "display_name": "Python 3"
    },
    "language_info": {
      "name": "python"
    }
  },
  "cells": [
    {
      "cell_type": "markdown",
      "metadata": {
        "id": "view-in-github",
        "colab_type": "text"
      },
      "source": [
        "<a href=\"https://colab.research.google.com/github/manianls/ADSMI/blob/main/PythonFundamentals/PythonReview_20211031.ipynb\" target=\"_parent\"><img src=\"https://colab.research.google.com/assets/colab-badge.svg\" alt=\"Open In Colab\"/></a>"
      ]
    },
    {
      "cell_type": "markdown",
      "metadata": {
        "id": "A01pPt2_aRQ-"
      },
      "source": [
        "# Please keep your hand raised till \n",
        "# you upload both files"
      ]
    },
    {
      "cell_type": "code",
      "metadata": {
        "id": "7Kee4gH9bmsd"
      },
      "source": [
        "SAMPLE = \"02_heights_weights_genders.csv\"\n",
        "FULLDATA = \"01_heights_weights_genders.csv\""
      ],
      "execution_count": null,
      "outputs": []
    },
    {
      "cell_type": "code",
      "metadata": {
        "id": "QHUqQvUtcFyO"
      },
      "source": [
        "!pwd"
      ],
      "execution_count": null,
      "outputs": []
    },
    {
      "cell_type": "code",
      "metadata": {
        "id": "boQschTDcor_"
      },
      "source": [
        "!head $FULLDATA"
      ],
      "execution_count": null,
      "outputs": []
    },
    {
      "cell_type": "code",
      "metadata": {
        "id": "e7_atf7udA2s"
      },
      "source": [
        "!wc -l $FULLDATA"
      ],
      "execution_count": null,
      "outputs": []
    },
    {
      "cell_type": "code",
      "metadata": {
        "id": "kvOxPGsldM8J"
      },
      "source": [
        "with open(FULLDATA) as f:\n",
        "    data = f.readlines()"
      ],
      "execution_count": null,
      "outputs": []
    },
    {
      "cell_type": "code",
      "metadata": {
        "id": "u7dGWZ3_diXd"
      },
      "source": [
        "data[:10]"
      ],
      "execution_count": null,
      "outputs": []
    },
    {
      "cell_type": "code",
      "metadata": {
        "id": "_TIAdEffdlfV"
      },
      "source": [
        "data = data[1:]"
      ],
      "execution_count": null,
      "outputs": []
    },
    {
      "cell_type": "code",
      "metadata": {
        "id": "8cg82-Xbdvqs"
      },
      "source": [
        "len(data)"
      ],
      "execution_count": null,
      "outputs": []
    },
    {
      "cell_type": "code",
      "metadata": {
        "id": "fTrlr5y7dyWq"
      },
      "source": [
        "type(data)"
      ],
      "execution_count": null,
      "outputs": []
    },
    {
      "cell_type": "code",
      "metadata": {
        "id": "-yTC232fd1oD"
      },
      "source": [
        "type(data[0])"
      ],
      "execution_count": null,
      "outputs": []
    },
    {
      "cell_type": "code",
      "metadata": {
        "id": "gxzH3mvfd4aP"
      },
      "source": [
        "data[0]"
      ],
      "execution_count": null,
      "outputs": []
    },
    {
      "cell_type": "markdown",
      "metadata": {
        "id": "xhnMQqIoeFCe"
      },
      "source": [
        "\n",
        "\n",
        "1.   each line to be split into three\n",
        "2.   remove quotes\n",
        "3.   remove \\n\n",
        "4.   convert to cm, kg and round to integers\n",
        "\n",
        "\n",
        "\n",
        "\n"
      ]
    },
    {
      "cell_type": "code",
      "metadata": {
        "id": "n9QcolCNew1m"
      },
      "source": [
        "cleaned = []\n",
        "COMMA = ','\n",
        "for line in data:\n",
        "    g, h, w = line.strip().split(COMMA)\n",
        "    cleaned.append((g, h, w))"
      ],
      "execution_count": null,
      "outputs": []
    },
    {
      "cell_type": "code",
      "metadata": {
        "id": "oRcWVme5hXxq"
      },
      "source": [
        "cleaned[:10]"
      ],
      "execution_count": null,
      "outputs": []
    },
    {
      "cell_type": "code",
      "metadata": {
        "id": "GOTq-ajehanV"
      },
      "source": [
        "cleaned = []\n",
        "COMMA, QUOTE = ',', '\"'\n",
        "for line in data:\n",
        "    g_raw, h_raw, w_raw = line.strip().split(COMMA)\n",
        "    g = g_raw.strip(QUOTE)\n",
        "    h = float(h_raw)\n",
        "    w = float(w_raw)\n",
        "    cleaned.append((g, h, w))"
      ],
      "execution_count": null,
      "outputs": []
    },
    {
      "cell_type": "code",
      "metadata": {
        "id": "M0ln5JFqh7P4"
      },
      "source": [
        "cleaned[:10]"
      ],
      "execution_count": null,
      "outputs": []
    },
    {
      "cell_type": "code",
      "metadata": {
        "id": "j0rBqiSCh81W"
      },
      "source": [
        "cleaned = []\n",
        "COMMA, QUOTE = ',', '\"'\n",
        "INCHES2CM, POUNDS2KG = 2.54, 0.454\n",
        "for line in data:\n",
        "    g_raw, h_raw, w_raw = line.strip().split(COMMA)\n",
        "    g = g_raw.strip(QUOTE)\n",
        "    h = int(float(h_raw) * INCHES2CM + 0.5) \n",
        "    w = int(float(w_raw) * POUNDS2KG + 0.5)\n",
        "    cleaned.append((g, h, w))"
      ],
      "execution_count": null,
      "outputs": []
    },
    {
      "cell_type": "code",
      "metadata": {
        "id": "wvuyG0BNjSB-"
      },
      "source": [
        "cleaned[:10]"
      ],
      "execution_count": null,
      "outputs": []
    },
    {
      "cell_type": "code",
      "metadata": {
        "id": "KDC8TfWLjTfE"
      },
      "source": [
        "sum([x[1] for x in cleaned])/len(cleaned)"
      ],
      "execution_count": null,
      "outputs": []
    },
    {
      "cell_type": "code",
      "metadata": {
        "id": "-8cKlMxtmc_u"
      },
      "source": [
        "import pandas as pd"
      ],
      "execution_count": null,
      "outputs": []
    },
    {
      "cell_type": "code",
      "metadata": {
        "id": "vrldmF5UmtJQ"
      },
      "source": [
        "pd.read_csv(FULLDATA)"
      ],
      "execution_count": null,
      "outputs": []
    },
    {
      "cell_type": "code",
      "metadata": {
        "id": "l1-Ty9N3mxWA"
      },
      "source": [
        "data = pd.read_csv(FULLDATA)"
      ],
      "execution_count": null,
      "outputs": []
    },
    {
      "cell_type": "code",
      "metadata": {
        "id": "iB8iC707pJFd"
      },
      "source": [
        "type(data)"
      ],
      "execution_count": null,
      "outputs": []
    },
    {
      "cell_type": "code",
      "metadata": {
        "id": "nOhU4WoZpMrW"
      },
      "source": [
        "data.describe()"
      ],
      "execution_count": null,
      "outputs": []
    },
    {
      "cell_type": "code",
      "metadata": {
        "id": "xQUNFNFLpX-X"
      },
      "source": [
        "data[\"Height\"]"
      ],
      "execution_count": null,
      "outputs": []
    },
    {
      "cell_type": "code",
      "metadata": {
        "id": "DenpMqEqp5B_"
      },
      "source": [
        "data.Weight"
      ],
      "execution_count": null,
      "outputs": []
    },
    {
      "cell_type": "code",
      "metadata": {
        "id": "VAkaQIAVqGJP"
      },
      "source": [
        "INCHES2CM, POUNDS2KG = 2.54, 0.454\n",
        "def inches2cm(s: str) -> int:\n",
        "    return round(float(s) * INCHES2CM)\n",
        "def pounds2kg(s: str) -> int:\n",
        "    return round(float(s) * POUNDS2KG)"
      ],
      "execution_count": null,
      "outputs": []
    },
    {
      "cell_type": "code",
      "metadata": {
        "id": "Nn7sgYq0raaJ"
      },
      "source": [
        "data = pd.read_csv(FULLDATA, converters={'Height':inches2cm, 'Weight': pounds2kg})"
      ],
      "execution_count": null,
      "outputs": []
    },
    {
      "cell_type": "code",
      "metadata": {
        "id": "ykyjt979rmum"
      },
      "source": [
        "data.describe()"
      ],
      "execution_count": null,
      "outputs": []
    },
    {
      "cell_type": "code",
      "metadata": {
        "id": "QUnKcdVquxHV"
      },
      "source": [
        "data.Weight"
      ],
      "execution_count": null,
      "outputs": []
    },
    {
      "cell_type": "code",
      "metadata": {
        "id": "06Ig1HsPu1PT"
      },
      "source": [
        "dd = pd.read_csv(FULLDATA, names=[\"sex\", \"height\", \"weight\"], header=0)"
      ],
      "execution_count": null,
      "outputs": []
    },
    {
      "cell_type": "code",
      "metadata": {
        "id": "nO-mnmMcvEX9"
      },
      "source": [
        "dd.columns"
      ],
      "execution_count": null,
      "outputs": []
    },
    {
      "cell_type": "code",
      "metadata": {
        "id": "2Vvx8Q1LvKJJ"
      },
      "source": [
        "dd.sex"
      ],
      "execution_count": null,
      "outputs": []
    },
    {
      "cell_type": "code",
      "metadata": {
        "id": "MqtdvnYsvRpP"
      },
      "source": [
        "dstats = dd.height.describe()"
      ],
      "execution_count": null,
      "outputs": []
    },
    {
      "cell_type": "code",
      "metadata": {
        "id": "kmCvIZIlvUc7"
      },
      "source": [
        "type(dd.height.describe())"
      ],
      "execution_count": null,
      "outputs": []
    },
    {
      "cell_type": "code",
      "metadata": {
        "id": "Oj49FIN9v0CS"
      },
      "source": [
        "dstats[\"mean\"]"
      ],
      "execution_count": null,
      "outputs": []
    },
    {
      "cell_type": "code",
      "metadata": {
        "id": "cMSxRpFIv9wl"
      },
      "source": [
        "dd.head()"
      ],
      "execution_count": null,
      "outputs": []
    },
    {
      "cell_type": "code",
      "metadata": {
        "id": "0C4Be1wEwhD-"
      },
      "source": [
        "data"
      ],
      "execution_count": null,
      "outputs": []
    },
    {
      "cell_type": "code",
      "metadata": {
        "id": "tdyxH_u2xITS"
      },
      "source": [
        "men = data[data.Gender == \"Male\"]\n",
        "women = data[data.Gender == \"Female\"]"
      ],
      "execution_count": null,
      "outputs": []
    },
    {
      "cell_type": "code",
      "metadata": {
        "id": "At3azFZtxOty"
      },
      "source": [
        "type(men)"
      ],
      "execution_count": null,
      "outputs": []
    },
    {
      "cell_type": "code",
      "metadata": {
        "id": "eVXMuwppxU2e"
      },
      "source": [
        "men.describe()"
      ],
      "execution_count": null,
      "outputs": []
    },
    {
      "cell_type": "code",
      "metadata": {
        "id": "G2cCBVlDxen1"
      },
      "source": [
        "tall = data[data[\"Height\"] >= 175]"
      ],
      "execution_count": null,
      "outputs": []
    },
    {
      "cell_type": "code",
      "metadata": {
        "id": "ivsAoHihxqgy"
      },
      "source": [
        "tall.describe()"
      ],
      "execution_count": null,
      "outputs": []
    },
    {
      "cell_type": "code",
      "metadata": {
        "id": "Q_KedvQxxsVa"
      },
      "source": [
        "set(data.Gender)"
      ],
      "execution_count": null,
      "outputs": []
    },
    {
      "cell_type": "markdown",
      "metadata": {
        "id": "gWv4OJlL5CaW"
      },
      "source": [
        "## Break"
      ]
    },
    {
      "cell_type": "code",
      "metadata": {
        "id": "T9gfjlvTzCJN"
      },
      "source": [
        "a = 7\n",
        "b = -4"
      ],
      "execution_count": null,
      "outputs": []
    },
    {
      "cell_type": "code",
      "metadata": {
        "id": "UsQYEjcb11-F"
      },
      "source": [
        "print(f'{a}x + {b}')"
      ],
      "execution_count": null,
      "outputs": []
    },
    {
      "cell_type": "code",
      "metadata": {
        "id": "ji9QYJIV2Hmp"
      },
      "source": [
        "def signOf(x):\n",
        "    if x >= 0:\n",
        "        return '+'\n",
        "    else:\n",
        "        return '-'"
      ],
      "execution_count": null,
      "outputs": []
    },
    {
      "cell_type": "code",
      "metadata": {
        "id": "1vElHBrF1-KM"
      },
      "source": [
        "print(f'{a}x {signOf(b)} {abs(b)}')"
      ],
      "execution_count": null,
      "outputs": []
    },
    {
      "cell_type": "code",
      "metadata": {
        "id": "IDdxf9tV5INA"
      },
      "source": [
        "data.to_excel(\"ghw.xls\")"
      ],
      "execution_count": null,
      "outputs": []
    },
    {
      "cell_type": "code",
      "metadata": {
        "id": "9Yk5YKdG6wgV"
      },
      "source": [
        "pd.read_csv?"
      ],
      "execution_count": null,
      "outputs": []
    },
    {
      "cell_type": "code",
      "metadata": {
        "id": "MXqiBZ6l7HbS"
      },
      "source": [
        "a = '7'\n",
        "b = \"non\""
      ],
      "execution_count": null,
      "outputs": []
    },
    {
      "cell_type": "code",
      "metadata": {
        "id": "Zl_pHNaJ82ZC"
      },
      "source": [
        "def int_or_NULL(a):\n",
        "    try:\n",
        "        x = int(a)\n",
        "    except ValueError:\n",
        "        x = \"NULL\"\n",
        "    return x"
      ],
      "execution_count": null,
      "outputs": []
    },
    {
      "cell_type": "code",
      "metadata": {
        "id": "PL7Rw7dq9N06"
      },
      "source": [
        "int_or_NULL(a)"
      ],
      "execution_count": null,
      "outputs": []
    },
    {
      "cell_type": "code",
      "metadata": {
        "id": "lP3wRcKp9R6j"
      },
      "source": [
        "int_or_NULL(b)"
      ],
      "execution_count": null,
      "outputs": []
    },
    {
      "cell_type": "markdown",
      "metadata": {
        "id": "ISR_a_972QFc"
      },
      "source": [
        "## Charting and visualization"
      ]
    },
    {
      "cell_type": "code",
      "metadata": {
        "id": "9oiO38Zy9WG8"
      },
      "source": [
        "import matplotlib.pyplot as plt"
      ],
      "execution_count": null,
      "outputs": []
    },
    {
      "cell_type": "code",
      "metadata": {
        "id": "VpJDcEFX9-R8"
      },
      "source": [
        "plt.plot(data.Height, data.Weight, 'b+')\n",
        "plt.show()"
      ],
      "execution_count": null,
      "outputs": []
    },
    {
      "cell_type": "code",
      "metadata": {
        "id": "FeyUosrt-jQd"
      },
      "source": [
        "plt.plot(men.Height, men.Weight, 'k*')\n",
        "plt.plot(women.Height, women.Weight, 'g+')\n",
        "plt.xlabel(\"Height (in cm)\")\n",
        "plt.ylabel(\"Weight (in kg)\")\n",
        "plt.show()"
      ],
      "execution_count": null,
      "outputs": []
    },
    {
      "cell_type": "code",
      "metadata": {
        "id": "qAlG0qCh-8J6"
      },
      "source": [
        "import altair as alt"
      ],
      "execution_count": null,
      "outputs": []
    },
    {
      "cell_type": "code",
      "metadata": {
        "id": "cVAqzdHVFK-3"
      },
      "source": [
        "import pygraphviz"
      ],
      "execution_count": null,
      "outputs": []
    },
    {
      "cell_type": "code",
      "metadata": {
        "id": "PXRp3sAkFgH_"
      },
      "source": [
        "pd.read"
      ],
      "execution_count": null,
      "outputs": []
    },
    {
      "cell_type": "code",
      "metadata": {
        "id": "scaCHX1ocN0J"
      },
      "source": [
        "import numpy as np"
      ],
      "execution_count": null,
      "outputs": []
    },
    {
      "cell_type": "code",
      "metadata": {
        "id": "qQAmEQhcfmHC"
      },
      "source": [
        "a = [1, 5, 6, 8]"
      ],
      "execution_count": null,
      "outputs": []
    },
    {
      "cell_type": "code",
      "metadata": {
        "id": "bOVw8toZfn7b"
      },
      "source": [
        "a + 2"
      ],
      "execution_count": null,
      "outputs": []
    },
    {
      "cell_type": "code",
      "metadata": {
        "id": "juIe4ouefr0e"
      },
      "source": [
        "a + a"
      ],
      "execution_count": null,
      "outputs": []
    },
    {
      "cell_type": "code",
      "metadata": {
        "id": "k8tszzQ1ftdV"
      },
      "source": [
        "a * 3"
      ],
      "execution_count": null,
      "outputs": []
    },
    {
      "cell_type": "code",
      "metadata": {
        "id": "wBDh2ogwfu_j"
      },
      "source": [
        "a * a"
      ],
      "execution_count": null,
      "outputs": []
    },
    {
      "cell_type": "code",
      "metadata": {
        "id": "r4BHeRgbfv-E"
      },
      "source": [
        "b = np.array([1, 5, 6, 8])"
      ],
      "execution_count": null,
      "outputs": []
    },
    {
      "cell_type": "code",
      "metadata": {
        "id": "jEUABF9gf-Em"
      },
      "source": [
        "len(b)"
      ],
      "execution_count": null,
      "outputs": []
    },
    {
      "cell_type": "code",
      "metadata": {
        "id": "2iK3SHRUf_rF"
      },
      "source": [
        "b + 2"
      ],
      "execution_count": null,
      "outputs": []
    },
    {
      "cell_type": "code",
      "metadata": {
        "id": "uAtkzL9ZgDVn"
      },
      "source": [
        "b + b"
      ],
      "execution_count": null,
      "outputs": []
    },
    {
      "cell_type": "code",
      "metadata": {
        "id": "2epbpmWGgUvL"
      },
      "source": [
        "b * 3"
      ],
      "execution_count": null,
      "outputs": []
    },
    {
      "cell_type": "code",
      "metadata": {
        "id": "t99-N3HOgZuq"
      },
      "source": [
        "b * b"
      ],
      "execution_count": null,
      "outputs": []
    },
    {
      "cell_type": "code",
      "metadata": {
        "id": "DJPGeE2wgjVm"
      },
      "source": [
        "c = np.array([4, -2, 4, 7])"
      ],
      "execution_count": null,
      "outputs": []
    },
    {
      "cell_type": "code",
      "metadata": {
        "id": "ZtG9jjtmg28f"
      },
      "source": [
        "b + c"
      ],
      "execution_count": null,
      "outputs": []
    },
    {
      "cell_type": "code",
      "metadata": {
        "id": "C3LzVxVTg4BG"
      },
      "source": [
        "b * c"
      ],
      "execution_count": null,
      "outputs": []
    },
    {
      "cell_type": "code",
      "metadata": {
        "id": "VBCSFBE0g5br"
      },
      "source": [
        "b.T"
      ],
      "execution_count": null,
      "outputs": []
    },
    {
      "cell_type": "code",
      "metadata": {
        "id": "TwUCOLMIhG8t"
      },
      "source": [
        "(b.T)@c"
      ],
      "execution_count": null,
      "outputs": []
    },
    {
      "cell_type": "code",
      "metadata": {
        "id": "bzkefIhHhKwp"
      },
      "source": [
        "c @ (b.T)"
      ],
      "execution_count": null,
      "outputs": []
    },
    {
      "cell_type": "code",
      "metadata": {
        "id": "wz-tOnzjhNYa"
      },
      "source": [
        "a2 = np.array([[1, 2, 3], [-4,-6, -5], [12, -4, 7]])"
      ],
      "execution_count": null,
      "outputs": []
    },
    {
      "cell_type": "code",
      "metadata": {
        "id": "eF7sg5wMhaAL"
      },
      "source": [
        "a2.shape"
      ],
      "execution_count": null,
      "outputs": []
    },
    {
      "cell_type": "code",
      "metadata": {
        "id": "qj1tAM_XhbTN"
      },
      "source": [
        "a2 + 2"
      ],
      "execution_count": null,
      "outputs": []
    },
    {
      "cell_type": "code",
      "metadata": {
        "id": "QdwTiKYmhgM9"
      },
      "source": [
        "a2 * 3"
      ],
      "execution_count": null,
      "outputs": []
    },
    {
      "cell_type": "code",
      "metadata": {
        "id": "Y0FR599AhiwE"
      },
      "source": [
        "a2 * a2"
      ],
      "execution_count": null,
      "outputs": []
    },
    {
      "cell_type": "code",
      "metadata": {
        "id": "UcpCYj6YhmaG"
      },
      "source": [
        "a2"
      ],
      "execution_count": null,
      "outputs": []
    },
    {
      "cell_type": "code",
      "metadata": {
        "id": "b7RVZDTmhs2x"
      },
      "source": [
        "a2.T"
      ],
      "execution_count": null,
      "outputs": []
    },
    {
      "cell_type": "code",
      "metadata": {
        "id": "vAd69e9qhuTu"
      },
      "source": [
        "a2 @ a2"
      ],
      "execution_count": null,
      "outputs": []
    },
    {
      "cell_type": "code",
      "metadata": {
        "id": "bpaz2hHyh34m"
      },
      "source": [
        "np.arange?"
      ],
      "execution_count": null,
      "outputs": []
    },
    {
      "cell_type": "code",
      "metadata": {
        "id": "mBlOGK-Gin3K"
      },
      "source": [
        "r1 = np.arange(-np.pi, np.pi, 0.2)"
      ],
      "execution_count": null,
      "outputs": []
    },
    {
      "cell_type": "code",
      "metadata": {
        "id": "qMegWepni-wO"
      },
      "source": [
        "r1"
      ],
      "execution_count": null,
      "outputs": []
    },
    {
      "cell_type": "code",
      "metadata": {
        "id": "zz9nChP0i__H"
      },
      "source": [
        "r2 = np.linspace(-np.pi, np.pi, 20)"
      ],
      "execution_count": null,
      "outputs": []
    },
    {
      "cell_type": "code",
      "metadata": {
        "id": "6Ais8dO1jWOB"
      },
      "source": [
        "r2"
      ],
      "execution_count": null,
      "outputs": []
    },
    {
      "cell_type": "code",
      "metadata": {
        "id": "N8s0kDAFjazp"
      },
      "source": [
        "sr2 = np.sin(r2)"
      ],
      "execution_count": null,
      "outputs": []
    },
    {
      "cell_type": "code",
      "metadata": {
        "id": "YMC5PsuQjqJ6"
      },
      "source": [
        "sr2"
      ],
      "execution_count": null,
      "outputs": []
    },
    {
      "cell_type": "code",
      "metadata": {
        "id": "tSlqRo43jrMc"
      },
      "source": [
        "plt.plot(r2, sr2)"
      ],
      "execution_count": null,
      "outputs": []
    },
    {
      "cell_type": "code",
      "metadata": {
        "id": "l8W93zWdjyhq"
      },
      "source": [
        "r2.shape"
      ],
      "execution_count": null,
      "outputs": []
    },
    {
      "cell_type": "code",
      "metadata": {
        "id": "uIty8ERMkJnh"
      },
      "source": [
        "r254 = r2.reshape(5, 4)"
      ],
      "execution_count": null,
      "outputs": []
    },
    {
      "cell_type": "code",
      "metadata": {
        "id": "a7SjtfPhkMUg"
      },
      "source": [
        "r254"
      ],
      "execution_count": null,
      "outputs": []
    },
    {
      "cell_type": "markdown",
      "metadata": {
        "id": "ZEoFqLM8kQER"
      },
      "source": [
        "# NumPy\n",
        "For creating and manipulating numerical arrays -- 1, 2, 3, n dimensions"
      ]
    },
    {
      "cell_type": "markdown",
      "metadata": {
        "id": "hchJEruXn9RU"
      },
      "source": [
        "# SciPy\n",
        "A collection of libraries for scientific computing: most useful from DS/AI/ML viepoint is the linalg library"
      ]
    },
    {
      "cell_type": "code",
      "metadata": {
        "id": "IMVLbquOoVyU"
      },
      "source": [
        "import numpy as np"
      ],
      "execution_count": null,
      "outputs": []
    },
    {
      "cell_type": "code",
      "metadata": {
        "id": "gZtpEKg2tqee"
      },
      "source": [
        "arr = np.arange(1, 50, 1)"
      ],
      "execution_count": null,
      "outputs": []
    },
    {
      "cell_type": "code",
      "metadata": {
        "id": "rcxSvcHI4y7k"
      },
      "source": [
        "arr[2:]"
      ],
      "execution_count": null,
      "outputs": []
    },
    {
      "cell_type": "code",
      "metadata": {
        "id": "Y493BpAZ4zn9"
      },
      "source": [
        "arr2 = np.arange(0, 50, 1).reshape(10,5 )"
      ],
      "execution_count": null,
      "outputs": []
    },
    {
      "cell_type": "code",
      "metadata": {
        "id": "nFndAjwf5GmF"
      },
      "source": [
        "arr2"
      ],
      "execution_count": null,
      "outputs": []
    },
    {
      "cell_type": "code",
      "metadata": {
        "id": "FPBbJ4ct5IOd"
      },
      "source": [
        "arr2[1:]"
      ],
      "execution_count": null,
      "outputs": []
    },
    {
      "cell_type": "code",
      "metadata": {
        "id": "KDOV43zG5QIo"
      },
      "source": [
        "arr2[:, 1:]"
      ],
      "execution_count": null,
      "outputs": []
    },
    {
      "cell_type": "code",
      "metadata": {
        "id": "ZG7iztCn5oqo"
      },
      "source": [
        "arr2[::2]"
      ],
      "execution_count": null,
      "outputs": []
    },
    {
      "cell_type": "code",
      "metadata": {
        "id": "Z-0XrkIy5sNO"
      },
      "source": [
        "arr2[:, ::2]"
      ],
      "execution_count": null,
      "outputs": []
    },
    {
      "cell_type": "markdown",
      "metadata": {
        "id": "DADmCbcc5x00"
      },
      "source": [
        "shifu@talentsprint.com"
      ]
    },
    {
      "cell_type": "code",
      "metadata": {
        "id": "xtA4FZxM6-wC"
      },
      "source": [
        ""
      ],
      "execution_count": null,
      "outputs": []
    }
  ]
}