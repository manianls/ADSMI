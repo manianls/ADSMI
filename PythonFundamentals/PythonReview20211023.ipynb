{
  "nbformat": 4,
  "nbformat_minor": 0,
  "metadata": {
    "colab": {
      "name": "PythonReview20211023.ipynb",
      "provenance": [],
      "authorship_tag": "ABX9TyMca/3NJZGDqZuvixFy40bR",
      "include_colab_link": true
    },
    "kernelspec": {
      "name": "python3",
      "display_name": "Python 3"
    },
    "language_info": {
      "name": "python"
    }
  },
  "cells": [
    {
      "cell_type": "markdown",
      "metadata": {
        "id": "view-in-github",
        "colab_type": "text"
      },
      "source": [
        "<a href=\"https://colab.research.google.com/github/manianls/ADSMI/blob/main/PythonFundamentals/PythonReview20211023.ipynb\" target=\"_parent\"><img src=\"https://colab.research.google.com/assets/colab-badge.svg\" alt=\"Open In Colab\"/></a>"
      ]
    },
    {
      "cell_type": "markdown",
      "metadata": {
        "id": "MdV2F5oqRaUG"
      },
      "source": [
        "# Euler Problem\n",
        "If we list all the natural numbers below 10 that are multiples of 3 or 5, we get 3, 5, 6 and 9. The sum of these multiples is 23.\n",
        "\n",
        "Find the sum of all the multiples of 3 or 5 below 1000."
      ]
    },
    {
      "cell_type": "code",
      "metadata": {
        "id": "R8kFURLrRksr"
      },
      "source": [
        "LIMIT = 1000\n",
        "n, total = 3,0\n",
        "while n < LIMIT:\n",
        "    if n % 3 == 0 or n % 5 == 0:\n",
        "        total += n\n",
        "    n += 1"
      ],
      "execution_count": null,
      "outputs": []
    },
    {
      "cell_type": "code",
      "metadata": {
        "colab": {
          "base_uri": "https://localhost:8080/"
        },
        "id": "bPqygcNZSGRp",
        "outputId": "efa1b5ea-95b8-4919-f134-7ac3bc9e1a35"
      },
      "source": [
        "print (total)"
      ],
      "execution_count": null,
      "outputs": [
        {
          "output_type": "stream",
          "name": "stdout",
          "text": [
            "233168\n"
          ]
        }
      ]
    },
    {
      "cell_type": "code",
      "metadata": {
        "id": "VfY7vHpXfr-l"
      },
      "source": [
        "def select(n: int) -> bool:\n",
        "    return n % 3 == 0 or n % 5 == 0"
      ],
      "execution_count": null,
      "outputs": []
    },
    {
      "cell_type": "code",
      "metadata": {
        "id": "YMjUOtBcf2jf"
      },
      "source": [
        "LIMIT = 1000\n",
        "n, total = 1,0\n",
        "while n < LIMIT: \n",
        "    if select(n):\n",
        "        total += n\n",
        "    n += 1"
      ],
      "execution_count": null,
      "outputs": []
    },
    {
      "cell_type": "code",
      "metadata": {
        "colab": {
          "base_uri": "https://localhost:8080/"
        },
        "id": "cDMGaDgFgCQ6",
        "outputId": "0aad3bfa-00a6-49a3-9ea9-1a8355e56129"
      },
      "source": [
        "print(total)"
      ],
      "execution_count": null,
      "outputs": [
        {
          "output_type": "stream",
          "name": "stdout",
          "text": [
            "233168\n"
          ]
        }
      ]
    },
    {
      "cell_type": "code",
      "metadata": {
        "id": "jlc73Zh8iPqR",
        "colab": {
          "base_uri": "https://localhost:8080/"
        },
        "outputId": "afcd5dde-a24c-4b0d-b208-62549b335fa4"
      },
      "source": [
        "!python --version"
      ],
      "execution_count": null,
      "outputs": [
        {
          "output_type": "stream",
          "name": "stdout",
          "text": [
            "Python 3.7.12\n"
          ]
        }
      ]
    },
    {
      "cell_type": "code",
      "metadata": {
        "id": "WN13A184ilZV"
      },
      "source": [
        "def pick(n):\n",
        "    return n % 3 == 0 or n % 5 == 0"
      ],
      "execution_count": null,
      "outputs": []
    },
    {
      "cell_type": "markdown",
      "metadata": {
        "id": "y7f96JmKuOHm"
      },
      "source": [
        "# Range\n"
      ]
    },
    {
      "cell_type": "code",
      "metadata": {
        "id": "vFclubqki-Nz",
        "colab": {
          "base_uri": "https://localhost:8080/"
        },
        "outputId": "a6b580ba-f1a7-417a-abe5-ef176be30570"
      },
      "source": [
        "range(10)"
      ],
      "execution_count": null,
      "outputs": [
        {
          "output_type": "execute_result",
          "data": {
            "text/plain": [
              "range(0, 10)"
            ]
          },
          "metadata": {},
          "execution_count": 6
        }
      ]
    },
    {
      "cell_type": "code",
      "metadata": {
        "id": "fmZpbrdGt3TS",
        "colab": {
          "base_uri": "https://localhost:8080/"
        },
        "outputId": "57cc240f-dcb4-4b6e-c89e-5045eea7332d"
      },
      "source": [
        "list(range(10))"
      ],
      "execution_count": null,
      "outputs": [
        {
          "output_type": "execute_result",
          "data": {
            "text/plain": [
              "[0, 1, 2, 3, 4, 5, 6, 7, 8, 9]"
            ]
          },
          "metadata": {},
          "execution_count": 7
        }
      ]
    },
    {
      "cell_type": "code",
      "metadata": {
        "id": "VdXUwPoxt8Nz",
        "colab": {
          "base_uri": "https://localhost:8080/"
        },
        "outputId": "96776c04-ef5f-4ed2-f002-7c659b7d9cdb"
      },
      "source": [
        "list(range(6,17))"
      ],
      "execution_count": null,
      "outputs": [
        {
          "output_type": "execute_result",
          "data": {
            "text/plain": [
              "[6, 7, 8, 9, 10, 11, 12, 13, 14, 15, 16]"
            ]
          },
          "metadata": {},
          "execution_count": 8
        }
      ]
    },
    {
      "cell_type": "code",
      "metadata": {
        "id": "dH23tOCnuCzB",
        "colab": {
          "base_uri": "https://localhost:8080/"
        },
        "outputId": "bdf35080-5d5e-49bf-b8c2-2277f5e89d49"
      },
      "source": [
        "list(range(4,19,3))"
      ],
      "execution_count": null,
      "outputs": [
        {
          "output_type": "execute_result",
          "data": {
            "text/plain": [
              "[4, 7, 10, 13, 16]"
            ]
          },
          "metadata": {},
          "execution_count": 9
        }
      ]
    },
    {
      "cell_type": "code",
      "metadata": {
        "id": "grRlnLd6u3YK"
      },
      "source": [
        "def euler00(LIMIT = 1000):\n",
        "    m3 = range(3,LIMIT,3)\n",
        "    m5 = range(5, LIMIT,5)\n",
        "    m15 = range(15, LIMIT, 15)\n",
        "    return sum(m3) + sum(m5) - sum(m15)"
      ],
      "execution_count": null,
      "outputs": []
    },
    {
      "cell_type": "code",
      "metadata": {
        "id": "Uyodj3F6vZaW",
        "colab": {
          "base_uri": "https://localhost:8080/"
        },
        "outputId": "5b701fe9-1ac8-4d59-917b-3b027f75c065"
      },
      "source": [
        "euler00()"
      ],
      "execution_count": null,
      "outputs": [
        {
          "output_type": "execute_result",
          "data": {
            "text/plain": [
              "233168"
            ]
          },
          "metadata": {},
          "execution_count": 13
        }
      ]
    },
    {
      "cell_type": "code",
      "metadata": {
        "id": "XX1Bt6KMy54b",
        "outputId": "7a171b97-8912-4a06-a3ba-78772ccf5d7e",
        "colab": {
          "base_uri": "https://localhost:8080/"
        }
      },
      "source": [
        "euler00(10)"
      ],
      "execution_count": 14,
      "outputs": [
        {
          "output_type": "execute_result",
          "data": {
            "text/plain": [
              "23"
            ]
          },
          "metadata": {},
          "execution_count": 14
        }
      ]
    },
    {
      "cell_type": "code",
      "metadata": {
        "id": "1nkkyBV513yc"
      },
      "source": [
        "def euler01(LIMIT = 1000):\n",
        "    return sum(set(range(3, LIMIT, 3)) | set(range(5, LIMIT, 5)))"
      ],
      "execution_count": 15,
      "outputs": []
    },
    {
      "cell_type": "markdown",
      "metadata": {
        "id": "3zknqTuC2QI5"
      },
      "source": [
        "# \"|\" represents union of two sets "
      ]
    },
    {
      "cell_type": "code",
      "metadata": {
        "id": "yTJDC1uu2LoX",
        "outputId": "f31a3ead-7a9f-4124-ec08-23841ef153fe",
        "colab": {
          "base_uri": "https://localhost:8080/"
        }
      },
      "source": [
        "print(euler01(10))"
      ],
      "execution_count": 17,
      "outputs": [
        {
          "output_type": "stream",
          "name": "stdout",
          "text": [
            "23\n"
          ]
        }
      ]
    },
    {
      "cell_type": "code",
      "metadata": {
        "id": "SMfRHjym8ivB"
      },
      "source": [
        "def is_perfect_cube(n):\n",
        "    n = abs(n)\n",
        "    r = 0\n",
        "    while r * r* r < n:\n",
        "        r += 1\n",
        "    return r* r * r == n"
      ],
      "execution_count": 32,
      "outputs": []
    },
    {
      "cell_type": "code",
      "metadata": {
        "id": "ab55IU4y80vM",
        "outputId": "1b4c38c1-df1e-4058-e8a4-dcbb41397e48",
        "colab": {
          "base_uri": "https://localhost:8080/"
        }
      },
      "source": [
        "is_perfect_cube(1000)"
      ],
      "execution_count": 33,
      "outputs": [
        {
          "output_type": "execute_result",
          "data": {
            "text/plain": [
              "True"
            ]
          },
          "metadata": {},
          "execution_count": 33
        }
      ]
    },
    {
      "cell_type": "code",
      "metadata": {
        "id": "wEAd3hLMAiy_"
      },
      "source": [
        "def ceil_cube_root(n):\n",
        "    n = abs(n)\n",
        "    r = 0\n",
        "    while r * r* r < n:\n",
        "        r += 1\n",
        "    return r"
      ],
      "execution_count": 42,
      "outputs": []
    },
    {
      "cell_type": "code",
      "metadata": {
        "id": "Q6DV2iv2AnwK",
        "outputId": "8b1be961-85d9-436d-bcc4-a3f6367eec99",
        "colab": {
          "base_uri": "https://localhost:8080/"
        }
      },
      "source": [
        "ceil_cube_root(28)"
      ],
      "execution_count": 43,
      "outputs": [
        {
          "output_type": "execute_result",
          "data": {
            "text/plain": [
              "4"
            ]
          },
          "metadata": {},
          "execution_count": 43
        }
      ]
    },
    {
      "cell_type": "code",
      "metadata": {
        "id": "DhMTVdfkC-17"
      },
      "source": [
        "def all_digits_even(n):\n",
        "    while n > 0:\n",
        "        if n % 2 == 1:\n",
        "            return False\n",
        "        n //= 10\n",
        "    return True"
      ],
      "execution_count": 58,
      "outputs": []
    },
    {
      "cell_type": "code",
      "metadata": {
        "id": "_PRyPWQMDM9H",
        "outputId": "3fbf863c-b4f2-413f-bb04-3aa6e88f4093",
        "colab": {
          "base_uri": "https://localhost:8080/"
        }
      },
      "source": [
        "all_digits_even(446)"
      ],
      "execution_count": 60,
      "outputs": [
        {
          "output_type": "execute_result",
          "data": {
            "text/plain": [
              "True"
            ]
          },
          "metadata": {},
          "execution_count": 60
        }
      ]
    },
    {
      "cell_type": "code",
      "metadata": {
        "id": "TRQAD9NGEbSe"
      },
      "source": [
        "def all_digits_even1(n: int) -> bool:\n",
        "    while n > 0:\n",
        "        if n % 2 == 1:\n",
        "            return False\n",
        "        n //= 10\n",
        "    return True"
      ],
      "execution_count": 62,
      "outputs": []
    },
    {
      "cell_type": "code",
      "metadata": {
        "id": "JWuiCgWNEnZG",
        "outputId": "4a5ff864-cec8-4146-c012-16a3746df863",
        "colab": {
          "base_uri": "https://localhost:8080/"
        }
      },
      "source": [
        "all_digits_even1(446)"
      ],
      "execution_count": 63,
      "outputs": [
        {
          "output_type": "execute_result",
          "data": {
            "text/plain": [
              "True"
            ]
          },
          "metadata": {},
          "execution_count": 63
        }
      ]
    }
  ]
}