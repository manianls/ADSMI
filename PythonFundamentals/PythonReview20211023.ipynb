{
  "nbformat": 4,
  "nbformat_minor": 0,
  "metadata": {
    "colab": {
      "name": "PythonReview20211023.ipynb",
      "provenance": [],
      "authorship_tag": "ABX9TyMYjvtQOEeD4LWIG+G8sJp/",
      "include_colab_link": true
    },
    "kernelspec": {
      "name": "python3",
      "display_name": "Python 3"
    },
    "language_info": {
      "name": "python"
    }
  },
  "cells": [
    {
      "cell_type": "markdown",
      "metadata": {
        "id": "view-in-github",
        "colab_type": "text"
      },
      "source": [
        "<a href=\"https://colab.research.google.com/github/manianls/ADSMI/blob/main/PythonFundamentals/PythonReview20211023.ipynb\" target=\"_parent\"><img src=\"https://colab.research.google.com/assets/colab-badge.svg\" alt=\"Open In Colab\"/></a>"
      ]
    },
    {
      "cell_type": "markdown",
      "metadata": {
        "id": "MdV2F5oqRaUG"
      },
      "source": [
        "# Euler Problem\n",
        "If we list all the natural numbers below 10 that are multiples of 3 or 5, we get 3, 5, 6 and 9. The sum of these multiples is 23.\n",
        "\n",
        "Find the sum of all the multiples of 3 or 5 below 1000."
      ]
    },
    {
      "cell_type": "code",
      "metadata": {
        "id": "R8kFURLrRksr"
      },
      "source": [
        "LIMIT = 1000\n",
        "n, total = 3,0\n",
        "while n < LIMIT:\n",
        "    if n % 3 == 0 or n % 5 == 0:\n",
        "        total += n\n",
        "    n += 1"
      ],
      "execution_count": 3,
      "outputs": []
    },
    {
      "cell_type": "code",
      "metadata": {
        "colab": {
          "base_uri": "https://localhost:8080/"
        },
        "id": "bPqygcNZSGRp",
        "outputId": "efa1b5ea-95b8-4919-f134-7ac3bc9e1a35"
      },
      "source": [
        "print (total)"
      ],
      "execution_count": 4,
      "outputs": [
        {
          "output_type": "stream",
          "name": "stdout",
          "text": [
            "233168\n"
          ]
        }
      ]
    }
  ]
}