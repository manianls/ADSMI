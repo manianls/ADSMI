{
  "nbformat": 4,
  "nbformat_minor": 0,
  "metadata": {
    "colab": {
      "name": "PythonReview20211023.ipynb",
      "provenance": [],
      "authorship_tag": "ABX9TyPtqmF3zUgR9BmgVuOyzpQ/",
      "include_colab_link": true
    },
    "kernelspec": {
      "name": "python3",
      "display_name": "Python 3"
    },
    "language_info": {
      "name": "python"
    }
  },
  "cells": [
    {
      "cell_type": "markdown",
      "metadata": {
        "id": "view-in-github",
        "colab_type": "text"
      },
      "source": [
        "<a href=\"https://colab.research.google.com/github/manianls/ADSMI/blob/main/PythonFundamentals/PythonReview20211023.ipynb\" target=\"_parent\"><img src=\"https://colab.research.google.com/assets/colab-badge.svg\" alt=\"Open In Colab\"/></a>"
      ]
    },
    {
      "cell_type": "markdown",
      "metadata": {
        "id": "MdV2F5oqRaUG"
      },
      "source": [
        "# Euler Problem\n",
        "If we list all the natural numbers below 10 that are multiples of 3 or 5, we get 3, 5, 6 and 9. The sum of these multiples is 23.\n",
        "\n",
        "Find the sum of all the multiples of 3 or 5 below 1000."
      ]
    },
    {
      "cell_type": "code",
      "metadata": {
        "id": "R8kFURLrRksr"
      },
      "source": [
        "LIMIT = 1000\n",
        "n, total = 3,0\n",
        "while n < LIMIT:\n",
        "    if n % 3 == 0 or n % 5 == 0:\n",
        "        total += n\n",
        "    n += 1"
      ],
      "execution_count": null,
      "outputs": []
    },
    {
      "cell_type": "code",
      "metadata": {
        "colab": {
          "base_uri": "https://localhost:8080/"
        },
        "id": "bPqygcNZSGRp",
        "outputId": "efa1b5ea-95b8-4919-f134-7ac3bc9e1a35"
      },
      "source": [
        "print (total)"
      ],
      "execution_count": null,
      "outputs": [
        {
          "output_type": "stream",
          "name": "stdout",
          "text": [
            "233168\n"
          ]
        }
      ]
    },
    {
      "cell_type": "code",
      "metadata": {
        "id": "VfY7vHpXfr-l"
      },
      "source": [
        "def select(n: int) -> bool:\n",
        "    return n % 3 == 0 or n % 5 == 0"
      ],
      "execution_count": null,
      "outputs": []
    },
    {
      "cell_type": "code",
      "metadata": {
        "id": "YMjUOtBcf2jf"
      },
      "source": [
        "LIMIT = 1000\n",
        "n, total = 1,0\n",
        "while n < LIMIT: \n",
        "    if select(n):\n",
        "        total += n\n",
        "    n += 1"
      ],
      "execution_count": null,
      "outputs": []
    },
    {
      "cell_type": "code",
      "metadata": {
        "colab": {
          "base_uri": "https://localhost:8080/"
        },
        "id": "cDMGaDgFgCQ6",
        "outputId": "0aad3bfa-00a6-49a3-9ea9-1a8355e56129"
      },
      "source": [
        "print(total)"
      ],
      "execution_count": null,
      "outputs": [
        {
          "output_type": "stream",
          "name": "stdout",
          "text": [
            "233168\n"
          ]
        }
      ]
    },
    {
      "cell_type": "code",
      "metadata": {
        "id": "jlc73Zh8iPqR",
        "colab": {
          "base_uri": "https://localhost:8080/"
        },
        "outputId": "afcd5dde-a24c-4b0d-b208-62549b335fa4"
      },
      "source": [
        "!python --version"
      ],
      "execution_count": null,
      "outputs": [
        {
          "output_type": "stream",
          "name": "stdout",
          "text": [
            "Python 3.7.12\n"
          ]
        }
      ]
    },
    {
      "cell_type": "code",
      "metadata": {
        "id": "WN13A184ilZV"
      },
      "source": [
        "def pick(n):\n",
        "    return n % 3 == 0 or n % 5 == 0"
      ],
      "execution_count": null,
      "outputs": []
    },
    {
      "cell_type": "markdown",
      "metadata": {
        "id": "y7f96JmKuOHm"
      },
      "source": [
        "# Range\n"
      ]
    },
    {
      "cell_type": "code",
      "metadata": {
        "id": "vFclubqki-Nz",
        "colab": {
          "base_uri": "https://localhost:8080/"
        },
        "outputId": "a6b580ba-f1a7-417a-abe5-ef176be30570"
      },
      "source": [
        "range(10)"
      ],
      "execution_count": null,
      "outputs": [
        {
          "output_type": "execute_result",
          "data": {
            "text/plain": [
              "range(0, 10)"
            ]
          },
          "metadata": {},
          "execution_count": 6
        }
      ]
    },
    {
      "cell_type": "code",
      "metadata": {
        "id": "fmZpbrdGt3TS",
        "colab": {
          "base_uri": "https://localhost:8080/"
        },
        "outputId": "57cc240f-dcb4-4b6e-c89e-5045eea7332d"
      },
      "source": [
        "list(range(10))"
      ],
      "execution_count": null,
      "outputs": [
        {
          "output_type": "execute_result",
          "data": {
            "text/plain": [
              "[0, 1, 2, 3, 4, 5, 6, 7, 8, 9]"
            ]
          },
          "metadata": {},
          "execution_count": 7
        }
      ]
    },
    {
      "cell_type": "code",
      "metadata": {
        "id": "VdXUwPoxt8Nz",
        "colab": {
          "base_uri": "https://localhost:8080/"
        },
        "outputId": "96776c04-ef5f-4ed2-f002-7c659b7d9cdb"
      },
      "source": [
        "list(range(6,17))"
      ],
      "execution_count": null,
      "outputs": [
        {
          "output_type": "execute_result",
          "data": {
            "text/plain": [
              "[6, 7, 8, 9, 10, 11, 12, 13, 14, 15, 16]"
            ]
          },
          "metadata": {},
          "execution_count": 8
        }
      ]
    },
    {
      "cell_type": "code",
      "metadata": {
        "id": "dH23tOCnuCzB",
        "colab": {
          "base_uri": "https://localhost:8080/"
        },
        "outputId": "bdf35080-5d5e-49bf-b8c2-2277f5e89d49"
      },
      "source": [
        "list(range(4,19,3))"
      ],
      "execution_count": null,
      "outputs": [
        {
          "output_type": "execute_result",
          "data": {
            "text/plain": [
              "[4, 7, 10, 13, 16]"
            ]
          },
          "metadata": {},
          "execution_count": 9
        }
      ]
    },
    {
      "cell_type": "code",
      "metadata": {
        "id": "grRlnLd6u3YK"
      },
      "source": [
        "def euler00(LIMIT = 1000):\n",
        "    m3 = range(3,LIMIT,3)\n",
        "    m5 = range(5, LIMIT,5)\n",
        "    m15 = range(15, LIMIT, 15)\n",
        "    return sum(m3) + sum(m5) - sum(m15)"
      ],
      "execution_count": null,
      "outputs": []
    },
    {
      "cell_type": "code",
      "metadata": {
        "id": "Uyodj3F6vZaW",
        "colab": {
          "base_uri": "https://localhost:8080/"
        },
        "outputId": "5b701fe9-1ac8-4d59-917b-3b027f75c065"
      },
      "source": [
        "euler00()"
      ],
      "execution_count": null,
      "outputs": [
        {
          "output_type": "execute_result",
          "data": {
            "text/plain": [
              "233168"
            ]
          },
          "metadata": {},
          "execution_count": 13
        }
      ]
    },
    {
      "cell_type": "code",
      "metadata": {
        "colab": {
          "base_uri": "https://localhost:8080/"
        },
        "id": "XX1Bt6KMy54b",
        "outputId": "7a171b97-8912-4a06-a3ba-78772ccf5d7e"
      },
      "source": [
        "euler00(10)"
      ],
      "execution_count": 14,
      "outputs": [
        {
          "output_type": "execute_result",
          "data": {
            "text/plain": [
              "23"
            ]
          },
          "metadata": {},
          "execution_count": 14
        }
      ]
    },
    {
      "cell_type": "code",
      "metadata": {
        "id": "1nkkyBV513yc"
      },
      "source": [
        "def euler01(LIMIT = 1000):\n",
        "    return sum(set(range(3, LIMIT, 3)) | set(range(5, LIMIT, 5)))"
      ],
      "execution_count": 15,
      "outputs": []
    },
    {
      "cell_type": "markdown",
      "metadata": {
        "id": "3zknqTuC2QI5"
      },
      "source": [
        "# \"|\" represents union of two sets "
      ]
    },
    {
      "cell_type": "code",
      "metadata": {
        "colab": {
          "base_uri": "https://localhost:8080/"
        },
        "id": "yTJDC1uu2LoX",
        "outputId": "f31a3ead-7a9f-4124-ec08-23841ef153fe"
      },
      "source": [
        "print(euler01(10))"
      ],
      "execution_count": 17,
      "outputs": [
        {
          "output_type": "stream",
          "name": "stdout",
          "text": [
            "23\n"
          ]
        }
      ]
    },
    {
      "cell_type": "code",
      "metadata": {
        "id": "SMfRHjym8ivB"
      },
      "source": [
        "def is_perfect_cube(n):\n",
        "    n = abs(n)\n",
        "    r = 0\n",
        "    while r * r* r < n:\n",
        "        r += 1\n",
        "    return r* r * r == n"
      ],
      "execution_count": 32,
      "outputs": []
    },
    {
      "cell_type": "code",
      "metadata": {
        "colab": {
          "base_uri": "https://localhost:8080/"
        },
        "id": "ab55IU4y80vM",
        "outputId": "1b4c38c1-df1e-4058-e8a4-dcbb41397e48"
      },
      "source": [
        "is_perfect_cube(1000)"
      ],
      "execution_count": 33,
      "outputs": [
        {
          "output_type": "execute_result",
          "data": {
            "text/plain": [
              "True"
            ]
          },
          "metadata": {},
          "execution_count": 33
        }
      ]
    },
    {
      "cell_type": "code",
      "metadata": {
        "id": "wEAd3hLMAiy_"
      },
      "source": [
        "def ceil_cube_root(n):\n",
        "    n = abs(n)\n",
        "    r = 0\n",
        "    while r * r* r < n:\n",
        "        r += 1\n",
        "    return r"
      ],
      "execution_count": 42,
      "outputs": []
    },
    {
      "cell_type": "code",
      "metadata": {
        "colab": {
          "base_uri": "https://localhost:8080/"
        },
        "id": "Q6DV2iv2AnwK",
        "outputId": "8b1be961-85d9-436d-bcc4-a3f6367eec99"
      },
      "source": [
        "ceil_cube_root(28)"
      ],
      "execution_count": 43,
      "outputs": [
        {
          "output_type": "execute_result",
          "data": {
            "text/plain": [
              "4"
            ]
          },
          "metadata": {},
          "execution_count": 43
        }
      ]
    },
    {
      "cell_type": "code",
      "metadata": {
        "id": "DhMTVdfkC-17"
      },
      "source": [
        "def all_digits_even(n):\n",
        "    while n > 0:\n",
        "        if n % 2 == 1:\n",
        "            return False\n",
        "        n //= 10\n",
        "    return True"
      ],
      "execution_count": 58,
      "outputs": []
    },
    {
      "cell_type": "code",
      "metadata": {
        "colab": {
          "base_uri": "https://localhost:8080/"
        },
        "id": "_PRyPWQMDM9H",
        "outputId": "3fbf863c-b4f2-413f-bb04-3aa6e88f4093"
      },
      "source": [
        "all_digits_even(446)"
      ],
      "execution_count": 60,
      "outputs": [
        {
          "output_type": "execute_result",
          "data": {
            "text/plain": [
              "True"
            ]
          },
          "metadata": {},
          "execution_count": 60
        }
      ]
    },
    {
      "cell_type": "code",
      "metadata": {
        "id": "TRQAD9NGEbSe"
      },
      "source": [
        "def all_digits_even1(n: int) -> bool:\n",
        "    while n > 0:\n",
        "        if n % 2 == 1:\n",
        "            return False\n",
        "        n //= 10\n",
        "    return True"
      ],
      "execution_count": 62,
      "outputs": []
    },
    {
      "cell_type": "code",
      "metadata": {
        "colab": {
          "base_uri": "https://localhost:8080/"
        },
        "id": "JWuiCgWNEnZG",
        "outputId": "4a5ff864-cec8-4146-c012-16a3746df863"
      },
      "source": [
        "all_digits_even1(446)"
      ],
      "execution_count": 63,
      "outputs": [
        {
          "output_type": "execute_result",
          "data": {
            "text/plain": [
              "True"
            ]
          },
          "metadata": {},
          "execution_count": 63
        }
      ]
    },
    {
      "cell_type": "code",
      "metadata": {
        "id": "uCX_kIGVT6Dy"
      },
      "source": [
        "def is_prime(n: int) ->bool:\n",
        "    if n<2:\n",
        "        return False\n",
        "    if n in {2,3}:\n",
        "        return True\n",
        "    if n % 2 == 0:\n",
        "        return False\n",
        "    factor = 3\n",
        "    while factor * factor <= n:\n",
        "        if n % factor == 0:\n",
        "            return False\n",
        "        factor += 2\n",
        "    return True\n",
        "\n"
      ],
      "execution_count": 64,
      "outputs": []
    },
    {
      "cell_type": "code",
      "metadata": {
        "id": "n4wESEtVUm1S",
        "outputId": "692e86cd-62d5-4e5d-d02b-fb12c2b40a20",
        "colab": {
          "base_uri": "https://localhost:8080/"
        }
      },
      "source": [
        "is_prime(173)"
      ],
      "execution_count": 72,
      "outputs": [
        {
          "output_type": "execute_result",
          "data": {
            "text/plain": [
              "True"
            ]
          },
          "metadata": {},
          "execution_count": 72
        }
      ]
    },
    {
      "cell_type": "markdown",
      "metadata": {
        "id": "SQdV9LE4dg46"
      },
      "source": [
        "#Lists\n"
      ]
    },
    {
      "cell_type": "code",
      "metadata": {
        "id": "FxiImogXdlxG"
      },
      "source": [
        "p = [2, 3, 5, 7, 11, 13, 17, 19]"
      ],
      "execution_count": 73,
      "outputs": []
    },
    {
      "cell_type": "code",
      "metadata": {
        "id": "zazgNdzIe63B"
      },
      "source": [
        "a1 = [2, 7, 4.3, \"Hello\", True, 7>8]"
      ],
      "execution_count": 74,
      "outputs": []
    },
    {
      "cell_type": "code",
      "metadata": {
        "id": "n6gKGYj_fCbC"
      },
      "source": [
        "a2 = ['A', [3, 5, \"Hello\"], True, True, False, 7*8]"
      ],
      "execution_count": 75,
      "outputs": []
    },
    {
      "cell_type": "code",
      "metadata": {
        "id": "SVV5BNrhfMQf",
        "outputId": "dc4df11c-7c69-4f98-bfbb-49272516caa1",
        "colab": {
          "base_uri": "https://localhost:8080/"
        }
      },
      "source": [
        "p[2]"
      ],
      "execution_count": 76,
      "outputs": [
        {
          "output_type": "execute_result",
          "data": {
            "text/plain": [
              "5"
            ]
          },
          "metadata": {},
          "execution_count": 76
        }
      ]
    },
    {
      "cell_type": "code",
      "metadata": {
        "id": "bhqYpH1_gkZX",
        "outputId": "d62b58d1-0feb-41b6-d729-9f7d0480f753",
        "colab": {
          "base_uri": "https://localhost:8080/"
        }
      },
      "source": [
        "len(a2)"
      ],
      "execution_count": 78,
      "outputs": [
        {
          "output_type": "execute_result",
          "data": {
            "text/plain": [
              "6"
            ]
          },
          "metadata": {},
          "execution_count": 78
        }
      ]
    },
    {
      "cell_type": "code",
      "metadata": {
        "id": "5aa9mFCigrMx",
        "outputId": "c2e85985-189f-4c43-dcd9-ee3a5bc397d2",
        "colab": {
          "base_uri": "https://localhost:8080/"
        }
      },
      "source": [
        "a2[len(a2)-1]"
      ],
      "execution_count": 79,
      "outputs": [
        {
          "output_type": "execute_result",
          "data": {
            "text/plain": [
              "56"
            ]
          },
          "metadata": {},
          "execution_count": 79
        }
      ]
    },
    {
      "cell_type": "code",
      "metadata": {
        "id": "c_eVnuIIhqGh",
        "outputId": "8c71ad9b-ea6e-4199-8b1b-19143ec835dd",
        "colab": {
          "base_uri": "https://localhost:8080/"
        }
      },
      "source": [
        "a2[-1]"
      ],
      "execution_count": 80,
      "outputs": [
        {
          "output_type": "execute_result",
          "data": {
            "text/plain": [
              "56"
            ]
          },
          "metadata": {},
          "execution_count": 80
        }
      ]
    },
    {
      "cell_type": "code",
      "metadata": {
        "id": "PERMoxezhtdd",
        "outputId": "72f44483-ed84-498b-f95a-f01b25397aeb",
        "colab": {
          "base_uri": "https://localhost:8080/",
          "height": 35
        }
      },
      "source": [
        "a2[1][2]"
      ],
      "execution_count": 83,
      "outputs": [
        {
          "output_type": "execute_result",
          "data": {
            "application/vnd.google.colaboratory.intrinsic+json": {
              "type": "string"
            },
            "text/plain": [
              "'Hello'"
            ]
          },
          "metadata": {},
          "execution_count": 83
        }
      ]
    },
    {
      "cell_type": "code",
      "metadata": {
        "id": "t_nG7JkijUt_"
      },
      "source": [
        "a1.append(42)"
      ],
      "execution_count": 84,
      "outputs": []
    },
    {
      "cell_type": "code",
      "metadata": {
        "id": "JZPGDsqqjXnl",
        "outputId": "270b2209-fdbd-4c04-bc9d-870bc64f4fe2",
        "colab": {
          "base_uri": "https://localhost:8080/"
        }
      },
      "source": [
        "a1+[1,2,3]"
      ],
      "execution_count": 85,
      "outputs": [
        {
          "output_type": "execute_result",
          "data": {
            "text/plain": [
              "[2, 7, 4.3, 'Hello', True, False, 42, 1, 2, 3]"
            ]
          },
          "metadata": {},
          "execution_count": 85
        }
      ]
    },
    {
      "cell_type": "code",
      "metadata": {
        "id": "C69j4JbVja1k"
      },
      "source": [
        "a3 = a1 + [1,2,3]"
      ],
      "execution_count": 86,
      "outputs": []
    },
    {
      "cell_type": "code",
      "metadata": {
        "id": "FJcIjsqyjjja",
        "outputId": "67de62d2-9a3b-464f-dcfd-8a3a7e65900d",
        "colab": {
          "base_uri": "https://localhost:8080/"
        }
      },
      "source": [
        "a3"
      ],
      "execution_count": 87,
      "outputs": [
        {
          "output_type": "execute_result",
          "data": {
            "text/plain": [
              "[2, 7, 4.3, 'Hello', True, False, 42, 1, 2, 3]"
            ]
          },
          "metadata": {},
          "execution_count": 87
        }
      ]
    },
    {
      "cell_type": "code",
      "metadata": {
        "id": "j66e0EkrjpFH",
        "outputId": "824e8547-f2e1-472b-a2d7-98b1b4dea4f1",
        "colab": {
          "base_uri": "https://localhost:8080/"
        }
      },
      "source": [
        "7 in a3"
      ],
      "execution_count": 88,
      "outputs": [
        {
          "output_type": "execute_result",
          "data": {
            "text/plain": [
              "True"
            ]
          },
          "metadata": {},
          "execution_count": 88
        }
      ]
    },
    {
      "cell_type": "code",
      "metadata": {
        "id": "7o9XCy_lkUug",
        "outputId": "59a114fa-81c7-4eae-dbb9-1c3a9696bd8c",
        "colab": {
          "base_uri": "https://localhost:8080/"
        }
      },
      "source": [
        "p\n"
      ],
      "execution_count": 89,
      "outputs": [
        {
          "output_type": "execute_result",
          "data": {
            "text/plain": [
              "[2, 3, 5, 7, 11, 13, 17, 19]"
            ]
          },
          "metadata": {},
          "execution_count": 89
        }
      ]
    },
    {
      "cell_type": "code",
      "metadata": {
        "id": "vSSz0O0xlN9l",
        "outputId": "eb95ce6d-a904-4e0b-d33a-d259fabcfde6",
        "colab": {
          "base_uri": "https://localhost:8080/"
        }
      },
      "source": [
        "p[3:7]"
      ],
      "execution_count": 90,
      "outputs": [
        {
          "output_type": "execute_result",
          "data": {
            "text/plain": [
              "[7, 11, 13, 17]"
            ]
          },
          "metadata": {},
          "execution_count": 90
        }
      ]
    },
    {
      "cell_type": "code",
      "metadata": {
        "id": "P87hT-H9lQWv",
        "outputId": "98ff4ece-b6a8-4009-edcc-3c6dd47ec714",
        "colab": {
          "base_uri": "https://localhost:8080/"
        }
      },
      "source": [
        "p[2:]"
      ],
      "execution_count": 91,
      "outputs": [
        {
          "output_type": "execute_result",
          "data": {
            "text/plain": [
              "[5, 7, 11, 13, 17, 19]"
            ]
          },
          "metadata": {},
          "execution_count": 91
        }
      ]
    },
    {
      "cell_type": "code",
      "metadata": {
        "id": "CeS_hag_lWHY"
      },
      "source": [
        "a2[2:5]=[1,2,3]"
      ],
      "execution_count": 92,
      "outputs": []
    },
    {
      "cell_type": "code",
      "metadata": {
        "id": "Vos37KyVlwIE",
        "outputId": "b6e8e957-0049-4434-c3c3-9de1dbe2d4bb",
        "colab": {
          "base_uri": "https://localhost:8080/"
        }
      },
      "source": [
        "a2"
      ],
      "execution_count": 93,
      "outputs": [
        {
          "output_type": "execute_result",
          "data": {
            "text/plain": [
              "['A', [3, 5, 'Hello'], 1, 2, 3, 56]"
            ]
          },
          "metadata": {},
          "execution_count": 93
        }
      ]
    },
    {
      "cell_type": "code",
      "metadata": {
        "id": "5TXnNWOLlxu7"
      },
      "source": [
        "p.extend([41,42,43])"
      ],
      "execution_count": 94,
      "outputs": []
    },
    {
      "cell_type": "code",
      "metadata": {
        "id": "HyC6dtcWmI1J",
        "outputId": "ca69dc3b-e04b-4bef-ee48-178bc5853e2e",
        "colab": {
          "base_uri": "https://localhost:8080/"
        }
      },
      "source": [
        "p"
      ],
      "execution_count": 95,
      "outputs": [
        {
          "output_type": "execute_result",
          "data": {
            "text/plain": [
              "[2, 3, 5, 7, 11, 13, 17, 19, 41, 42, 43]"
            ]
          },
          "metadata": {},
          "execution_count": 95
        }
      ]
    },
    {
      "cell_type": "code",
      "metadata": {
        "id": "INPfeBOzmMqt",
        "outputId": "722110cd-68d8-4a4e-8d56-cd9e92bafbe1",
        "colab": {
          "base_uri": "https://localhost:8080/"
        }
      },
      "source": [
        "len(p)"
      ],
      "execution_count": 96,
      "outputs": [
        {
          "output_type": "execute_result",
          "data": {
            "text/plain": [
              "11"
            ]
          },
          "metadata": {},
          "execution_count": 96
        }
      ]
    },
    {
      "cell_type": "code",
      "metadata": {
        "id": "l7i2yjjymTZ-",
        "outputId": "359025a1-9e10-475d-80d1-15bcb21904cd",
        "colab": {
          "base_uri": "https://localhost:8080/"
        }
      },
      "source": [
        "p[3::3]"
      ],
      "execution_count": 97,
      "outputs": [
        {
          "output_type": "execute_result",
          "data": {
            "text/plain": [
              "[7, 17, 42]"
            ]
          },
          "metadata": {},
          "execution_count": 97
        }
      ]
    },
    {
      "cell_type": "code",
      "metadata": {
        "id": "ly090KUOmY8a",
        "outputId": "b1bb0067-64c8-457a-8916-0d06e287e703",
        "colab": {
          "base_uri": "https://localhost:8080/"
        }
      },
      "source": [
        "p[1:-1]"
      ],
      "execution_count": 98,
      "outputs": [
        {
          "output_type": "execute_result",
          "data": {
            "text/plain": [
              "[3, 5, 7, 11, 13, 17, 19, 41, 42]"
            ]
          },
          "metadata": {},
          "execution_count": 98
        }
      ]
    },
    {
      "cell_type": "code",
      "metadata": {
        "id": "612ry7sim3FU",
        "outputId": "fb6dfed9-a47a-4e1a-ff61-20d7d21d7ac4",
        "colab": {
          "base_uri": "https://localhost:8080/"
        }
      },
      "source": [
        "p[::-2]"
      ],
      "execution_count": 101,
      "outputs": [
        {
          "output_type": "execute_result",
          "data": {
            "text/plain": [
              "[43, 41, 17, 11, 5, 2]"
            ]
          },
          "metadata": {},
          "execution_count": 101
        }
      ]
    },
    {
      "cell_type": "code",
      "metadata": {
        "id": "Y5YjCwJ8p1eb"
      },
      "source": [
        "a1.insert(2,7)"
      ],
      "execution_count": 102,
      "outputs": []
    },
    {
      "cell_type": "code",
      "metadata": {
        "id": "MXycpyCJp8qI",
        "outputId": "76637b8b-ebff-484d-8702-89b1f8619539",
        "colab": {
          "base_uri": "https://localhost:8080/"
        }
      },
      "source": [
        "a1"
      ],
      "execution_count": 103,
      "outputs": [
        {
          "output_type": "execute_result",
          "data": {
            "text/plain": [
              "[2, 7, 7, 4.3, 'Hello', True, False, 42]"
            ]
          },
          "metadata": {},
          "execution_count": 103
        }
      ]
    }
  ]
}