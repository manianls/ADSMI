{
  "nbformat": 4,
  "nbformat_minor": 0,
  "metadata": {
    "colab": {
      "name": "PythonReview20211023.ipynb",
      "provenance": [],
      "authorship_tag": "ABX9TyP+1YJvfQCOrLO5T5Ltk8E6",
      "include_colab_link": true
    },
    "kernelspec": {
      "name": "python3",
      "display_name": "Python 3"
    },
    "language_info": {
      "name": "python"
    }
  },
  "cells": [
    {
      "cell_type": "markdown",
      "metadata": {
        "id": "view-in-github",
        "colab_type": "text"
      },
      "source": [
        "<a href=\"https://colab.research.google.com/github/manianls/ADSMI/blob/main/PythonFundamentals/PythonReview20211023.ipynb\" target=\"_parent\"><img src=\"https://colab.research.google.com/assets/colab-badge.svg\" alt=\"Open In Colab\"/></a>"
      ]
    },
    {
      "cell_type": "markdown",
      "metadata": {
        "id": "MdV2F5oqRaUG"
      },
      "source": [
        "# Euler Problem\n",
        "If we list all the natural numbers below 10 that are multiples of 3 or 5, we get 3, 5, 6 and 9. The sum of these multiples is 23.\n",
        "\n",
        "Find the sum of all the multiples of 3 or 5 below 1000."
      ]
    },
    {
      "cell_type": "code",
      "metadata": {
        "id": "R8kFURLrRksr"
      },
      "source": [
        "LIMIT = 1000\n",
        "n, total = 3,0\n",
        "while n < LIMIT:\n",
        "    if n % 3 == 0 or n % 5 == 0:\n",
        "        total += n\n",
        "    n += 1"
      ],
      "execution_count": null,
      "outputs": []
    },
    {
      "cell_type": "code",
      "metadata": {
        "colab": {
          "base_uri": "https://localhost:8080/"
        },
        "id": "bPqygcNZSGRp",
        "outputId": "efa1b5ea-95b8-4919-f134-7ac3bc9e1a35"
      },
      "source": [
        "print (total)"
      ],
      "execution_count": null,
      "outputs": [
        {
          "output_type": "stream",
          "name": "stdout",
          "text": [
            "233168\n"
          ]
        }
      ]
    },
    {
      "cell_type": "code",
      "metadata": {
        "id": "VfY7vHpXfr-l"
      },
      "source": [
        "def select(n: int) -> bool:\n",
        "    return n % 3 == 0 or n % 5 == 0"
      ],
      "execution_count": 1,
      "outputs": []
    },
    {
      "cell_type": "code",
      "metadata": {
        "id": "YMjUOtBcf2jf"
      },
      "source": [
        "LIMIT = 1000\n",
        "n, total = 1,0\n",
        "while n < LIMIT: \n",
        "    if select(n):\n",
        "        total += n\n",
        "    n += 1"
      ],
      "execution_count": 2,
      "outputs": []
    },
    {
      "cell_type": "code",
      "metadata": {
        "colab": {
          "base_uri": "https://localhost:8080/"
        },
        "id": "cDMGaDgFgCQ6",
        "outputId": "0aad3bfa-00a6-49a3-9ea9-1a8355e56129"
      },
      "source": [
        "print(total)"
      ],
      "execution_count": 3,
      "outputs": [
        {
          "output_type": "stream",
          "name": "stdout",
          "text": [
            "233168\n"
          ]
        }
      ]
    },
    {
      "cell_type": "code",
      "metadata": {
        "id": "jlc73Zh8iPqR",
        "outputId": "afcd5dde-a24c-4b0d-b208-62549b335fa4",
        "colab": {
          "base_uri": "https://localhost:8080/"
        }
      },
      "source": [
        "!python --version"
      ],
      "execution_count": 4,
      "outputs": [
        {
          "output_type": "stream",
          "name": "stdout",
          "text": [
            "Python 3.7.12\n"
          ]
        }
      ]
    },
    {
      "cell_type": "code",
      "metadata": {
        "id": "WN13A184ilZV"
      },
      "source": [
        "def pick(n):\n",
        "    return n % 3 == 0 or n % 5 == 0"
      ],
      "execution_count": 5,
      "outputs": []
    },
    {
      "cell_type": "markdown",
      "metadata": {
        "id": "y7f96JmKuOHm"
      },
      "source": [
        "# Range\n"
      ]
    },
    {
      "cell_type": "code",
      "metadata": {
        "id": "vFclubqki-Nz",
        "outputId": "a6b580ba-f1a7-417a-abe5-ef176be30570",
        "colab": {
          "base_uri": "https://localhost:8080/"
        }
      },
      "source": [
        "range(10)"
      ],
      "execution_count": 6,
      "outputs": [
        {
          "output_type": "execute_result",
          "data": {
            "text/plain": [
              "range(0, 10)"
            ]
          },
          "metadata": {},
          "execution_count": 6
        }
      ]
    },
    {
      "cell_type": "code",
      "metadata": {
        "id": "fmZpbrdGt3TS",
        "outputId": "57cc240f-dcb4-4b6e-c89e-5045eea7332d",
        "colab": {
          "base_uri": "https://localhost:8080/"
        }
      },
      "source": [
        "list(range(10))"
      ],
      "execution_count": 7,
      "outputs": [
        {
          "output_type": "execute_result",
          "data": {
            "text/plain": [
              "[0, 1, 2, 3, 4, 5, 6, 7, 8, 9]"
            ]
          },
          "metadata": {},
          "execution_count": 7
        }
      ]
    },
    {
      "cell_type": "code",
      "metadata": {
        "id": "VdXUwPoxt8Nz",
        "outputId": "96776c04-ef5f-4ed2-f002-7c659b7d9cdb",
        "colab": {
          "base_uri": "https://localhost:8080/"
        }
      },
      "source": [
        "list(range(6,17))"
      ],
      "execution_count": 8,
      "outputs": [
        {
          "output_type": "execute_result",
          "data": {
            "text/plain": [
              "[6, 7, 8, 9, 10, 11, 12, 13, 14, 15, 16]"
            ]
          },
          "metadata": {},
          "execution_count": 8
        }
      ]
    },
    {
      "cell_type": "code",
      "metadata": {
        "id": "dH23tOCnuCzB",
        "outputId": "bdf35080-5d5e-49bf-b8c2-2277f5e89d49",
        "colab": {
          "base_uri": "https://localhost:8080/"
        }
      },
      "source": [
        "list(range(4,19,3))"
      ],
      "execution_count": 9,
      "outputs": [
        {
          "output_type": "execute_result",
          "data": {
            "text/plain": [
              "[4, 7, 10, 13, 16]"
            ]
          },
          "metadata": {},
          "execution_count": 9
        }
      ]
    },
    {
      "cell_type": "code",
      "metadata": {
        "id": "grRlnLd6u3YK"
      },
      "source": [
        "def euler00(LIMIT = 1000):\n",
        "    m3 = range(3,LIMIT,3)\n",
        "    m5 = range(5, LIMIT,5)\n",
        "    m15 = range(15, LIMIT, 15)\n",
        "    return sum(m3) + sum(m5) - sum(m15)"
      ],
      "execution_count": 12,
      "outputs": []
    },
    {
      "cell_type": "code",
      "metadata": {
        "id": "Uyodj3F6vZaW",
        "outputId": "5b701fe9-1ac8-4d59-917b-3b027f75c065",
        "colab": {
          "base_uri": "https://localhost:8080/"
        }
      },
      "source": [
        "euler00()"
      ],
      "execution_count": 13,
      "outputs": [
        {
          "output_type": "execute_result",
          "data": {
            "text/plain": [
              "233168"
            ]
          },
          "metadata": {},
          "execution_count": 13
        }
      ]
    }
  ]
}