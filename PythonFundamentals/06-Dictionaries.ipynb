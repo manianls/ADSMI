{
 "cells": [
  {
   "cell_type": "markdown",
   "metadata": {
    "colab_type": "text",
    "id": "YEhkTWo1nDz_"
   },
   "source": [
    "# Python Quickstart \n",
    "## Dictionaries"
   ]
  },
  {
   "cell_type": "code",
   "execution_count": 2,
   "metadata": {
    "colab": {},
    "colab_type": "code",
    "id": "88RnxRrRBSJS"
   },
   "outputs": [],
   "source": [
    "#Create a dictionary\n",
    "capitals = {\"INDIA\" : \"New Delhi\", \"USA\" : \"Washington DC\", \"UK\" : \"London\" }"
   ]
  },
  {
   "cell_type": "code",
   "execution_count": 3,
   "metadata": {
    "colab": {
     "base_uri": "https://localhost:8080/",
     "height": 35
    },
    "colab_type": "code",
    "executionInfo": {
     "elapsed": 1523,
     "status": "ok",
     "timestamp": 1541218482586,
     "user": {
      "displayName": "Asokan Pichai",
      "photoUrl": "https://lh3.googleusercontent.com/-BwTc3H0i5_U/AAAAAAAAAAI/AAAAAAAAAmI/udtEPD3pAJA/s64/photo.jpg",
      "userId": "07563113289497356182"
     },
     "user_tz": -330
    },
    "id": "Yb2GxmTRDrss",
    "outputId": "66b260c5-38cf-4273-b3c8-6d1a9eedf07b"
   },
   "outputs": [
    {
     "data": {
      "text/plain": [
       "'Washington DC'"
      ]
     },
     "execution_count": 3,
     "metadata": {},
     "output_type": "execute_result"
    }
   ],
   "source": [
    "#Retrive value of a key\n",
    "capitals[\"USA\"]"
   ]
  },
  {
   "cell_type": "code",
   "execution_count": 4,
   "metadata": {
    "colab": {
     "base_uri": "https://localhost:8080/",
     "height": 35
    },
    "colab_type": "code",
    "executionInfo": {
     "elapsed": 880,
     "status": "ok",
     "timestamp": 1541218494970,
     "user": {
      "displayName": "Asokan Pichai",
      "photoUrl": "https://lh3.googleusercontent.com/-BwTc3H0i5_U/AAAAAAAAAAI/AAAAAAAAAmI/udtEPD3pAJA/s64/photo.jpg",
      "userId": "07563113289497356182"
     },
     "user_tz": -330
    },
    "id": "TS1KqNtkHBq4",
    "outputId": "c8300da7-7018-4279-f311-451753b017e2"
   },
   "outputs": [
    {
     "data": {
      "text/plain": [
       "'New Delhi'"
      ]
     },
     "execution_count": 4,
     "metadata": {},
     "output_type": "execute_result"
    }
   ],
   "source": [
    "#Retrieve value of a key\n",
    "capitals[\"INDIA\"]"
   ]
  },
  {
   "cell_type": "code",
   "execution_count": null,
   "metadata": {
    "colab": {
     "base_uri": "https://localhost:8080/",
     "height": 191
    },
    "colab_type": "code",
    "executionInfo": {
     "elapsed": 1260,
     "status": "error",
     "timestamp": 1541218501530,
     "user": {
      "displayName": "Asokan Pichai",
      "photoUrl": "https://lh3.googleusercontent.com/-BwTc3H0i5_U/AAAAAAAAAAI/AAAAAAAAAmI/udtEPD3pAJA/s64/photo.jpg",
      "userId": "07563113289497356182"
     },
     "user_tz": -330
    },
    "id": "kTkrYdB-HflQ",
    "outputId": "8b99d1d0-efdc-4646-e1fc-e39854852b59"
   },
   "outputs": [],
   "source": [
    "#Case sensitive\n",
    "capitals[\"India\"]"
   ]
  },
  {
   "cell_type": "code",
   "execution_count": null,
   "metadata": {
    "colab": {
     "base_uri": "https://localhost:8080/",
     "height": 35
    },
    "colab_type": "code",
    "executionInfo": {
     "elapsed": 930,
     "status": "ok",
     "timestamp": 1541218515249,
     "user": {
      "displayName": "Asokan Pichai",
      "photoUrl": "https://lh3.googleusercontent.com/-BwTc3H0i5_U/AAAAAAAAAAI/AAAAAAAAAmI/udtEPD3pAJA/s64/photo.jpg",
      "userId": "07563113289497356182"
     },
     "user_tz": -330
    },
    "id": "zKzS_V9gD60W",
    "outputId": "06aa837b-a61f-4e04-d66f-ca9c97c2602b"
   },
   "outputs": [],
   "source": [
    "#Length of a dictionary\n",
    "len(capitals)"
   ]
  },
  {
   "cell_type": "code",
   "execution_count": null,
   "metadata": {
    "colab": {
     "base_uri": "https://localhost:8080/",
     "height": 35
    },
    "colab_type": "code",
    "executionInfo": {
     "elapsed": 1233,
     "status": "ok",
     "timestamp": 1541218520470,
     "user": {
      "displayName": "Asokan Pichai",
      "photoUrl": "https://lh3.googleusercontent.com/-BwTc3H0i5_U/AAAAAAAAAAI/AAAAAAAAAmI/udtEPD3pAJA/s64/photo.jpg",
      "userId": "07563113289497356182"
     },
     "user_tz": -330
    },
    "id": "dzIM-hUJEBfQ",
    "outputId": "4da9a184-dec6-4c07-a1c3-471c130a01c7"
   },
   "outputs": [],
   "source": [
    "#Built-in function to get the keys\n",
    "capitals.keys()"
   ]
  },
  {
   "cell_type": "code",
   "execution_count": null,
   "metadata": {
    "colab": {
     "base_uri": "https://localhost:8080/",
     "height": 35
    },
    "colab_type": "code",
    "executionInfo": {
     "elapsed": 913,
     "status": "ok",
     "timestamp": 1541218526666,
     "user": {
      "displayName": "Asokan Pichai",
      "photoUrl": "https://lh3.googleusercontent.com/-BwTc3H0i5_U/AAAAAAAAAAI/AAAAAAAAAmI/udtEPD3pAJA/s64/photo.jpg",
      "userId": "07563113289497356182"
     },
     "user_tz": -330
    },
    "id": "Ib_V2aNTEQAO",
    "outputId": "f8337d99-643d-4d9c-9b0c-ed411a3fe4da"
   },
   "outputs": [],
   "source": [
    "#Built-in function to get values \n",
    "capitals.values()"
   ]
  },
  {
   "cell_type": "code",
   "execution_count": null,
   "metadata": {
    "colab": {
     "base_uri": "https://localhost:8080/",
     "height": 55
    },
    "colab_type": "code",
    "executionInfo": {
     "elapsed": 1288,
     "status": "ok",
     "timestamp": 1541218529281,
     "user": {
      "displayName": "Asokan Pichai",
      "photoUrl": "https://lh3.googleusercontent.com/-BwTc3H0i5_U/AAAAAAAAAAI/AAAAAAAAAmI/udtEPD3pAJA/s64/photo.jpg",
      "userId": "07563113289497356182"
     },
     "user_tz": -330
    },
    "id": "OBBNljqvFWvO",
    "outputId": "68ad5b86-02b9-4050-a3fe-2b2b2282704f"
   },
   "outputs": [],
   "source": [
    "#Retrive all the key - value pairs\n",
    "capitals.items()"
   ]
  },
  {
   "cell_type": "code",
   "execution_count": null,
   "metadata": {
    "colab": {},
    "colab_type": "code",
    "id": "kvQnx8UlFt0K"
   },
   "outputs": [],
   "source": [
    "#Adding a key - value pair\n",
    "capitals[\"SRI LANKA\"] = \"Colombo\""
   ]
  },
  {
   "cell_type": "code",
   "execution_count": null,
   "metadata": {
    "colab": {
     "base_uri": "https://localhost:8080/",
     "height": 35
    },
    "colab_type": "code",
    "executionInfo": {
     "elapsed": 1674,
     "status": "ok",
     "timestamp": 1541218556932,
     "user": {
      "displayName": "Asokan Pichai",
      "photoUrl": "https://lh3.googleusercontent.com/-BwTc3H0i5_U/AAAAAAAAAAI/AAAAAAAAAmI/udtEPD3pAJA/s64/photo.jpg",
      "userId": "07563113289497356182"
     },
     "user_tz": -330
    },
    "id": "RIvnOM5SF51Y",
    "outputId": "f417db54-9e72-4c8a-b996-e0e3e95d95b5"
   },
   "outputs": [],
   "source": [
    "#New length of dictionary\n",
    "len(capitals)"
   ]
  },
  {
   "cell_type": "code",
   "execution_count": null,
   "metadata": {
    "colab": {
     "base_uri": "https://localhost:8080/",
     "height": 89
    },
    "colab_type": "code",
    "executionInfo": {
     "elapsed": 992,
     "status": "ok",
     "timestamp": 1541218582541,
     "user": {
      "displayName": "Asokan Pichai",
      "photoUrl": "https://lh3.googleusercontent.com/-BwTc3H0i5_U/AAAAAAAAAAI/AAAAAAAAAmI/udtEPD3pAJA/s64/photo.jpg",
      "userId": "07563113289497356182"
     },
     "user_tz": -330
    },
    "id": "kQIBmjJ_F-Ru",
    "outputId": "79934901-f5b7-4d7e-e062-5f25feb56892"
   },
   "outputs": [],
   "source": [
    "#Order of key-value pairs get changed\n",
    "capitals"
   ]
  },
  {
   "cell_type": "code",
   "execution_count": null,
   "metadata": {
    "colab": {},
    "colab_type": "code",
    "id": "xmpY8CaeOT0U"
   },
   "outputs": [],
   "source": [
    "capitals[\"AFGANISTAN\"] = \"Kabul\""
   ]
  },
  {
   "cell_type": "code",
   "execution_count": null,
   "metadata": {
    "colab": {},
    "colab_type": "code",
    "id": "jCdte-XHOd6o"
   },
   "outputs": [],
   "source": [
    "#Update an existing dictionary\n",
    "capitals[\"AFGANISTAN\"] = \"KABUL\""
   ]
  },
  {
   "cell_type": "code",
   "execution_count": null,
   "metadata": {
    "colab": {},
    "colab_type": "code",
    "id": "2uLlL38nPIRE"
   },
   "outputs": [],
   "source": [
    "capitals"
   ]
  },
  {
   "cell_type": "code",
   "execution_count": null,
   "metadata": {
    "colab": {},
    "colab_type": "code",
    "id": "FBW2K6khGBwm"
   },
   "outputs": [],
   "source": [
    "# keys can be tuples\n",
    "capitals[(23,45)] = \"Number\""
   ]
  },
  {
   "cell_type": "code",
   "execution_count": null,
   "metadata": {
    "colab": {
     "base_uri": "https://localhost:8080/",
     "height": 125
    },
    "colab_type": "code",
    "executionInfo": {
     "elapsed": 980,
     "status": "ok",
     "timestamp": 1541218692508,
     "user": {
      "displayName": "Asokan Pichai",
      "photoUrl": "https://lh3.googleusercontent.com/-BwTc3H0i5_U/AAAAAAAAAAI/AAAAAAAAAmI/udtEPD3pAJA/s64/photo.jpg",
      "userId": "07563113289497356182"
     },
     "user_tz": -330
    },
    "id": "TfYMEBI3LYCc",
    "outputId": "5929d67f-d575-4931-fb5c-152e43018f4c"
   },
   "outputs": [],
   "source": [
    "capitals"
   ]
  },
  {
   "cell_type": "code",
   "execution_count": null,
   "metadata": {
    "colab": {
     "base_uri": "https://localhost:8080/",
     "height": 125
    },
    "colab_type": "code",
    "executionInfo": {
     "elapsed": 971,
     "status": "ok",
     "timestamp": 1541218699385,
     "user": {
      "displayName": "Asokan Pichai",
      "photoUrl": "https://lh3.googleusercontent.com/-BwTc3H0i5_U/AAAAAAAAAAI/AAAAAAAAAmI/udtEPD3pAJA/s64/photo.jpg",
      "userId": "07563113289497356182"
     },
     "user_tz": -330
    },
    "id": "RjmV9Re6LYyO",
    "outputId": "995eabad-4dfe-4859-dbe0-0ca199575108"
   },
   "outputs": [],
   "source": [
    "for k in capitals.keys():\n",
    "  print (capitals[k])"
   ]
  },
  {
   "cell_type": "code",
   "execution_count": null,
   "metadata": {
    "colab": {
     "base_uri": "https://localhost:8080/",
     "height": 125
    },
    "colab_type": "code",
    "executionInfo": {
     "elapsed": 1671,
     "status": "ok",
     "timestamp": 1541218740808,
     "user": {
      "displayName": "Asokan Pichai",
      "photoUrl": "https://lh3.googleusercontent.com/-BwTc3H0i5_U/AAAAAAAAAAI/AAAAAAAAAmI/udtEPD3pAJA/s64/photo.jpg",
      "userId": "07563113289497356182"
     },
     "user_tz": -330
    },
    "id": "0dbkuLt-OB_A",
    "outputId": "e5cbaa27-bc13-4ce1-c634-acba1a8ee3b5"
   },
   "outputs": [],
   "source": [
    "for k in capitals.keys():\n",
    "  print (k, capitals[k])"
   ]
  },
  {
   "cell_type": "code",
   "execution_count": null,
   "metadata": {
    "colab": {},
    "colab_type": "code",
    "id": "KUYGcfrWOGzM"
   },
   "outputs": [],
   "source": [
    "#Letter count\n",
    "letterCount = {}"
   ]
  },
  {
   "cell_type": "code",
   "execution_count": null,
   "metadata": {
    "colab": {},
    "colab_type": "code",
    "id": "BbHaNYTYP3MY"
   },
   "outputs": [],
   "source": [
    "s = '''TalentSprint is a digital platform designed to transform \n",
    "the lives of professionals in the new economy. Its blended bootcamps\n",
    "offer deeptech skills.'''"
   ]
  },
  {
   "cell_type": "code",
   "execution_count": null,
   "metadata": {
    "colab": {},
    "colab_type": "code",
    "id": "hgdeGHePRAMK"
   },
   "outputs": [],
   "source": [
    "for ch in s :\n",
    "  ch = ch.lower()\n",
    "  if ch not in letterCount:\n",
    "    letterCount[ch] = 1\n",
    "  else:\n",
    "    letterCount[ch] += 1"
   ]
  },
  {
   "cell_type": "code",
   "execution_count": null,
   "metadata": {
    "colab": {
     "base_uri": "https://localhost:8080/",
     "height": 431
    },
    "colab_type": "code",
    "executionInfo": {
     "elapsed": 867,
     "status": "ok",
     "timestamp": 1541219103884,
     "user": {
      "displayName": "Asokan Pichai",
      "photoUrl": "https://lh3.googleusercontent.com/-BwTc3H0i5_U/AAAAAAAAAAI/AAAAAAAAAmI/udtEPD3pAJA/s64/photo.jpg",
      "userId": "07563113289497356182"
     },
     "user_tz": -330
    },
    "id": "SYg7ARPLRkZy",
    "outputId": "7bc5fec1-5d6c-4386-db86-98f09131ff11"
   },
   "outputs": [],
   "source": [
    "letterCount"
   ]
  },
  {
   "cell_type": "code",
   "execution_count": null,
   "metadata": {
    "colab": {
     "base_uri": "https://localhost:8080/",
     "height": 55
    },
    "colab_type": "code",
    "executionInfo": {
     "elapsed": 1045,
     "status": "ok",
     "timestamp": 1541219118513,
     "user": {
      "displayName": "Asokan Pichai",
      "photoUrl": "https://lh3.googleusercontent.com/-BwTc3H0i5_U/AAAAAAAAAAI/AAAAAAAAAmI/udtEPD3pAJA/s64/photo.jpg",
      "userId": "07563113289497356182"
     },
     "user_tz": -330
    },
    "id": "IbUJKNpBRu9s",
    "outputId": "35563b98-9b11-4400-bdc5-4c21618ac105"
   },
   "outputs": [],
   "source": [
    "letterCount.keys()"
   ]
  },
  {
   "cell_type": "markdown",
   "metadata": {},
   "source": [
    "### collections\n",
    "#### Counter"
   ]
  },
  {
   "cell_type": "code",
   "execution_count": null,
   "metadata": {},
   "outputs": [],
   "source": [
    "import collections\n",
    "## Create a new Counter() object called frequencies\n",
    "frequencies = collections.Counter()\n",
    "\n",
    "## iterate through each letter in the sentence\n",
    "for letter in s:\n",
    "    \n",
    "    ## update the frequencies object with each letter.\n",
    "    ## the bookkeeping is done by the Counter()\n",
    "    frequencies.update(letter)\n",
    "\n",
    "print(frequencies)"
   ]
  },
  {
   "cell_type": "markdown",
   "metadata": {},
   "source": [
    "As you can see the Counter() made it very simple to calculate the frequencies. It has a minor flaw. It is not likely that we want to count upper case and lower case letters separately. We make the change below:"
   ]
  },
  {
   "cell_type": "code",
   "execution_count": null,
   "metadata": {},
   "outputs": [],
   "source": [
    "import collections\n",
    "\n",
    "## Create a new Counter() object called frequencies\n",
    "frequencies = collections.Counter()\n",
    "\n",
    "## iterate through each letter in the sentence\n",
    "for letter in s:\n",
    "    \n",
    "    ## update the frequencies object with each letter.\n",
    "    ## the bookkeeping is done by the Counter()\n",
    "    ## convert letter to lower case first\n",
    "    frequencies.update(letter.lower())\n",
    "\n",
    "print(frequencies)"
   ]
  },
  {
   "cell_type": "markdown",
   "metadata": {},
   "source": [
    "By the way, Counter() is smart enough to count the individual elements, if a sequence of them is given. So we can do the above much more simply!"
   ]
  },
  {
   "cell_type": "code",
   "execution_count": null,
   "metadata": {},
   "outputs": [],
   "source": [
    "import collections\n",
    "frequencies = collections.Counter(s.lower())\n",
    "\n",
    "print(frequencies)"
   ]
  },
  {
   "cell_type": "markdown",
   "metadata": {},
   "source": [
    "Counter offers a lot more functionality"
   ]
  },
  {
   "cell_type": "code",
   "execution_count": null,
   "metadata": {},
   "outputs": [],
   "source": [
    "lett_freq = collections.Counter(s.lower())\n",
    "lett_freq.most_common(5)"
   ]
  },
  {
   "cell_type": "markdown",
   "metadata": {},
   "source": [
    "As you can see we fed a sentence and got back the top-5 frequently occurring characters, with their frequencies. So let us now write a function that finds the most frequently occurring **letter** in a given sentence. "
   ]
  },
  {
   "cell_type": "code",
   "execution_count": 5,
   "metadata": {},
   "outputs": [],
   "source": [
    "def mostFreqLetter(s):\n",
    "    import collections\n",
    "    freq = collections.Counter()\n",
    "    for ch in s:\n",
    "        ch = ch.lower()\n",
    "        if 'a' <= ch <= 'z':\n",
    "            freq.update(ch)\n",
    "    return freq.most_common(1)[0]"
   ]
  },
  {
   "cell_type": "code",
   "execution_count": 6,
   "metadata": {},
   "outputs": [
    {
     "data": {
      "text/plain": [
       "('o', 6)"
      ]
     },
     "execution_count": 6,
     "metadata": {},
     "output_type": "execute_result"
    }
   ],
   "source": [
    "mostFreqLetter(\"Old brother fox jumps over the lzay dog in this pangram of English\")"
   ]
  },
  {
   "cell_type": "markdown",
   "metadata": {},
   "source": [
    "**Counter() cannot count individual floats or integers**"
   ]
  },
  {
   "cell_type": "code",
   "execution_count": 7,
   "metadata": {},
   "outputs": [
    {
     "ename": "TypeError",
     "evalue": "'int' object is not iterable",
     "output_type": "error",
     "traceback": [
      "\u001b[0;31m---------------------------------------------------------------------------\u001b[0m",
      "\u001b[0;31mTypeError\u001b[0m                                 Traceback (most recent call last)",
      "\u001b[0;32m<ipython-input-7-9e7e5352c7b7>\u001b[0m in \u001b[0;36m<module>\u001b[0;34m\u001b[0m\n\u001b[1;32m      3\u001b[0m \u001b[0mfreq\u001b[0m \u001b[0;34m=\u001b[0m \u001b[0mcollections\u001b[0m\u001b[0;34m.\u001b[0m\u001b[0mCounter\u001b[0m\u001b[0;34m(\u001b[0m\u001b[0;34m)\u001b[0m\u001b[0;34m\u001b[0m\u001b[0;34m\u001b[0m\u001b[0m\n\u001b[1;32m      4\u001b[0m \u001b[0;32mfor\u001b[0m \u001b[0mn\u001b[0m \u001b[0;32min\u001b[0m \u001b[0mf\u001b[0m\u001b[0;34m:\u001b[0m\u001b[0;34m\u001b[0m\u001b[0;34m\u001b[0m\u001b[0m\n\u001b[0;32m----> 5\u001b[0;31m     \u001b[0mfreq\u001b[0m\u001b[0;34m.\u001b[0m\u001b[0mupdate\u001b[0m\u001b[0;34m(\u001b[0m\u001b[0mn\u001b[0m\u001b[0;34m)\u001b[0m\u001b[0;34m\u001b[0m\u001b[0;34m\u001b[0m\u001b[0m\n\u001b[0m\u001b[1;32m      6\u001b[0m \u001b[0mprint\u001b[0m\u001b[0;34m(\u001b[0m\u001b[0mfreq\u001b[0m\u001b[0;34m)\u001b[0m\u001b[0;34m\u001b[0m\u001b[0;34m\u001b[0m\u001b[0m\n",
      "\u001b[0;32m/usr/lib/python3.9/collections/__init__.py\u001b[0m in \u001b[0;36mupdate\u001b[0;34m(self, iterable, **kwds)\u001b[0m\n\u001b[1;32m    677\u001b[0m                     \u001b[0msuper\u001b[0m\u001b[0;34m(\u001b[0m\u001b[0;34m)\u001b[0m\u001b[0;34m.\u001b[0m\u001b[0mupdate\u001b[0m\u001b[0;34m(\u001b[0m\u001b[0miterable\u001b[0m\u001b[0;34m)\u001b[0m\u001b[0;34m\u001b[0m\u001b[0;34m\u001b[0m\u001b[0m\n\u001b[1;32m    678\u001b[0m             \u001b[0;32melse\u001b[0m\u001b[0;34m:\u001b[0m\u001b[0;34m\u001b[0m\u001b[0;34m\u001b[0m\u001b[0m\n\u001b[0;32m--> 679\u001b[0;31m                 \u001b[0m_count_elements\u001b[0m\u001b[0;34m(\u001b[0m\u001b[0mself\u001b[0m\u001b[0;34m,\u001b[0m \u001b[0miterable\u001b[0m\u001b[0;34m)\u001b[0m\u001b[0;34m\u001b[0m\u001b[0;34m\u001b[0m\u001b[0m\n\u001b[0m\u001b[1;32m    680\u001b[0m         \u001b[0;32mif\u001b[0m \u001b[0mkwds\u001b[0m\u001b[0;34m:\u001b[0m\u001b[0;34m\u001b[0m\u001b[0;34m\u001b[0m\u001b[0m\n\u001b[1;32m    681\u001b[0m             \u001b[0mself\u001b[0m\u001b[0;34m.\u001b[0m\u001b[0mupdate\u001b[0m\u001b[0;34m(\u001b[0m\u001b[0mkwds\u001b[0m\u001b[0;34m)\u001b[0m\u001b[0;34m\u001b[0m\u001b[0;34m\u001b[0m\u001b[0m\n",
      "\u001b[0;31mTypeError\u001b[0m: 'int' object is not iterable"
     ]
    }
   ],
   "source": [
    "f = [8, 1.2, 1.6, 3.2, 1, 1.2, 5, 600, 1, 3, 1.2, ]\n",
    "import collections\n",
    "freq = collections.Counter()\n",
    "for n in f:\n",
    "    freq.update(n)\n",
    "print(freq)"
   ]
  },
  {
   "cell_type": "markdown",
   "metadata": {},
   "source": [
    "But this will work"
   ]
  },
  {
   "cell_type": "code",
   "execution_count": null,
   "metadata": {},
   "outputs": [],
   "source": [
    "f = [8, 1.2, 1.6, 3.2, 1, 1.2, 5, 600, 1, 3, 1.2, ]\n",
    "import collections\n",
    "freq = collections.Counter()\n",
    "freq.update(f)\n",
    "print(freq)\n",
    "print(freq.most_common(2))"
   ]
  }
 ],
 "metadata": {
  "colab": {
   "name": "Week0-07-Dictionaries.ipynb",
   "provenance": [],
   "version": "0.3.2"
  },
  "kernelspec": {
   "display_name": "Python 3",
   "language": "python",
   "name": "python3"
  },
  "language_info": {
   "codemirror_mode": {
    "name": "ipython",
    "version": 3
   },
   "file_extension": ".py",
   "mimetype": "text/x-python",
   "name": "python",
   "nbconvert_exporter": "python",
   "pygments_lexer": "ipython3",
   "version": "3.9.2"
  }
 },
 "nbformat": 4,
 "nbformat_minor": 1
}
