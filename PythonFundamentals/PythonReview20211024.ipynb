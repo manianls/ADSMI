{
  "nbformat": 4,
  "nbformat_minor": 0,
  "metadata": {
    "colab": {
      "name": "PythonReview20211024.ipynb",
      "private_outputs": true,
      "provenance": [],
      "include_colab_link": true
    },
    "kernelspec": {
      "name": "python3",
      "display_name": "Python 3"
    },
    "language_info": {
      "name": "python"
    }
  },
  "cells": [
    {
      "cell_type": "markdown",
      "metadata": {
        "id": "view-in-github",
        "colab_type": "text"
      },
      "source": [
        "<a href=\"https://colab.research.google.com/github/manianls/ADSMI/blob/main/PythonFundamentals/PythonReview20211024.ipynb\" target=\"_parent\"><img src=\"https://colab.research.google.com/assets/colab-badge.svg\" alt=\"Open In Colab\"/></a>"
      ]
    },
    {
      "cell_type": "markdown",
      "metadata": {
        "id": "jcbwnSgWWorS"
      },
      "source": [
        "# More Lists, Tuples, Strings, FP\n",
        "## Of course problems"
      ]
    },
    {
      "cell_type": "code",
      "metadata": {
        "id": "l5ogx0M6Xh5K"
      },
      "source": [
        "p = [2, 3, 5, 7, 11, 13, 17, 19]"
      ],
      "execution_count": null,
      "outputs": []
    },
    {
      "cell_type": "markdown",
      "metadata": {
        "id": "8Kfib0IIXyjs"
      },
      "source": [
        "**while** repeat a computation until something happens\n",
        "\n",
        "**for** systematically go through the elements of a collection, carrying out a computation with each element"
      ]
    },
    {
      "cell_type": "code",
      "metadata": {
        "id": "oSpwDoZKYScs"
      },
      "source": [
        "for n in p:\n",
        "    print(n)"
      ],
      "execution_count": null,
      "outputs": []
    },
    {
      "cell_type": "code",
      "metadata": {
        "id": "ENFHp6lOYjJe"
      },
      "source": [
        "for n in p:\n",
        "    print(n, end = \" \")"
      ],
      "execution_count": null,
      "outputs": []
    },
    {
      "cell_type": "code",
      "metadata": {
        "id": "dVXdZf60Y4eo"
      },
      "source": [
        "for n in p:\n",
        "    print(n, end = \"X+Y\")"
      ],
      "execution_count": null,
      "outputs": []
    },
    {
      "cell_type": "code",
      "metadata": {
        "id": "oeUae8iCZB56"
      },
      "source": [
        "for n in p:\n",
        "    print(n, n * n, n * 2, end = \" \" , sep = \",\")"
      ],
      "execution_count": null,
      "outputs": []
    },
    {
      "cell_type": "code",
      "metadata": {
        "id": "Dr1H6ipaZRzn"
      },
      "source": [
        "for n in p:\n",
        "    print(n, n * n, n * 2, sep = \",\", end = \" \")"
      ],
      "execution_count": null,
      "outputs": []
    },
    {
      "cell_type": "code",
      "metadata": {
        "id": "VV1F9fB6ZnPD"
      },
      "source": [
        "for n in p:\n",
        "    print(n, n * n, n * 2, sep = \",\", end = \",\")"
      ],
      "execution_count": null,
      "outputs": []
    },
    {
      "cell_type": "markdown",
      "metadata": {
        "id": "xPiXkVmlW3cD"
      },
      "source": [
        "\n",
        "\n",
        "A palindromic number reads the same both ways. The largest palindrome made from the product of two 2-digit numbers is 9009 = 91 × 99.\n",
        "\n",
        "Find the largest palindrome made from the product of two 3-digit numbers.\n"
      ]
    },
    {
      "cell_type": "code",
      "metadata": {
        "id": "unzake4GZx8n"
      },
      "source": [
        "START, LIMIT = 100, 1000\n",
        "for a in range(START, LIMIT):\n",
        "    for b in range(START, LIMIT):\n",
        "        # code executed (LIMIT-START) * (LIMIT-START) times\n",
        "        pass\n"
      ],
      "execution_count": null,
      "outputs": []
    },
    {
      "cell_type": "code",
      "metadata": {
        "id": "a0WRodI_aqoE"
      },
      "source": [
        "def reverse(n: int) -> int:\n",
        "    rev = 0\n",
        "    while n > 0:\n",
        "        rev = rev * 10 + n % 10\n",
        "        n //= 10\n",
        "    return rev"
      ],
      "execution_count": null,
      "outputs": []
    },
    {
      "cell_type": "code",
      "metadata": {
        "id": "oaKuNRGbbgru"
      },
      "source": [
        "\"able was I ere I saw elba\""
      ],
      "execution_count": null,
      "outputs": []
    },
    {
      "cell_type": "code",
      "metadata": {
        "id": "rBicsDaAccms"
      },
      "source": [
        "def reverse1(n: int) -> int:\n",
        "    return int(str(n)[::-1])"
      ],
      "execution_count": null,
      "outputs": []
    },
    {
      "cell_type": "markdown",
      "metadata": {
        "id": "ipg381C6c1vx"
      },
      "source": [
        "difference between print(x) and x"
      ]
    },
    {
      "cell_type": "code",
      "metadata": {
        "id": "PNyF6eE0coR0"
      },
      "source": [
        "str(19)"
      ],
      "execution_count": null,
      "outputs": []
    },
    {
      "cell_type": "code",
      "metadata": {
        "id": "1yQX1uSrcvXg"
      },
      "source": [
        "print(str(19))"
      ],
      "execution_count": null,
      "outputs": []
    },
    {
      "cell_type": "code",
      "metadata": {
        "id": "b6E1IMabc0Lo"
      },
      "source": [
        "print(19)"
      ],
      "execution_count": null,
      "outputs": []
    },
    {
      "cell_type": "code",
      "metadata": {
        "id": "b4RS-r6edJp0"
      },
      "source": [
        "def is_palindrome(n: int) -> bool:\n",
        "    return n == reverse(n)"
      ],
      "execution_count": null,
      "outputs": []
    },
    {
      "cell_type": "code",
      "metadata": {
        "id": "_6yy0u5fdS7M"
      },
      "source": [
        "def euler004(START = 100, LIMIT = 1000):\n",
        "    palindromes = []\n",
        "    for a in range(START, LIMIT):\n",
        "        for b in range(START, LIMIT):\n",
        "            # code executed (LIMIT-START) * (LIMIT-START) times\n",
        "            n = a * b\n",
        "            if is_palindrome(n):\n",
        "                palindromes.append(n)\n",
        "    return max(palindromes)"
      ],
      "execution_count": null,
      "outputs": []
    },
    {
      "cell_type": "code",
      "metadata": {
        "id": "8LWT6cnCdwWO"
      },
      "source": [
        "print(euler004(START=10, LIMIT=100))"
      ],
      "execution_count": null,
      "outputs": []
    },
    {
      "cell_type": "code",
      "metadata": {
        "id": "2ihIXmZWe250"
      },
      "source": [
        "print(euler004())"
      ],
      "execution_count": null,
      "outputs": []
    },
    {
      "cell_type": "code",
      "metadata": {
        "id": "amgPLU0re6BD"
      },
      "source": [
        "def euler004(START = 100, LIMIT = 1000):\n",
        "    palindromes = []\n",
        "    for a in range(START, LIMIT):\n",
        "        for b in range(a, LIMIT):\n",
        "            # code executed ((LIMIT-START) * (LIMIT-START))/2 times\n",
        "            n = a * b\n",
        "            if is_palindrome(n):\n",
        "                palindromes.append(n)\n",
        "    return max(palindromes)"
      ],
      "execution_count": null,
      "outputs": []
    },
    {
      "cell_type": "code",
      "metadata": {
        "id": "9hWC5m7QfR8x"
      },
      "source": [
        "def antares(n):\n",
        "    x = []\n",
        "    while n > 0:\n",
        "        x.insert(0, n % 10)\n",
        "        n //= 10\n",
        "    return x"
      ],
      "execution_count": null,
      "outputs": []
    },
    {
      "cell_type": "code",
      "metadata": {
        "id": "Pvb9q3Gof-XP"
      },
      "source": [
        "def num_to_digits(n: int) -> [int]:\n",
        "    digits = []\n",
        "    while n > 0:\n",
        "        digits.insert(0, n % 10)\n",
        "        n //= 10\n",
        "    return digits"
      ],
      "execution_count": null,
      "outputs": []
    },
    {
      "cell_type": "code",
      "metadata": {
        "id": "VyBnDziHg-WI"
      },
      "source": [
        "num_to_digits(1203)"
      ],
      "execution_count": null,
      "outputs": []
    },
    {
      "cell_type": "code",
      "metadata": {
        "id": "vr0gHh5rhmYY"
      },
      "source": [
        "def betelgeuse(n):\n",
        "    return sorted(num_to_digits(n), reverse = True)"
      ],
      "execution_count": null,
      "outputs": []
    },
    {
      "cell_type": "code",
      "metadata": {
        "id": "kdMwC9MQh67i"
      },
      "source": [
        "betelgeuse(1729)"
      ],
      "execution_count": null,
      "outputs": []
    },
    {
      "cell_type": "code",
      "metadata": {
        "id": "bcKg7hRwi4Et"
      },
      "source": [
        "def digits_to_num(ds: [int]) -> int:\n",
        "    num = 0\n",
        "    for d in ds:\n",
        "        num = num * 10 + d\n",
        "    return num"
      ],
      "execution_count": null,
      "outputs": []
    },
    {
      "cell_type": "code",
      "metadata": {
        "id": "t0-gdXuZjRon"
      },
      "source": [
        "digits_to_num([1, 3, 7])"
      ],
      "execution_count": null,
      "outputs": []
    },
    {
      "cell_type": "code",
      "metadata": {
        "id": "F9qgptuZjUqA"
      },
      "source": [
        "def largest(n: int) -> int:\n",
        "    return digits_to_num(sorted(num_to_digits(n), reverse=True))"
      ],
      "execution_count": null,
      "outputs": []
    },
    {
      "cell_type": "code",
      "metadata": {
        "id": "wXkqomyCjiLl"
      },
      "source": [
        "largest(1729)"
      ],
      "execution_count": null,
      "outputs": []
    },
    {
      "cell_type": "code",
      "metadata": {
        "id": "tFCr273DjkIn"
      },
      "source": [
        "def smallest(n: int) -> int:\n",
        "    return digits_to_num(sorted(num_to_digits(n)))"
      ],
      "execution_count": null,
      "outputs": []
    },
    {
      "cell_type": "code",
      "metadata": {
        "id": "xjJ1Hl5MkJoO"
      },
      "source": [
        "smallest(1729)"
      ],
      "execution_count": null,
      "outputs": []
    },
    {
      "cell_type": "markdown",
      "metadata": {
        "id": "Tjf3-b1VkLgM"
      },
      "source": [
        "# Kaprekars constant"
      ]
    },
    {
      "cell_type": "code",
      "metadata": {
        "id": "-VkcqTCkkmf1"
      },
      "source": [
        "def num_to_digits(n: int) -> [int]:\n",
        "    digits = []\n",
        "    while n > 0:\n",
        "        digits.insert(0, n % 10)\n",
        "        n //= 10\n",
        "    return digits\n",
        "def digits_to_num(ds: [int]) -> int:\n",
        "    num = 0\n",
        "    for d in ds:\n",
        "        num = num * 10 + d\n",
        "    return num\n",
        "\n",
        "def largest(n: int) -> int:\n",
        "    return digits_to_num(sorted(num_to_digits(n), reverse=True))\n",
        "def smallest(n: int) -> int:\n",
        "    return digits_to_num(sorted(num_to_digits(n)))\n",
        "\n",
        "def next_kaprekar(n: int) -> int:\n",
        "    return largest(n) - smallest(n)\n",
        "    \n",
        "def kaprekar_seq(n: int) -> [int]:\n",
        "    k = next_kaprekar(n)\n",
        "    if k == n:\n",
        "        return [n]\n",
        "    else:\n",
        "        return [n] + kaprekar_seq(k) "
      ],
      "execution_count": null,
      "outputs": []
    },
    {
      "cell_type": "code",
      "metadata": {
        "id": "4kcxeP6FlZBk"
      },
      "source": [
        "kaprekar_seq(1729)"
      ],
      "execution_count": null,
      "outputs": []
    },
    {
      "cell_type": "code",
      "metadata": {
        "id": "cuGQvNhxle1O"
      },
      "source": [
        "kaprekar_seq(145)"
      ],
      "execution_count": null,
      "outputs": []
    },
    {
      "cell_type": "markdown",
      "metadata": {
        "id": "RavJ57B4mfGJ"
      },
      "source": [
        "## Tuples"
      ]
    },
    {
      "cell_type": "code",
      "metadata": {
        "id": "sFhXVKKrqBbx"
      },
      "source": [
        "t = (4, 5)"
      ],
      "execution_count": null,
      "outputs": []
    },
    {
      "cell_type": "code",
      "metadata": {
        "id": "9icIJ99WqGsL"
      },
      "source": [
        "t[0]"
      ],
      "execution_count": null,
      "outputs": []
    },
    {
      "cell_type": "code",
      "metadata": {
        "id": "58eut4PWqKHc"
      },
      "source": [
        "t[1]"
      ],
      "execution_count": null,
      "outputs": []
    },
    {
      "cell_type": "code",
      "metadata": {
        "id": "w4jJ_k6fqLGR"
      },
      "source": [
        "len(t)"
      ],
      "execution_count": null,
      "outputs": []
    },
    {
      "cell_type": "code",
      "metadata": {
        "id": "RGFSOd5qqMJ5"
      },
      "source": [
        "mut = [4, 5]"
      ],
      "execution_count": null,
      "outputs": []
    },
    {
      "cell_type": "code",
      "metadata": {
        "id": "DciKnaWUqVDP"
      },
      "source": [
        "mut.append(6)"
      ],
      "execution_count": null,
      "outputs": []
    },
    {
      "cell_type": "code",
      "metadata": {
        "id": "lU4q1o0jqXCq"
      },
      "source": [
        "mut"
      ],
      "execution_count": null,
      "outputs": []
    },
    {
      "cell_type": "code",
      "metadata": {
        "id": "fE8LJowhqYYR"
      },
      "source": [
        "mut.append(-2)"
      ],
      "execution_count": null,
      "outputs": []
    },
    {
      "cell_type": "code",
      "metadata": {
        "id": "oMe8fQBkqdAk"
      },
      "source": [
        "mut"
      ],
      "execution_count": null,
      "outputs": []
    },
    {
      "cell_type": "code",
      "metadata": {
        "id": "2bbXNiVPqdzD"
      },
      "source": [
        "mut.sort()"
      ],
      "execution_count": null,
      "outputs": []
    },
    {
      "cell_type": "code",
      "metadata": {
        "id": "6AIW9IefqfnI"
      },
      "source": [
        "mut"
      ],
      "execution_count": null,
      "outputs": []
    },
    {
      "cell_type": "code",
      "metadata": {
        "id": "Veak2qe5qgnL"
      },
      "source": [
        "t = (4, -2, 6, 5)"
      ],
      "execution_count": null,
      "outputs": []
    },
    {
      "cell_type": "code",
      "metadata": {
        "id": "e2cTagnhqmop"
      },
      "source": [
        "t.append(7)"
      ],
      "execution_count": null,
      "outputs": []
    },
    {
      "cell_type": "code",
      "metadata": {
        "id": "lAlkx52DqozV"
      },
      "source": [
        "t.sort()"
      ],
      "execution_count": null,
      "outputs": []
    },
    {
      "cell_type": "code",
      "metadata": {
        "id": "9jwN270hqsfn"
      },
      "source": [
        "tt = 7, 8"
      ],
      "execution_count": null,
      "outputs": []
    },
    {
      "cell_type": "code",
      "metadata": {
        "id": "H3edFA9ksJkr"
      },
      "source": [
        "type(tt)"
      ],
      "execution_count": null,
      "outputs": []
    },
    {
      "cell_type": "code",
      "metadata": {
        "id": "0ygZsZHGsK1H"
      },
      "source": [
        "tt"
      ],
      "execution_count": null,
      "outputs": []
    },
    {
      "cell_type": "code",
      "metadata": {
        "id": "u_rXHLc6sNlt"
      },
      "source": [
        "print(tt)"
      ],
      "execution_count": null,
      "outputs": []
    },
    {
      "cell_type": "code",
      "metadata": {
        "id": "8gxK0LygsQ3F"
      },
      "source": [
        "n, total = 1, 0"
      ],
      "execution_count": null,
      "outputs": []
    },
    {
      "cell_type": "code",
      "metadata": {
        "id": "zzlFTXwEsavZ"
      },
      "source": [
        "alpha, beta = 17, 32"
      ],
      "execution_count": null,
      "outputs": []
    },
    {
      "cell_type": "code",
      "metadata": {
        "id": "OoiWBv7_stOC"
      },
      "source": [
        "alpha, beta = beta, alpha"
      ],
      "execution_count": null,
      "outputs": []
    },
    {
      "cell_type": "code",
      "metadata": {
        "id": "4cHFfRAmszi8"
      },
      "source": [
        "alpha"
      ],
      "execution_count": null,
      "outputs": []
    },
    {
      "cell_type": "code",
      "metadata": {
        "id": "pmJW8B0ks3Zd"
      },
      "source": [
        "beta "
      ],
      "execution_count": null,
      "outputs": []
    },
    {
      "cell_type": "code",
      "metadata": {
        "id": "uFzbgUxAs4-g"
      },
      "source": [
        "def mulf(a: int) -> (int, int):\n",
        "    return a, a * a + 2"
      ],
      "execution_count": null,
      "outputs": []
    },
    {
      "cell_type": "code",
      "metadata": {
        "id": "N_5AYXKOtLFQ"
      },
      "source": [
        "x = mulf(7)"
      ],
      "execution_count": null,
      "outputs": []
    },
    {
      "cell_type": "code",
      "metadata": {
        "id": "Sd6EDICztPBm"
      },
      "source": [
        "x[0]"
      ],
      "execution_count": null,
      "outputs": []
    },
    {
      "cell_type": "code",
      "metadata": {
        "id": "Xhds8s3btYEW"
      },
      "source": [
        "x[1]"
      ],
      "execution_count": null,
      "outputs": []
    },
    {
      "cell_type": "code",
      "metadata": {
        "id": "EFIr1Y8etZCK"
      },
      "source": [
        "p, q = mulf(7)"
      ],
      "execution_count": null,
      "outputs": []
    },
    {
      "cell_type": "code",
      "metadata": {
        "id": "GBqsULLAtche"
      },
      "source": [
        "p"
      ],
      "execution_count": null,
      "outputs": []
    },
    {
      "cell_type": "code",
      "metadata": {
        "id": "h_nT1-R8tdJ3"
      },
      "source": [
        "q"
      ],
      "execution_count": null,
      "outputs": []
    },
    {
      "cell_type": "code",
      "metadata": {
        "id": "xsLOqOlOtd4t"
      },
      "source": [
        "type(x)"
      ],
      "execution_count": null,
      "outputs": []
    },
    {
      "cell_type": "code",
      "metadata": {
        "id": "smuLrNOZtnro"
      },
      "source": [
        "def untuple(x):\n",
        "    if type(x) == tuple:\n",
        "        return x[1]\n",
        "    else:\n",
        "        return x"
      ],
      "execution_count": null,
      "outputs": []
    },
    {
      "cell_type": "markdown",
      "metadata": {
        "id": "JSvHvPAmuW8Y"
      },
      "source": [
        "The above is **BAD** idea. Should not be used "
      ]
    },
    {
      "cell_type": "code",
      "metadata": {
        "id": "VMudDbv2urvC"
      },
      "source": [
        "a, b = 3, 7, 8"
      ],
      "execution_count": null,
      "outputs": []
    },
    {
      "cell_type": "code",
      "metadata": {
        "id": "CTP-9T2sux2Z"
      },
      "source": [
        "a, b, c = 3, 7"
      ],
      "execution_count": null,
      "outputs": []
    },
    {
      "cell_type": "code",
      "metadata": {
        "id": "nI9cPucgu05q"
      },
      "source": [
        "t1 = (1, 2)"
      ],
      "execution_count": null,
      "outputs": []
    },
    {
      "cell_type": "code",
      "metadata": {
        "id": "Tj7z0KbMvvlm"
      },
      "source": [
        "t2 = (\"a\", \"b\")"
      ],
      "execution_count": null,
      "outputs": []
    },
    {
      "cell_type": "code",
      "metadata": {
        "id": "AstRBDzbvyN1"
      },
      "source": [
        "t1 + t2"
      ],
      "execution_count": null,
      "outputs": []
    },
    {
      "cell_type": "code",
      "metadata": {
        "id": "2JI7E0GtvzUt"
      },
      "source": [
        "t1"
      ],
      "execution_count": null,
      "outputs": []
    },
    {
      "cell_type": "code",
      "metadata": {
        "id": "lKG5CE06v0Es"
      },
      "source": [
        "t2"
      ],
      "execution_count": null,
      "outputs": []
    },
    {
      "cell_type": "code",
      "metadata": {
        "id": "2z53GaRwv08e"
      },
      "source": [
        "id(t1)"
      ],
      "execution_count": null,
      "outputs": []
    },
    {
      "cell_type": "code",
      "metadata": {
        "id": "SSWSXUXzv5Sk"
      },
      "source": [
        "id(t2)"
      ],
      "execution_count": null,
      "outputs": []
    },
    {
      "cell_type": "code",
      "metadata": {
        "id": "7OeTptpZv6gO"
      },
      "source": [
        "t1 = t1 + t2"
      ],
      "execution_count": null,
      "outputs": []
    },
    {
      "cell_type": "code",
      "metadata": {
        "id": "FLm8CdB5v8EF"
      },
      "source": [
        "t1"
      ],
      "execution_count": null,
      "outputs": []
    },
    {
      "cell_type": "code",
      "metadata": {
        "id": "S1XkJlhgv9Ym"
      },
      "source": [
        "id(t1)"
      ],
      "execution_count": null,
      "outputs": []
    },
    {
      "cell_type": "markdown",
      "metadata": {
        "id": "jFwTVdWtv-74"
      },
      "source": [
        "*We are not going into the intricacies of mutability and immutability of tuples* and strings"
      ]
    },
    {
      "cell_type": "markdown",
      "metadata": {
        "id": "thn_pK5g0MjY"
      },
      "source": [
        "https://pythontutor.com/visualize.html#mode=edit\n",
        "\n",
        "For visualizing python code execution step by step"
      ]
    },
    {
      "cell_type": "markdown",
      "metadata": {
        "id": "Iv2766Kn1gSk"
      },
      "source": [
        "# Strings"
      ]
    },
    {
      "cell_type": "code",
      "metadata": {
        "id": "4IYkboex1rvc"
      },
      "source": [
        "s1 = 'Hello World'"
      ],
      "execution_count": null,
      "outputs": []
    },
    {
      "cell_type": "code",
      "metadata": {
        "id": "at-8EB_q115K"
      },
      "source": [
        "s2 = \"Hello World\""
      ],
      "execution_count": null,
      "outputs": []
    },
    {
      "cell_type": "code",
      "metadata": {
        "id": "JTAJ80Nm2IFw"
      },
      "source": [
        "alpha = \"He said I'm hungry\""
      ],
      "execution_count": null,
      "outputs": []
    },
    {
      "cell_type": "code",
      "metadata": {
        "id": "hzip856v2Rqy"
      },
      "source": [
        "beta = 'He explained, \"I am trying to cross the ocean\", in a soft voice'"
      ],
      "execution_count": null,
      "outputs": []
    },
    {
      "cell_type": "code",
      "metadata": {
        "id": "-On94dn42ff8"
      },
      "source": [
        "len(alpha)"
      ],
      "execution_count": null,
      "outputs": []
    },
    {
      "cell_type": "code",
      "metadata": {
        "id": "iJR4T4wX2ouV"
      },
      "source": [
        "alpha[3]"
      ],
      "execution_count": null,
      "outputs": []
    },
    {
      "cell_type": "code",
      "metadata": {
        "id": "R8Jk3TCb2qjU"
      },
      "source": [
        "alpha[4:12]"
      ],
      "execution_count": null,
      "outputs": []
    },
    {
      "cell_type": "code",
      "metadata": {
        "id": "axaysn9I2wLw"
      },
      "source": [
        "beta[3:17:3]"
      ],
      "execution_count": null,
      "outputs": []
    },
    {
      "cell_type": "code",
      "metadata": {
        "id": "kATtIBMK2yhj"
      },
      "source": [
        "alpha[0] = 'A'"
      ],
      "execution_count": null,
      "outputs": []
    },
    {
      "cell_type": "code",
      "metadata": {
        "id": "FCJimgVY24kw"
      },
      "source": [
        "for ch in s1:\n",
        "    print(ch, end = ',')"
      ],
      "execution_count": null,
      "outputs": []
    },
    {
      "cell_type": "code",
      "metadata": {
        "id": "0wvc9HKr3B4y"
      },
      "source": [
        "s1"
      ],
      "execution_count": null,
      "outputs": []
    },
    {
      "cell_type": "code",
      "metadata": {
        "id": "ppKQE7d0302G"
      },
      "source": [
        "s1 = s1 + \" Python\""
      ],
      "execution_count": null,
      "outputs": []
    },
    {
      "cell_type": "code",
      "metadata": {
        "id": "xAZUqp6e33Yr"
      },
      "source": [
        "s1"
      ],
      "execution_count": null,
      "outputs": []
    },
    {
      "cell_type": "code",
      "metadata": {
        "id": "ZFQKVEF934IG"
      },
      "source": [
        "s3 = \"\"\"Long long ago, in a galaxy far far away\n",
        "the entire galaxy was in a turmoil. The empire was fighting\n",
        "against the rebels led by General M'Bako. His motto was\n",
        "\"Onward and onward\". He was a fierce warrior.\"\"\""
      ],
      "execution_count": null,
      "outputs": []
    },
    {
      "cell_type": "code",
      "metadata": {
        "id": "HksELxtn4WiM"
      },
      "source": [
        "print(s3)"
      ],
      "execution_count": null,
      "outputs": []
    },
    {
      "cell_type": "code",
      "metadata": {
        "id": "qIfRnCQh4mSR"
      },
      "source": [
        "s3"
      ],
      "execution_count": null,
      "outputs": []
    },
    {
      "cell_type": "code",
      "metadata": {
        "id": "mD0zm0rY4oh3"
      },
      "source": [
        "def reverse(n: int) -> int:\n",
        "    '''Reverses the digits of an integer and\n",
        "    returns a new integer. Assumes that n is positive'''\n",
        "    rev = 0\n",
        "    while n > 0:\n",
        "        rev = rev * 10 + n % 10\n",
        "        n //= 10\n",
        "    return rev"
      ],
      "execution_count": null,
      "outputs": []
    },
    {
      "cell_type": "code",
      "metadata": {
        "id": "Y7620irc5NNY"
      },
      "source": [
        "reverse?"
      ],
      "execution_count": null,
      "outputs": []
    },
    {
      "cell_type": "code",
      "metadata": {
        "id": "ZuzHt43O5YP9"
      },
      "source": [
        "abs?"
      ],
      "execution_count": null,
      "outputs": []
    },
    {
      "cell_type": "code",
      "metadata": {
        "id": "RVNBS2J55o9F"
      },
      "source": [
        "reverse.__doc__"
      ],
      "execution_count": null,
      "outputs": []
    },
    {
      "cell_type": "markdown",
      "metadata": {
        "id": "NMEazT0j51o7"
      },
      "source": [
        "String methods are here:\n",
        "\n",
        "https://docs.python.org/3.7/library/stdtypes.html#text-sequence-type-str"
      ]
    },
    {
      "cell_type": "code",
      "metadata": {
        "id": "2mpsWolT6m_7"
      },
      "source": [
        "a = \"Hello\"\n",
        "b = \"World\""
      ],
      "execution_count": null,
      "outputs": []
    },
    {
      "cell_type": "code",
      "metadata": {
        "id": "yPWDCy2q62iF"
      },
      "source": [
        "ab = a + b"
      ],
      "execution_count": null,
      "outputs": []
    },
    {
      "cell_type": "code",
      "metadata": {
        "id": "4cLeCU8164dG"
      },
      "source": [
        "print(ab)"
      ],
      "execution_count": null,
      "outputs": []
    },
    {
      "cell_type": "code",
      "metadata": {
        "id": "zp__PB3Z651v"
      },
      "source": [
        "''.join([\"Hello\", \"World\", \"Python\"])"
      ],
      "execution_count": null,
      "outputs": []
    },
    {
      "cell_type": "code",
      "metadata": {
        "id": "rGf1gCUV6_xQ"
      },
      "source": [
        "' '.join([\"Hello\", \"World\", \"Python\"])"
      ],
      "execution_count": null,
      "outputs": []
    },
    {
      "cell_type": "code",
      "metadata": {
        "id": "_YQmXjfU7Boz"
      },
      "source": [
        "'+'.join([\"Hello\", \"World\", \"Python\"])"
      ],
      "execution_count": null,
      "outputs": []
    },
    {
      "cell_type": "code",
      "metadata": {
        "id": "A_m_i38S7Dck"
      },
      "source": [
        "'ka '.join([\"Hello\", \"World\", \"Python\"])"
      ],
      "execution_count": null,
      "outputs": []
    },
    {
      "cell_type": "code",
      "metadata": {
        "id": "4G6XCrhu7F_J"
      },
      "source": [
        "hwp = \"Hello! World of Python welcomes you\""
      ],
      "execution_count": null,
      "outputs": []
    },
    {
      "cell_type": "code",
      "metadata": {
        "id": "IjYBjIk07r3_"
      },
      "source": [
        "hwp.lower()"
      ],
      "execution_count": null,
      "outputs": []
    },
    {
      "cell_type": "code",
      "metadata": {
        "id": "eceA_uYJ7yfq"
      },
      "source": [
        "hwp.upper()"
      ],
      "execution_count": null,
      "outputs": []
    },
    {
      "cell_type": "code",
      "metadata": {
        "id": "p-_nFXSx70CY"
      },
      "source": [
        "hwp.lower().title()"
      ],
      "execution_count": null,
      "outputs": []
    },
    {
      "cell_type": "code",
      "metadata": {
        "id": "ozkhOYig73JH"
      },
      "source": [
        "hwp.endswith(\"ou\")"
      ],
      "execution_count": null,
      "outputs": []
    },
    {
      "cell_type": "code",
      "metadata": {
        "id": "KNS3G1nN78R0"
      },
      "source": [
        "hwp.startswith(\"HELLO\")"
      ],
      "execution_count": null,
      "outputs": []
    },
    {
      "cell_type": "code",
      "metadata": {
        "id": "oo4vRTEJ7_ju"
      },
      "source": [
        "hwp.upper().startswith(\"HELL\")"
      ],
      "execution_count": null,
      "outputs": []
    },
    {
      "cell_type": "code",
      "metadata": {
        "id": "8ZZHjddq8FFI"
      },
      "source": [
        "h = \"Hello\""
      ],
      "execution_count": null,
      "outputs": []
    },
    {
      "cell_type": "code",
      "metadata": {
        "id": "YImMUQmD8VFD"
      },
      "source": [
        "5 * h"
      ],
      "execution_count": null,
      "outputs": []
    },
    {
      "cell_type": "code",
      "metadata": {
        "id": "XOhV_GTd8Wcc"
      },
      "source": [
        "5 * (h + ' ')"
      ],
      "execution_count": null,
      "outputs": []
    },
    {
      "cell_type": "code",
      "metadata": {
        "id": "ny_MCGEl8ht5"
      },
      "source": [
        "print(hwp)"
      ],
      "execution_count": null,
      "outputs": []
    },
    {
      "cell_type": "code",
      "metadata": {
        "id": "IUYbgBPL83Rr"
      },
      "source": [
        "hwp.split()"
      ],
      "execution_count": null,
      "outputs": []
    },
    {
      "cell_type": "code",
      "metadata": {
        "id": "bGMlrF0g85AM"
      },
      "source": [
        "5 * [1, 2]"
      ],
      "execution_count": null,
      "outputs": []
    },
    {
      "cell_type": "code",
      "metadata": {
        "id": "utqRPcHs9CLh"
      },
      "source": [
        "hwpss = '''Hello!         World \\n of Python         Welcomes you'''"
      ],
      "execution_count": null,
      "outputs": []
    },
    {
      "cell_type": "code",
      "metadata": {
        "id": "ZiIKNm2r9VZH"
      },
      "source": [
        "hwpss.split()"
      ],
      "execution_count": null,
      "outputs": []
    },
    {
      "cell_type": "code",
      "metadata": {
        "id": "ibMsk3mz9ZhT"
      },
      "source": [
        "hwpss.split(' ')"
      ],
      "execution_count": null,
      "outputs": []
    },
    {
      "cell_type": "code",
      "metadata": {
        "id": "ua2Jd1jf90Yi"
      },
      "source": [
        "sorted(\"hello\")"
      ],
      "execution_count": null,
      "outputs": []
    },
    {
      "cell_type": "code",
      "metadata": {
        "id": "lbbYupM--L_M"
      },
      "source": [
        "''.join(sorted('hello'))"
      ],
      "execution_count": null,
      "outputs": []
    },
    {
      "cell_type": "markdown",
      "metadata": {
        "id": "Ae0CdT-V-Wt5"
      },
      "source": [
        "Write a function that checks if two strings are anagrams of each other"
      ]
    },
    {
      "cell_type": "code",
      "metadata": {
        "id": "vgh9AULf-o1O"
      },
      "source": [
        "'   yes  '.strip()"
      ],
      "execution_count": null,
      "outputs": []
    },
    {
      "cell_type": "code",
      "metadata": {
        "id": "ZkpASbc1_QO6"
      },
      "source": [
        "'   ye  s    '.strip()"
      ],
      "execution_count": null,
      "outputs": []
    },
    {
      "cell_type": "code",
      "metadata": {
        "id": "qRo6fVox_S48"
      },
      "source": [
        "'hello world'.replace('l', 'p')"
      ],
      "execution_count": null,
      "outputs": []
    },
    {
      "cell_type": "code",
      "metadata": {
        "id": "x7f8Cs_R_o3G"
      },
      "source": [
        "'hello world'.replace('l', '')"
      ],
      "execution_count": null,
      "outputs": []
    },
    {
      "cell_type": "code",
      "metadata": {
        "id": "x58WO0Ni_sDf"
      },
      "source": [
        "hwpss.replace(' ', '')"
      ],
      "execution_count": null,
      "outputs": []
    },
    {
      "cell_type": "code",
      "metadata": {
        "id": "qYTxHjuo_yHg"
      },
      "source": [
        "def is_anagram(s: str, t: str) -> bool:\n",
        "    '''Checks if the two given strings s and t are anagrams of\n",
        "    each other. Case sensitive'''\n",
        "    return sorted(s) == sorted(t)"
      ],
      "execution_count": null,
      "outputs": []
    },
    {
      "cell_type": "code",
      "metadata": {
        "id": "zyA1JGt8AjDN"
      },
      "source": [
        "def is_anagram(s: str, t: str, ignore_case = False) -> bool:\n",
        "    '''Checks if the two given strings s and t are anagrams of\n",
        "    each other.'''\n",
        "    if ignore_case:\n",
        "        s = s.upper()\n",
        "        t = t.upper()\n",
        "    return sorted(s) == sorted(t)"
      ],
      "execution_count": null,
      "outputs": []
    },
    {
      "cell_type": "markdown",
      "metadata": {
        "id": "PcaJRmixBaRo"
      },
      "source": [
        "ter = 7 if len(hwp) > 10 else 10"
      ]
    },
    {
      "cell_type": "markdown",
      "metadata": {
        "id": "xheQ4LFWB1iS"
      },
      "source": [
        "ter = len(hwp) > 10 ? 7: 10"
      ]
    },
    {
      "cell_type": "markdown",
      "metadata": {
        "id": "GhTD4u75B_5N"
      },
      "source": [
        "54 -> 27 -> 82 -> 41 -> 124 -> 62 -> 31 -> 94 -> 47 -> 142 -> 71 -> 214 -> 107 -> 322 -> 161 -> 484 -> 242 -> 121 -> 364 -> 182 -> 91 -> 274 -> 137 -> 412 -> 206 -> 103 -> 310 -> 155 -> 466 -> 233 -> 700 -> 350 -> 175 -> ....."
      ]
    },
    {
      "cell_type": "markdown",
      "metadata": {
        "id": "gzCg17FnEQwC"
      },
      "source": [
        "7 -> 22 -> 11 -> 34 -> 17 -> 52 -> 26 -> 13 -> 40 -> 20 -> 10 -> 5 -> 16 -> 8 -> 4 -> 2 -> 1\n",
        "\n",
        "[7, 22, 11, 34, 17, 52, 26, 13, 40, 20, 10, 5, 16, 8, 4, 2, 1]"
      ]
    },
    {
      "cell_type": "code",
      "metadata": {
        "id": "NtZOM3hPExFL"
      },
      "source": [
        "def collatz(n: int) -> [int]:\n",
        "    '''Generate the collatz sequence starting with n\n",
        "    and ending in the first occurrence of 4, 2, 1'''\n",
        "    def next_collatz(n: int) -> int:\n",
        "        return n//2 if n % 2 == 0 else 3 * n + 1\n",
        "    if n == 4:\n",
        "        return [4, 2, 1]\n",
        "    return [n] + collatz(next_collatz(n))\n"
      ],
      "execution_count": null,
      "outputs": []
    },
    {
      "cell_type": "code",
      "metadata": {
        "id": "VXjYVHO1Jqt5"
      },
      "source": [
        "print(collatz(7))"
      ],
      "execution_count": null,
      "outputs": []
    },
    {
      "cell_type": "code",
      "metadata": {
        "id": "B_6BYknQJt-A"
      },
      "source": [
        "print(collatz(2))"
      ],
      "execution_count": null,
      "outputs": []
    },
    {
      "cell_type": "code",
      "metadata": {
        "id": "qRWVuqljJy2z"
      },
      "source": [
        "print(collatz(1))"
      ],
      "execution_count": null,
      "outputs": []
    },
    {
      "cell_type": "code",
      "metadata": {
        "id": "8DVuDStFJ1fT"
      },
      "source": [
        "next_collatz(7)"
      ],
      "execution_count": null,
      "outputs": []
    },
    {
      "cell_type": "code",
      "metadata": {
        "id": "pFgCKmG5KTMV"
      },
      "source": [
        "def collatz_1(n: int) -> [int]:\n",
        "    ''' Non recursive'''\n",
        "    seq = []\n",
        "    while n != 4:\n",
        "        seq.append(n)\n",
        "        n = n // 2 if n % 2 == 0 else 3 * n + 1\n",
        "    return seq + [4, 2, 1]"
      ],
      "execution_count": null,
      "outputs": []
    },
    {
      "cell_type": "code",
      "metadata": {
        "id": "WPydCkEqazLF"
      },
      "source": [
        "def collatz_2(n: int) -> [int]:\n",
        "    ''' inner functions not restricted to recusion'''\n",
        "    def next_collatz(k: int) -> int:\n",
        "        if k % 2 == 0:\n",
        "            return k // 2\n",
        "        else:\n",
        "            return 3 * k + 1\n",
        "    seq = []\n",
        "    while n != 4:\n",
        "        seq.append(n)\n",
        "        n = next_collatz(n)\n",
        "    return seq + [4, 2, 1]"
      ],
      "execution_count": null,
      "outputs": []
    },
    {
      "cell_type": "code",
      "metadata": {
        "id": "Wnv1Tf5ybVA_"
      },
      "source": [
        "collatz_2(7)"
      ],
      "execution_count": null,
      "outputs": []
    },
    {
      "cell_type": "markdown",
      "metadata": {
        "id": "sgfFRdhAPzAu"
      },
      "source": [
        "### Euler Problem 1\n",
        "#### Using filter()\n",
        "\n",
        "If we list all the natural numbers below 10 that are multiples of 3 or 5, we get 3, 5, 6 and 9. The sum of these multiples is 23.\n",
        "\n",
        "Find the sum of all the multiples of 3 or 5 below 1000.\n"
      ]
    },
    {
      "cell_type": "code",
      "metadata": {
        "id": "YFnbX5cCQNPo"
      },
      "source": [
        "def select(p: int) -> bool:\n",
        "    return p % 3 == 0 or p % 5 == 0"
      ],
      "execution_count": null,
      "outputs": []
    },
    {
      "cell_type": "code",
      "metadata": {
        "id": "S86pBJ0Vb5AS"
      },
      "source": [
        "def euler001_A(LIMIT = 1000):\n",
        "    return sum(filter(select, range(1, LIMIT)))"
      ],
      "execution_count": null,
      "outputs": []
    },
    {
      "cell_type": "code",
      "metadata": {
        "id": "uIfFqs_Tf8Ph"
      },
      "source": [
        ""
      ],
      "execution_count": null,
      "outputs": []
    },
    {
      "cell_type": "code",
      "metadata": {
        "id": "8zoNCcR0cIIi"
      },
      "source": [
        "euler001_A(10)"
      ],
      "execution_count": null,
      "outputs": []
    },
    {
      "cell_type": "code",
      "metadata": {
        "id": "bgQccSgZcKgi"
      },
      "source": [
        "euler001_A()"
      ],
      "execution_count": null,
      "outputs": []
    },
    {
      "cell_type": "code",
      "metadata": {
        "id": "yFt5mnhxcNYh"
      },
      "source": [
        "filter?"
      ],
      "execution_count": null,
      "outputs": []
    },
    {
      "cell_type": "code",
      "metadata": {
        "id": "TtewaGLzdIDz"
      },
      "source": [
        "def even(x):\n",
        "    return x % 2 == 0"
      ],
      "execution_count": null,
      "outputs": []
    },
    {
      "cell_type": "code",
      "metadata": {
        "id": "5cobSFK3djLX"
      },
      "source": [
        "list(filter(even, [1, 2, 3, 4, 6, 7, 9]))"
      ],
      "execution_count": null,
      "outputs": []
    },
    {
      "cell_type": "code",
      "metadata": {
        "id": "fZvhh64AdqSZ"
      },
      "source": [
        "def mul3(n: int) -> bool:\n",
        "    return n % 3 == 0"
      ],
      "execution_count": null,
      "outputs": []
    },
    {
      "cell_type": "code",
      "metadata": {
        "id": "msAFW4Mwdzt9"
      },
      "source": [
        "list(filter(mul3, [1, 2, 3, 4, 6, 7, 9]))"
      ],
      "execution_count": null,
      "outputs": []
    },
    {
      "cell_type": "code",
      "metadata": {
        "id": "gbNaTB9Ud3Xm"
      },
      "source": [
        "def myfilter(f, xs):\n",
        "    b = []\n",
        "    for x in xs:\n",
        "        if f(x):\n",
        "            b.append(x)\n",
        "    return b"
      ],
      "execution_count": null,
      "outputs": []
    },
    {
      "cell_type": "code",
      "metadata": {
        "id": "H4WhdtbgeIFq"
      },
      "source": [
        "myfilter(mul3,[1, 2, 3, 4, 6, 7, 9])"
      ],
      "execution_count": null,
      "outputs": []
    },
    {
      "cell_type": "markdown",
      "metadata": {
        "id": "p18YmCF0eO_A"
      },
      "source": [
        "### map() function\n",
        "\n",
        "map(f, c) -> [f(c[0]), f(c[1]), ... f(c[-1])]"
      ]
    },
    {
      "cell_type": "code",
      "metadata": {
        "id": "ekIAsne5hBuz"
      },
      "source": [
        "even(7)"
      ],
      "execution_count": null,
      "outputs": []
    },
    {
      "cell_type": "code",
      "metadata": {
        "id": "XY9S3X4WhaBB"
      },
      "source": [
        "list(map(even, [1, 2, 4, 6, 3, 9, 8]))"
      ],
      "execution_count": null,
      "outputs": []
    },
    {
      "cell_type": "code",
      "metadata": {
        "id": "hwbuFMtYhgaw"
      },
      "source": [
        "def sqplus(n: int) -> int:\n",
        "    return n * n + 1"
      ],
      "execution_count": null,
      "outputs": []
    },
    {
      "cell_type": "code",
      "metadata": {
        "id": "cqMt93QqhqyP"
      },
      "source": [
        "list(map(sqplus, [1, 2, 4, 6, 3, 9, 8]))"
      ],
      "execution_count": null,
      "outputs": []
    },
    {
      "cell_type": "code",
      "metadata": {
        "id": "KyM2iNrfhv6g"
      },
      "source": [
        "def next_collatz(n):\n",
        "    return n//2 if n % 2 == 0 else 3 * n + 1\n"
      ],
      "execution_count": null,
      "outputs": []
    },
    {
      "cell_type": "code",
      "metadata": {
        "id": "BHNGf1ksh6RM"
      },
      "source": [
        "list(map(next_collatz, [1, 2, 4, 6, 3, 9, 8]))"
      ],
      "execution_count": null,
      "outputs": []
    },
    {
      "cell_type": "code",
      "metadata": {
        "id": "9rTbPm-Sh-4f"
      },
      "source": [
        "c = [7, 8, 9, 12, \"H\"]"
      ],
      "execution_count": null,
      "outputs": []
    },
    {
      "cell_type": "code",
      "metadata": {
        "id": "cMBDm3AzjjIc"
      },
      "source": [
        "c[0]"
      ],
      "execution_count": null,
      "outputs": []
    },
    {
      "cell_type": "code",
      "metadata": {
        "id": "Kjv6u4H6jqzi"
      },
      "source": [
        "c[1]"
      ],
      "execution_count": null,
      "outputs": []
    },
    {
      "cell_type": "markdown",
      "metadata": {
        "id": "Zp-4Yr_njr89"
      },
      "source": [
        "$S' = \\{\\phi(x) | x \\in S\\}$ is the same as \n",
        "\n",
        "$map(\\phi, S)$ and \n",
        "\n",
        "$[\\phi(x)~for~x~in~S]$\n",
        "\n",
        "-------------------\n",
        "\n",
        "$S' = \\{x| x \\in S, \\pi(x)\\}$ is the same as \n",
        "\n",
        "$filter(\\pi, S)$\n",
        "\n",
        "$[ch~for~ch~in~S~if \\pi(ch)]$\n",
        "\n",
        "-------------------------\n",
        "\n",
        "$S' = \\{\\phi(x) | x \\in S, \\pi(x)\\}$ is the same as \n",
        "\n",
        "$map(\\phi, filter(\\pi, S))$\n",
        "\n",
        "$[\\phi(a)~for~a~in~S~if~\\pi(a)]$\n"
      ]
    },
    {
      "cell_type": "code",
      "metadata": {
        "id": "W98ZlZGKndTq"
      },
      "source": [
        "S =  [1, 2, 4, 6, 3, 9, 8]\n",
        "\n",
        "def pi(a):\n",
        "    return a % 2 == 0\n",
        "\n",
        "def phi(b):\n",
        "    return b * b + 1\n"
      ],
      "execution_count": null,
      "outputs": []
    },
    {
      "cell_type": "code",
      "metadata": {
        "id": "zEP_Qw00no_3"
      },
      "source": [
        "list(filter(pi, S))"
      ],
      "execution_count": null,
      "outputs": []
    },
    {
      "cell_type": "code",
      "metadata": {
        "id": "nHoQH6SFn3du"
      },
      "source": [
        "list(map(phi, S))"
      ],
      "execution_count": null,
      "outputs": []
    },
    {
      "cell_type": "code",
      "metadata": {
        "id": "GXYAuaqzn9Ya"
      },
      "source": [
        "list(map(phi, filter(pi, S)))"
      ],
      "execution_count": null,
      "outputs": []
    },
    {
      "cell_type": "code",
      "metadata": {
        "id": "GKZAZdhGoSRe"
      },
      "source": [
        "[phi(x) for x in S if pi(x)]"
      ],
      "execution_count": null,
      "outputs": []
    },
    {
      "cell_type": "code",
      "metadata": {
        "id": "QFO4pzowo-A9"
      },
      "source": [
        "[sqplus(k) for k in S if even(k)]"
      ],
      "execution_count": null,
      "outputs": []
    },
    {
      "cell_type": "code",
      "metadata": {
        "id": "sltpQor6pJvC"
      },
      "source": [
        ""
      ],
      "execution_count": null,
      "outputs": []
    },
    {
      "cell_type": "markdown",
      "metadata": {
        "id": "uuuDuWShqSWz"
      },
      "source": [
        "### Euler Problem 1\n",
        "#### Using list comprehensions\n",
        "\n",
        "If we list all the natural numbers below 10 that are multiples of 3 or 5, we get 3, 5, 6 and 9. The sum of these multiples is 23.\n",
        "\n",
        "Find the sum of all the multiples of 3 or 5 below 1000.\n"
      ]
    },
    {
      "cell_type": "code",
      "metadata": {
        "id": "CQiW8kVSqVHr"
      },
      "source": [
        "def select(w: int) -> bool:\n",
        "    return w % 3 == 0 or w % 5 == 0 "
      ],
      "execution_count": null,
      "outputs": []
    },
    {
      "cell_type": "code",
      "metadata": {
        "id": "38J-tX9Uqh2A"
      },
      "source": [
        "def euler001_LC(LIMIT = 1000):\n",
        "    return sum([x for x in range(1, LIMIT) if select(x)])"
      ],
      "execution_count": null,
      "outputs": []
    },
    {
      "cell_type": "code",
      "metadata": {
        "id": "qQmirzyxrcib"
      },
      "source": [
        "def euler001_LC2(LIMIT = 1000):\n",
        "    return sum([x for x in range(1, LIMIT) if x % 3 == 0 or x % 5 == 0])"
      ],
      "execution_count": null,
      "outputs": []
    },
    {
      "cell_type": "code",
      "metadata": {
        "id": "sTOGMQi8qq85"
      },
      "source": [
        "euler001_LC(10)"
      ],
      "execution_count": null,
      "outputs": []
    },
    {
      "cell_type": "code",
      "metadata": {
        "id": "zijaBw1Nqu_5"
      },
      "source": [
        "euler001_LC()"
      ],
      "execution_count": null,
      "outputs": []
    },
    {
      "cell_type": "code",
      "metadata": {
        "id": "BjWmqwVSqxD8"
      },
      "source": [
        "def num2digits(n: int) -> [int]:\n",
        "    ds = []\n",
        "    while n > 0:\n",
        "        ds.insert(0, n % 10)\n",
        "        n //= 10\n",
        "    return ds\n",
        "\n",
        "def get_digits(n: int) -> [int] :\n",
        "    return [int(ch) for ch in str(n)]\n",
        "\n",
        "def digits(n: int) -> int:\n",
        "    return list(map(int, str(n)))"
      ],
      "execution_count": null,
      "outputs": []
    },
    {
      "cell_type": "code",
      "metadata": {
        "id": "JlFj6lxbrr2y"
      },
      "source": [
        "str(1729)"
      ],
      "execution_count": null,
      "outputs": []
    },
    {
      "cell_type": "code",
      "metadata": {
        "id": "HkAERkQqsZmk"
      },
      "source": [
        "deneb(1729)"
      ],
      "execution_count": null,
      "outputs": []
    },
    {
      "cell_type": "code",
      "metadata": {
        "id": "QO41d2MLunRz"
      },
      "source": [
        "def all_digits_even(n: int) -> bool:\n",
        "    while n > 0:\n",
        "        if n % 2 == 1:\n",
        "            return False\n",
        "        n //= 10\n",
        "    return True"
      ],
      "execution_count": null,
      "outputs": []
    },
    {
      "cell_type": "code",
      "metadata": {
        "id": "bUdBQdVyvRLk"
      },
      "source": [
        "def all_even(n: int) -> bool:\n",
        "    return all([int(x) % 2 == 0 for x in str(n)])"
      ],
      "execution_count": null,
      "outputs": []
    },
    {
      "cell_type": "code",
      "metadata": {
        "id": "W7oNSM9DvjG1"
      },
      "source": [
        "all([int(x) % 2 == 0 for x in str(1729)])"
      ],
      "execution_count": null,
      "outputs": []
    },
    {
      "cell_type": "code",
      "metadata": {
        "id": "xBIpCbU-vvtw"
      },
      "source": [
        "all([int(x) % 2 == 0 for x in str(2688)])"
      ],
      "execution_count": null,
      "outputs": []
    },
    {
      "cell_type": "code",
      "metadata": {
        "id": "mziR_C-mv8qb"
      },
      "source": [
        "def is_ascending(n: int) -> bool:\n",
        "    return int(''.join(sorted(str(n)))) == n"
      ],
      "execution_count": null,
      "outputs": []
    },
    {
      "cell_type": "code",
      "metadata": {
        "id": "Uw_bFAgmyEDT"
      },
      "source": [
        "sorted(str(126))"
      ],
      "execution_count": null,
      "outputs": []
    },
    {
      "cell_type": "code",
      "metadata": {
        "id": "V_Rb8LruyFli"
      },
      "source": [
        "''.join(sorted(str(126)))"
      ],
      "execution_count": null,
      "outputs": []
    },
    {
      "cell_type": "code",
      "metadata": {
        "id": "DQPwWdxbyW0Y"
      },
      "source": [
        "int(''.join(sorted(str(126))))"
      ],
      "execution_count": null,
      "outputs": []
    },
    {
      "cell_type": "code",
      "metadata": {
        "id": "-0ihMEnlydhH"
      },
      "source": [
        "def isAscending(k: int) -> bool:\n",
        "    if k < 10:\n",
        "        return True\n",
        "    k, ld = k//10, k % 10\n",
        "    if ld <= k % 10:\n",
        "        return False\n",
        "    return isAscending(k)"
      ],
      "execution_count": null,
      "outputs": []
    },
    {
      "cell_type": "code",
      "metadata": {
        "id": "eAFYBrbRzb56"
      },
      "source": [
        "def is_Ascending(n: int) -> bool:\n",
        "    while n > 9:\n",
        "        if n % 10 <= (n // 10) % 10:\n",
        "            return False\n",
        "        n //= 10\n",
        "    return True"
      ],
      "execution_count": null,
      "outputs": []
    },
    {
      "cell_type": "code",
      "metadata": {
        "id": "HIMioGe8zq9h"
      },
      "source": [
        "def is_increasing(n: int) -> bool:\n",
        "    s = str(n)\n",
        "    return all([a < b for (a, b) in zip(s, s[1:])])"
      ],
      "execution_count": null,
      "outputs": []
    },
    {
      "cell_type": "code",
      "metadata": {
        "id": "NyuDzfhh0L9W"
      },
      "source": [
        "n = 1729"
      ],
      "execution_count": null,
      "outputs": []
    },
    {
      "cell_type": "code",
      "metadata": {
        "id": "faIioxuc0Yf4"
      },
      "source": [
        "s = str(n)"
      ],
      "execution_count": null,
      "outputs": []
    },
    {
      "cell_type": "code",
      "metadata": {
        "id": "-M-8jgOj0aCF"
      },
      "source": [
        "list(zip(s, s[1:]))"
      ],
      "execution_count": null,
      "outputs": []
    },
    {
      "cell_type": "code",
      "metadata": {
        "id": "SPt7cpbM0b4z"
      },
      "source": [
        "list(zip([1, 2, 3], ['a', 'b', 'c']))"
      ],
      "execution_count": null,
      "outputs": []
    },
    {
      "cell_type": "code",
      "metadata": {
        "id": "bz82NUt91Abg"
      },
      "source": [
        "is_increasing(1729)"
      ],
      "execution_count": null,
      "outputs": []
    },
    {
      "cell_type": "code",
      "metadata": {
        "id": "7-t7kCbQ1OUR"
      },
      "source": [
        "is_increasing(1289)"
      ],
      "execution_count": null,
      "outputs": []
    },
    {
      "cell_type": "code",
      "metadata": {
        "id": "eop3Pvk01SJ-"
      },
      "source": [
        "'a' < 'b'"
      ],
      "execution_count": null,
      "outputs": []
    },
    {
      "cell_type": "code",
      "metadata": {
        "id": "biWeCWbH2Zn8"
      },
      "source": [
        "'0' < '1'"
      ],
      "execution_count": null,
      "outputs": []
    },
    {
      "cell_type": "code",
      "metadata": {
        "id": "R3Ucd0o52bEY"
      },
      "source": [
        ""
      ],
      "execution_count": null,
      "outputs": []
    }
  ]
}