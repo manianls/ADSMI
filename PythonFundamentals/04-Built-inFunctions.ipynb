{
 "cells": [
  {
   "cell_type": "markdown",
   "metadata": {},
   "source": [
    "# Python Quickstart\n",
    "## Built in Functions\n",
    "Python comes with a nice set of built-in functions\n",
    "The complete set can be seen at:https://docs.python.org/3/library/functions.html\n",
    "We take a look at the most used ones here. We have clustered and classified them for better understanding."
   ]
  },
  {
   "cell_type": "markdown",
   "metadata": {},
   "source": [
    "#### Aggregate Functions\n",
    "* len(iterable)\n",
    "* max(iterable)\n",
    "* min(iterable)\n",
    "* sorted(iterable[, key][, reverse])\n",
    "* sum(iterable[, start])"
   ]
  },
  {
   "cell_type": "code",
   "execution_count": null,
   "metadata": {},
   "outputs": [],
   "source": [
    "f = [1, 1, 2, 3, 5, 8, 13, 21, 34, 55, 89]\n",
    "g = [7, 12, -4, 17, 12, 11, 0, 9, 21, 6, 13]\n",
    "print(len(f), len(g))"
   ]
  },
  {
   "cell_type": "code",
   "execution_count": null,
   "metadata": {},
   "outputs": [],
   "source": [
    "print(max(f), max(g))"
   ]
  },
  {
   "cell_type": "code",
   "execution_count": null,
   "metadata": {},
   "outputs": [],
   "source": [
    "print(min(f), min(g))"
   ]
  },
  {
   "cell_type": "code",
   "execution_count": null,
   "metadata": {},
   "outputs": [],
   "source": [
    "print(list(sorted(g)))"
   ]
  },
  {
   "cell_type": "code",
   "execution_count": null,
   "metadata": {},
   "outputs": [],
   "source": [
    "print(sum(f), sum(g))"
   ]
  },
  {
   "cell_type": "markdown",
   "metadata": {},
   "source": [
    "#### Extended Boolean\n",
    "* all(iterable)\n",
    "* any(iterable)\n",
    "\n",
    "Think of these as **and**, **or** for lists of booleans  "
   ]
  },
  {
   "cell_type": "code",
   "execution_count": null,
   "metadata": {},
   "outputs": [],
   "source": [
    "x = [2 > 3, 5 < 7, False, \"Hello\" == \"World\"]\n",
    "print(all(x))\n",
    "print(any(x))"
   ]
  },
  {
   "cell_type": "markdown",
   "metadata": {},
   "source": [
    "#### Mathematical\n",
    " * abs()\n",
    " * divmod(number, divideBy)\n",
    " * pow(number, exponent)\n",
    " * round(floatVal[, places])"
   ]
  },
  {
   "cell_type": "code",
   "execution_count": null,
   "metadata": {},
   "outputs": [],
   "source": [
    "print(abs(-7))\n",
    "print(abs(3+4j))"
   ]
  },
  {
   "cell_type": "code",
   "execution_count": null,
   "metadata": {},
   "outputs": [],
   "source": [
    "print(divmod(17, 4))\n",
    "print(divmod(-17, 4))"
   ]
  },
  {
   "cell_type": "code",
   "execution_count": null,
   "metadata": {},
   "outputs": [],
   "source": [
    "print(pow(3, 4))\n",
    "print(pow(3.2, 4))\n",
    "print(pow(4.3, -2.5))"
   ]
  },
  {
   "cell_type": "code",
   "execution_count": null,
   "metadata": {},
   "outputs": [],
   "source": [
    "print(round(12.3/4.5, 2))\n",
    "print(round(12.3/4.5))"
   ]
  },
  {
   "cell_type": "markdown",
   "metadata": {},
   "source": [
    "#### Constructors and Converters\n",
    " * ascii()\n",
    " * bin()\n",
    " * bool()\n",
    " * chr()\n",
    " * complex()\n",
    " * float()\n",
    " * hex()\n",
    " * int()\n",
    " * list()\n",
    " * oct()\n",
    " * ord()\n",
    " * set()\n",
    " * str()\n",
    " * tuple()"
   ]
  },
  {
   "cell_type": "markdown",
   "metadata": {},
   "source": [
    "#### Functional, Higher Order\n",
    "* filter\n",
    "* map\n",
    "* zip"
   ]
  },
  {
   "cell_type": "code",
   "execution_count": null,
   "metadata": {},
   "outputs": [],
   "source": [
    "f = [ 1,  1,  2,  3,  5,  8, 13, 21, 34, 55, 89]\n",
    "p = [ 2,  3,  5,  7, 11, 13, 17, 19, 23, 29, 31] "
   ]
  },
  {
   "cell_type": "code",
   "execution_count": null,
   "metadata": {},
   "outputs": [],
   "source": [
    "def square(n):\n",
    "    return n * n\n",
    "def isEven(n):\n",
    "    return n % 2 == 0\n",
    "def isPowerOf2(n):\n",
    "    if n == 1: \n",
    "        return True\n",
    "    if n % 2 == 1:\n",
    "        return False\n",
    "    return isPowerOf2(n//2)"
   ]
  },
  {
   "cell_type": "code",
   "execution_count": null,
   "metadata": {},
   "outputs": [],
   "source": [
    "print(list(filter(isEven, f)))\n",
    "print(list(filter(isEven, p)))\n",
    "print(list(filter(isPowerOf2, f)))"
   ]
  },
  {
   "cell_type": "code",
   "execution_count": null,
   "metadata": {},
   "outputs": [],
   "source": [
    "print(list(map(square,f)))\n",
    "print(list(map(square, filter(isEven, f))))"
   ]
  },
  {
   "cell_type": "code",
   "execution_count": null,
   "metadata": {},
   "outputs": [],
   "source": [
    "print(list(zip(f, p)))"
   ]
  },
  {
   "cell_type": "code",
   "execution_count": null,
   "metadata": {},
   "outputs": [],
   "source": [
    "grading = [\"Test\", \"Quiz\", \"Individual Lab\", \"Group Lab\", \"Hackathon\"]\n",
    "grades = [300, 60, 120, 60, 120]\n",
    "print(list(zip(grading, grades)))\n"
   ]
  }
 ],
 "metadata": {
  "kernelspec": {
   "display_name": "Python 3",
   "language": "python",
   "name": "python3"
  },
  "language_info": {
   "codemirror_mode": {
    "name": "ipython",
    "version": 3
   },
   "file_extension": ".py",
   "mimetype": "text/x-python",
   "name": "python",
   "nbconvert_exporter": "python",
   "pygments_lexer": "ipython3",
   "version": "3.9.2"
  }
 },
 "nbformat": 4,
 "nbformat_minor": 2
}
