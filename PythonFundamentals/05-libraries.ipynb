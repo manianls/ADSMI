{
 "cells": [
  {
   "cell_type": "markdown",
   "metadata": {
    "colab_type": "text",
    "id": "NIw2hrBXmT1n"
   },
   "source": [
    "# Python Quicstart\n",
    "## Standard Library\n",
    "Python comes with a very HUGE set of functionality organized into a nice set of libraries. The documentation for the complete set is  at: https://docs.python.org/3/library\n",
    "We describe the most used ones here. "
   ]
  },
  {
   "cell_type": "markdown",
   "metadata": {
    "colab_type": "text",
    "id": "Uo_BpjDBmT1o"
   },
   "source": [
    "#### math\n",
    "Adds the simple math functions such as sqrt, sine, cosine, etc. Also defines the constants such as $\\pi, \\tau$ and $e$"
   ]
  },
  {
   "cell_type": "code",
   "execution_count": 1,
   "metadata": {
    "colab": {
     "base_uri": "https://localhost:8080/",
     "height": 71
    },
    "colab_type": "code",
    "executionInfo": {
     "elapsed": 1181,
     "status": "ok",
     "timestamp": 1541216019279,
     "user": {
      "displayName": "Asokan Pichai",
      "photoUrl": "https://lh3.googleusercontent.com/-BwTc3H0i5_U/AAAAAAAAAAI/AAAAAAAAAmI/udtEPD3pAJA/s64/photo.jpg",
      "userId": "07563113289497356182"
     },
     "user_tz": -330
    },
    "id": "_ufSDeBnmT1p",
    "outputId": "b2a20840-bc20-4bda-ac8b-4bf305ea403d"
   },
   "outputs": [
    {
     "name": "stdout",
     "output_type": "stream",
     "text": [
      "5.0\n",
      "2.718281828459045 3.141592653589793\n",
      "26\n"
     ]
    }
   ],
   "source": [
    "import math\n",
    "print(math.sqrt(25))\n",
    "print(math.e, math.pi)\n",
    "print(math.gcd(52, 26))"
   ]
  },
  {
   "cell_type": "code",
   "execution_count": 0,
   "metadata": {
    "colab": {},
    "colab_type": "code",
    "id": "UmXst9Dqoi0Y"
   },
   "outputs": [],
   "source": [
    "math."
   ]
  },
  {
   "cell_type": "markdown",
   "metadata": {
    "colab_type": "text",
    "id": "j1DqjY5xmT1u"
   },
   "source": [
    "#### random\n",
    "Provides random numbers and related functions. Not meant for crypto usage"
   ]
  },
  {
   "cell_type": "code",
   "execution_count": 2,
   "metadata": {
    "colab": {
     "base_uri": "https://localhost:8080/",
     "height": 53
    },
    "colab_type": "code",
    "executionInfo": {
     "elapsed": 1230,
     "status": "ok",
     "timestamp": 1541216107850,
     "user": {
      "displayName": "Asokan Pichai",
      "photoUrl": "https://lh3.googleusercontent.com/-BwTc3H0i5_U/AAAAAAAAAAI/AAAAAAAAAmI/udtEPD3pAJA/s64/photo.jpg",
      "userId": "07563113289497356182"
     },
     "user_tz": -330
    },
    "id": "hyvO-1jOmT1u",
    "outputId": "b9ac1d5b-613a-4d65-e0ac-f733fefa981b"
   },
   "outputs": [
    {
     "name": "stdout",
     "output_type": "stream",
     "text": [
      "0.021822965081108037\n",
      "5,4,2,1,3,1,5,5,2,6,"
     ]
    }
   ],
   "source": [
    "import random\n",
    "print(random.random()) # Float between 0 and 1\n",
    "def rollDice():\n",
    "    return random.randint(1, 6)\n",
    "for i in range(10):\n",
    "    print(rollDice(), end=\",\")"
   ]
  },
  {
   "cell_type": "markdown",
   "metadata": {
    "colab_type": "text",
    "id": "qPHAXZ-pmT1y"
   },
   "source": [
    "#### os\n",
    "Provides hooks to operating system services. Probably the most used one is\n",
    "os.walk(DIRECTORY)\n"
   ]
  },
  {
   "cell_type": "markdown",
   "metadata": {
    "colab_type": "text",
    "id": "HCIP96KcmT1y"
   },
   "source": [
    "#### collections\n",
    "Provides a few specialised container classes. defaultdict, namedtuple and counter classes are probably the most used"
   ]
  },
  {
   "cell_type": "markdown",
   "metadata": {},
   "source": [
    "#### itertools\n",
    "Provides some functional tools. Very useful if the functional style appeals to you. Also look at **functools**"
   ]
  },
  {
   "cell_type": "markdown",
   "metadata": {
    "colab_type": "text",
    "id": "0WeypG5emT1y"
   },
   "source": [
    "## External Libraries\n",
    "\n",
    "**numpy** Array handling abilities; the foundation for all other scientific and Machine Learning algorithm implementations\n",
    "\n",
    "**scipy** This is not a single library. It is a collection scientific computational modules such as linear algebra, statistics, ODE solvers, optimizers, special functions and so on.\n",
    "\n",
    "**matplotlib** The comprehensive and somewhat complex plotting library. Newer libraries include **seaborn**, **vega** and **plotly**\n",
    "\n",
    "**pandas** The swiss army knife of large data manipulation\n",
    "\n",
    "**pillow** Python imaging library.\n",
    "\n",
    "**openCV** Comprehensive computer vision library\n",
    "\n",
    "**tweepy** Twitter API\n",
    "\n",
    "**sympy** to carry out symbolic computation. \n",
    "\n",
    "**nltk** a humongous collection of libraries and corpora for natural language processing. **spacy** is a new library for the same purpose\n",
    "\n",
    "**scikit-learn** the most popular and complete classical machine learning library\n",
    "\n",
    "**Keras** Attempts to be a user friendly neural network library on top of theano, tensorflow etc\n",
    "\n",
    "**Tensorflow** A symbolic library and dataflow programming toolkit very suited for complex machine learning tasks\n",
    "\n",
    "**pyTorch** Similar to tensorflow but many find it easier to use"
   ]
  },
  {
   "cell_type": "code",
   "execution_count": 0,
   "metadata": {
    "colab": {},
    "colab_type": "code",
    "id": "aNlp-mhKmT1z"
   },
   "outputs": [],
   "source": []
  }
 ],
 "metadata": {
  "colab": {
   "collapsed_sections": [],
   "name": "Week0-05-stdlib.ipynb",
   "provenance": [],
   "version": "0.3.2"
  },
  "kernelspec": {
   "display_name": "Python 3",
   "language": "python",
   "name": "python3"
  },
  "language_info": {
   "codemirror_mode": {
    "name": "ipython",
    "version": 3
   },
   "file_extension": ".py",
   "mimetype": "text/x-python",
   "name": "python",
   "nbconvert_exporter": "python",
   "pygments_lexer": "ipython3",
   "version": "3.9.2"
  }
 },
 "nbformat": 4,
 "nbformat_minor": 1
}
