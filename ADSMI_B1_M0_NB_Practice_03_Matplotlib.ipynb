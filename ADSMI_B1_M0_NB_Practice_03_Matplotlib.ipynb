{
 "cells": [
  {
   "cell_type": "markdown",
   "metadata": {
    "id": "k7Rgr85I454u"
   },
   "source": [
    "# Applied Data Science and Machine Intelligence\n",
    "## A program by IITM and TalentSprint\n",
    "### Practice Notebook 3: Introduction to Matplotlib \n",
    "#### (Ungraded)"
   ]
  },
  {
   "cell_type": "markdown",
   "metadata": {
    "id": "eJUAU5qO5Mkk"
   },
   "source": [
    "## Learning Objectives"
   ]
  },
  {
   "cell_type": "markdown",
   "metadata": {
    "id": "jUi3ecJm5OfS"
   },
   "source": [
    "At the end of the experiment, you will be able to :\n",
    "\n",
    "* use Matplotlib to create Scatter, Line and Bar plots\n",
    "* customize the labels, colors and look of your Matplotlib plot\n",
    "* understand the components involved in visualization design"
   ]
  },
  {
   "cell_type": "markdown",
   "metadata": {
    "id": "bT6lJlkzhFqZ"
   },
   "source": [
    "Here is the documentation of [matplotlib](https://matplotlib.org/) "
   ]
  },
  {
   "cell_type": "markdown",
   "metadata": {
    "id": "azw4r3J2r6Jd"
   },
   "source": [
    "#### Exercise 1: Import necessary packages from matplotib  for visualization"
   ]
  },
  {
   "cell_type": "code",
   "execution_count": null,
   "metadata": {
    "id": "hgUrUl0E4eUe"
   },
   "outputs": [],
   "source": [
    "# YOUR CODE HERE"
   ]
  },
  {
   "cell_type": "markdown",
   "metadata": {
    "id": "eyKm_6W6w1Zq"
   },
   "source": [
    "#### Exercise 2: Check the version of matplotlib"
   ]
  },
  {
   "cell_type": "code",
   "execution_count": null,
   "metadata": {
    "id": "Q05nW2Urw6DU"
   },
   "outputs": [],
   "source": [
    "# YOUR CODE HERE"
   ]
  },
  {
   "cell_type": "markdown",
   "metadata": {
    "id": "djFSmNSPr6Ji"
   },
   "source": [
    "###### Data 1"
   ]
  },
  {
   "cell_type": "code",
   "execution_count": null,
   "metadata": {
    "id": "_rVoenR7r6Ji"
   },
   "outputs": [],
   "source": [
    "import numpy as np\n",
    "import pandas as pd\n",
    "X = np.arange(0,100)\n",
    "Y = X * 2\n",
    "X = X ** 3"
   ]
  },
  {
   "cell_type": "markdown",
   "metadata": {
    "id": "iwAftCIxr6Jj"
   },
   "source": [
    "#### Exercise 3\n",
    "\n",
    "- Use above data\n",
    "- Create a figure object called fig using plt.figure()\n",
    "- Use add_axes to add an axis to the figure canvas at [0,0,1,1]. \n",
    "- Call this new axis ax.plot (X,Y) on that axes and set labels and title for the graph"
   ]
  },
  {
   "cell_type": "code",
   "execution_count": null,
   "metadata": {
    "id": "z-afkE-rr6Jj"
   },
   "outputs": [],
   "source": [
    "# YOUR CODE HERE\n"
   ]
  },
  {
   "cell_type": "markdown",
   "metadata": {
    "id": "f_u2WXPdr6Jk"
   },
   "source": [
    "##### Exercise 4\n",
    "\n",
    "- Create a Python dictionary of 4 of your favourite foods, wherein,\n",
    "    - the keys of the dictionary should be the food item and the values should be their prices\n",
    "- Create a Vertical bar graph where the x-axis is 'Food Item' and the y-axis is 'Price'\n",
    "- Add a title, xlabel and ylabel to the plot"
   ]
  },
  {
   "cell_type": "code",
   "execution_count": null,
   "metadata": {
    "id": "8R5doVvor6Jk"
   },
   "outputs": [],
   "source": [
    "# YOUR CODE HERE"
   ]
  },
  {
   "cell_type": "markdown",
   "metadata": {
    "id": "qa0RSM1sr6Jl"
   },
   "source": [
    "#### Exercise 5: Using the above data, Create a Horizontal Bar graph where the x-axis is the keys of the dictionary and the y-axis is the values of the dictionary"
   ]
  },
  {
   "cell_type": "code",
   "execution_count": null,
   "metadata": {
    "id": "D0rHUkXfr6Jl"
   },
   "outputs": [],
   "source": [
    "# YOUR CODE HERE"
   ]
  },
  {
   "cell_type": "markdown",
   "metadata": {
    "id": "QnDYpqJGr6Jo"
   },
   "source": [
    "#### Exercise 6\n",
    "\n",
    "- Create a NumPy array of 1000 normally distributed random numbers and save it to X\n",
    "- Create a Histogram plot of X"
   ]
  },
  {
   "cell_type": "code",
   "execution_count": null,
   "metadata": {
    "id": "Ht1rNhdRr6Jp"
   },
   "outputs": [],
   "source": [
    "# YOUR CODE HERE"
   ]
  },
  {
   "cell_type": "markdown",
   "metadata": {
    "id": "HaFyoSQxr6Jr"
   },
   "source": [
    "###### Data 2"
   ]
  },
  {
   "cell_type": "code",
   "execution_count": null,
   "metadata": {
    "id": "QkXj35tpr6Jr"
   },
   "outputs": [],
   "source": [
    "x = [5, 7, 8, 7, 2, 17, 2, 9, 4, 11, 12, 9, 6]\n",
    "\n",
    "y = [99, 86, 87, 88, 111, 86, 103, 87, 94, 78, 77, 85, 86]"
   ]
  },
  {
   "cell_type": "markdown",
   "metadata": {
    "id": "_d2f_cRUr6Js"
   },
   "source": [
    "#### Exercise 7: Using the above data, Create a Scatter plot."
   ]
  },
  {
   "cell_type": "code",
   "execution_count": null,
   "metadata": {
    "id": "dc62PnXsr6Jt"
   },
   "outputs": [],
   "source": [
    "# YOUR CODE HERE"
   ]
  },
  {
   "cell_type": "markdown",
   "metadata": {
    "id": "Ie6RSOZ6r6Jt"
   },
   "source": [
    "##### Data 3\n",
    "\n"
   ]
  },
  {
   "cell_type": "code",
   "execution_count": null,
   "metadata": {
    "id": "LbB3iwkMr6Ju"
   },
   "outputs": [],
   "source": [
    "a = np.array([0, 1, 2, 3, 4, 5])\n",
    "\n",
    "xx = np.linspace(-0.75, 1., 100)"
   ]
  },
  {
   "cell_type": "markdown",
   "metadata": {
    "id": "z5LgtAlYr6Jx"
   },
   "source": [
    "#### Exercise 8: Using the above data, Create  Scatter, Step, Bar plots "
   ]
  },
  {
   "cell_type": "code",
   "execution_count": null,
   "metadata": {
    "id": "eHl6bctZr6Jy"
   },
   "outputs": [],
   "source": [
    "# YOUR CODE HERE"
   ]
  },
  {
   "cell_type": "markdown",
   "metadata": {
    "id": "d6kSEjaNr6Jz"
   },
   "source": [
    "##### Data 4\n",
    "\n",
    "Download dataset from [here](https://cdn.iisc.talentsprint.com/CDS/Datasets/final.csv)"
   ]
  },
  {
   "cell_type": "markdown",
   "metadata": {
    "id": "q8f7jvV6r6Jz"
   },
   "source": [
    "#### Exercise 9: Using above data , perform the following:\n",
    "\n",
    "    a) Create a Histogram of life expectancy in the year 2007 across all 142 countries in the given dataset \n",
    "    b) Create a Bar plot showing the per-capita GDP for all the countries in Oceania during 2007 \n",
    "    c) Plot the Pie chart that displays proportions of all countries contained in each of the 5 continents \n",
    "    d) Create a Line plot showing the life expectancy for Spain and Portugal across all the years in the dataset.\n",
    "\n"
   ]
  },
  {
   "cell_type": "code",
   "execution_count": null,
   "metadata": {
    "id": "LM5rWld6r6J0"
   },
   "outputs": [],
   "source": [
    "import pandas as pd\n",
    "df = pd.read_csv(\"final.csv\", sep=\"\\t\")\n",
    "df.head()"
   ]
  },
  {
   "cell_type": "code",
   "execution_count": null,
   "metadata": {
    "id": "kUu59Abor6J1"
   },
   "outputs": [],
   "source": [
    "# Your CODE HERE"
   ]
  }
 ],
 "metadata": {
  "colab": {
   "collapsed_sections": [],
   "name": "M0_NB_Practice_03_Matplotlib.ipynb",
   "provenance": []
  },
  "kernelspec": {
   "display_name": "Python 3",
   "language": "python",
   "name": "python3"
  },
  "language_info": {
   "codemirror_mode": {
    "name": "ipython",
    "version": 3
   },
   "file_extension": ".py",
   "mimetype": "text/x-python",
   "name": "python",
   "nbconvert_exporter": "python",
   "pygments_lexer": "ipython3",
   "version": "3.6.9"
  }
 },
 "nbformat": 4,
 "nbformat_minor": 1
}
