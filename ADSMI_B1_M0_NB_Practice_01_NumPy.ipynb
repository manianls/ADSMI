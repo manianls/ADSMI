{
 "cells": [
  {
   "cell_type": "markdown",
   "metadata": {
    "id": "aUUu9l_JfJ92"
   },
   "source": [
    "# Applied Data Science and Machine Intelligence\n",
    "## A program by IITM and TalentSprint\n",
    "### Practice Notebook 1: Introduction to NumPy\n",
    "#### (Ungraded)"
   ]
  },
  {
   "cell_type": "markdown",
   "metadata": {
    "id": "nljJR6CwfZN_"
   },
   "source": [
    "## Learning Objectives\n",
    "\n",
    "At the end of the experiment, you will be able to :\n",
    "\n",
    "* understand the basics of NumPy including its functional objects\n",
    "* describe the key characteristics of numpy arrays\n",
    "* understand the difference between Python list and NumPy arrays\n",
    "* use indexing to slice/select data from NumPy arrays\n",
    "\n"
   ]
  },
  {
   "cell_type": "markdown",
   "metadata": {
    "id": "G9gCJqk-lyIM"
   },
   "source": [
    "## Information"
   ]
  },
  {
   "cell_type": "markdown",
   "metadata": {
    "id": "qKSeNSXIqa1_"
   },
   "source": [
    "#### NumPy\n",
    "\n",
    "* NumPy stands for 'Numerical Python'\n",
    "* It is a package for data analysis and scientific computing with Python\n",
    "* At the heart of NumPy is a basic data type, called the NumPy array. A NumPy array may have a number of dimensions, thus allowing it to represent quantities such as vectors (1D), matrices (2D), or higher dimensional arrays such as tensors.\n",
    "* It offers ndarray data structure for storing and ufuncs for efficiently processing the (homogeneous) data. Some of the important functionalities include: basic slicing, advanced or fancy indexing, broadcasting, etc.\n",
    "\n",
    "**To know more about Numpy click [here](https://numpy.org/doc/stable/user/whatisnumpy.html)**\n"
   ]
  },
  {
   "cell_type": "markdown",
   "metadata": {
    "id": "uDJsG5abr4lH"
   },
   "source": [
    "#### Difference Between Python list and NumPy array\n",
    "\n",
    "* Python lists are very general. They can contain any kind of object. They are dynamically typed.\n",
    "* They do not support mathematical functions such as matrix and dot multiplications, etc. Implementing such functions for Python lists would not be very efficient because of the dynamic typing.\n",
    "* Numpy arrays are statically typed and homogeneous. The type of the elements is determined when the array is created.\n",
    "* Numpy arrays are memory efficient.\n",
    "* Because of the static typing, fast implementation of mathematical functions such as multiplication and addition of numpy arrays can be implemented in a compiled language (C and Fortran is used).\n",
    "\n",
    "**To know more about the differece between Python list and NumPy arrays click [here](https://webcourses.ucf.edu/courses/1249560/pages/python-lists-vs-numpy-arrays-what-is-the-difference#:~:text=A%20numpy%20array%20is%20a,a%20tuple%20of%20nonnegative%20integers.&text=A%20list%20is%20the%20Python,contain%20elements%20of%20different%20types.)**"
   ]
  },
  {
   "cell_type": "markdown",
   "metadata": {
    "id": "Jx6xyCCOtTPt"
   },
   "source": [
    "## Expected time to complete the experiment : 20 mins"
   ]
  },
  {
   "cell_type": "markdown",
   "metadata": {
    "id": "JSo_rLBatnNQ"
   },
   "source": [
    "#### Exercise 1: Import the numpy package under the name np"
   ]
  },
  {
   "cell_type": "code",
   "execution_count": null,
   "metadata": {
    "id": "INYyCl2wfG20"
   },
   "outputs": [],
   "source": [
    "# Your code here"
   ]
  },
  {
   "cell_type": "markdown",
   "metadata": {
    "id": "Ulp2XpddvbXB"
   },
   "source": [
    "#### Exercise 2: Create a one-dimensional array"
   ]
  },
  {
   "cell_type": "code",
   "execution_count": null,
   "metadata": {
    "id": "-bpW1Oacvyn6"
   },
   "outputs": [],
   "source": [
    "# Your code here"
   ]
  },
  {
   "cell_type": "markdown",
   "metadata": {
    "id": "aTNS3fbswAFx"
   },
   "source": [
    "#### Exercise 3: Create a two-dimensional array"
   ]
  },
  {
   "cell_type": "code",
   "execution_count": null,
   "metadata": {
    "id": "Cc1OAX2swDp0"
   },
   "outputs": [],
   "source": [
    "# Your code here"
   ]
  },
  {
   "cell_type": "markdown",
   "metadata": {
    "id": "WYHvBRZxwLkW"
   },
   "source": [
    "#### Exercise 4: Create an array of 10 fives"
   ]
  },
  {
   "cell_type": "code",
   "execution_count": null,
   "metadata": {
    "id": "HB3lvMc-wHZu"
   },
   "outputs": [],
   "source": [
    "# Your code here"
   ]
  },
  {
   "cell_type": "markdown",
   "metadata": {
    "id": "ZML4eoAiwjWZ"
   },
   "source": [
    "#### Exercise 5: Create an array of 30 zeros\n"
   ]
  },
  {
   "cell_type": "code",
   "execution_count": null,
   "metadata": {
    "id": "l4UsKAp6wcAO"
   },
   "outputs": [],
   "source": [
    "# Your code here"
   ]
  },
  {
   "cell_type": "markdown",
   "metadata": {
    "id": "O77D0lTmw47v"
   },
   "source": [
    "#### Exercise 6: Create an array of odd integers from 20 to 40"
   ]
  },
  {
   "cell_type": "code",
   "execution_count": null,
   "metadata": {
    "id": "8HqgMPJ1w3fv"
   },
   "outputs": [],
   "source": [
    " # Your code here"
   ]
  },
  {
   "cell_type": "markdown",
   "metadata": {
    "id": "0jIz5To9xe20"
   },
   "source": [
    "#### Exercise 7: Create a 5 * 5 identity matrix"
   ]
  },
  {
   "cell_type": "code",
   "execution_count": null,
   "metadata": {
    "id": "oWNNi94gxFfh"
   },
   "outputs": [],
   "source": [
    "# Your code here"
   ]
  },
  {
   "cell_type": "markdown",
   "metadata": {
    "id": "ax-e0ucgxp6x"
   },
   "source": [
    "#### Exercise 8: Generate an array of 20 random numbers sampled from a standard normal distribution"
   ]
  },
  {
   "cell_type": "code",
   "execution_count": null,
   "metadata": {
    "id": "1j41Ng3SxkbW"
   },
   "outputs": [],
   "source": [
    "# Your code here"
   ]
  },
  {
   "cell_type": "markdown",
   "metadata": {
    "id": "zSbk_DNWyB0v"
   },
   "source": [
    "#### Exercise 9: Create a numpy array from a List"
   ]
  },
  {
   "cell_type": "code",
   "execution_count": null,
   "metadata": {
    "id": "lUw42XSpxvfr"
   },
   "outputs": [],
   "source": [
    "# Your code here"
   ]
  },
  {
   "cell_type": "markdown",
   "metadata": {
    "id": "s2SyGGhUyLce"
   },
   "source": [
    "#### Exercise 10:  Create a 4 * 4 * 4 array with random values"
   ]
  },
  {
   "cell_type": "code",
   "execution_count": null,
   "metadata": {
    "id": "qjGljrhvyKxI"
   },
   "outputs": [],
   "source": [
    "# Your code here"
   ]
  },
  {
   "cell_type": "markdown",
   "metadata": {
    "id": "vhsfUjihyanN"
   },
   "source": [
    "#### Exercise 11: Create a 10 * 10 array with random values and find the minimum and maximum values "
   ]
  },
  {
   "cell_type": "code",
   "execution_count": null,
   "metadata": {
    "id": "kVP6JO1fyZxl"
   },
   "outputs": [],
   "source": [
    "# Your code here"
   ]
  },
  {
   "cell_type": "markdown",
   "metadata": {
    "id": "PH_ZDIGJzA9v"
   },
   "source": [
    "#### Exercise 12: Create a checkerboard 8 * 8 matrix using the tile function"
   ]
  },
  {
   "cell_type": "code",
   "execution_count": null,
   "metadata": {
    "id": "UtH-qxy0y5VB"
   },
   "outputs": [],
   "source": [
    "# Your code here"
   ]
  },
  {
   "cell_type": "markdown",
   "metadata": {
    "id": "1D4LM_rQzGEY"
   },
   "source": [
    "#### Exercise 13: Given two arrays *A* and *B*, perform the below operations:\n",
    "\n",
    "* A + B\n",
    "* A - B\n",
    "* A * B\n",
    "* A / B\n",
    "* A ** 3\n",
    "\n",
    "A = np.arange(1,6)\n",
    "\n",
    "B = np.arange(6, 15, 2)"
   ]
  },
  {
   "cell_type": "code",
   "execution_count": null,
   "metadata": {
    "id": "F8LurmSJzFF4"
   },
   "outputs": [],
   "source": [
    "# Your code here"
   ]
  },
  {
   "cell_type": "markdown",
   "metadata": {
    "id": "2UunBRTGzjT7"
   },
   "source": [
    "#### Exercise 14: Given an array *X*. Calculate sine, cosine, and tangent of *X*, element-wise.\n",
    "\n",
    "X = np.array([1, 45, 60, 90])"
   ]
  },
  {
   "cell_type": "code",
   "execution_count": null,
   "metadata": {
    "id": "_GePAqckzdqM"
   },
   "outputs": [],
   "source": [
    "# Your code here"
   ]
  },
  {
   "cell_type": "markdown",
   "metadata": {
    "id": "dljFTM1_z25y"
   },
   "source": [
    "#### Exercise 15: Given an array *X*. Convert angles from degrees to radians.\n",
    "\n",
    "X = np.array([-180.,  -90.,   90.,  180.])"
   ]
  },
  {
   "cell_type": "code",
   "execution_count": null,
   "metadata": {
    "id": "bk2ZdhYtzy9p"
   },
   "outputs": [],
   "source": [
    "# Your code here"
   ]
  },
  {
   "cell_type": "markdown",
   "metadata": {
    "id": "Nu0UneAKz_kY"
   },
   "source": [
    "#### Exercise 16: Given an array *X*. Calculate the round, ceil, floor of *X*, element-wise\n",
    "\n",
    "X = np.array([4.1, 2.5, 44.5, 25.9, -1.1, -9.5, -6.9])"
   ]
  },
  {
   "cell_type": "code",
   "execution_count": null,
   "metadata": {
    "id": "wvjbRcEEz-LR"
   },
   "outputs": [],
   "source": [
    "# Your code here"
   ]
  },
  {
   "cell_type": "markdown",
   "metadata": {
    "id": "-60ajk5z0IHq"
   },
   "source": [
    "#### Exercise 17: Given two arrays *X* and *Y*. Divide *X* by *Y* element-wise using divide, true_divide, floor_divide functions.\n",
    "\n",
    "X = np.array([1, 2, 3])\n",
    "\n",
    "Y = np.array([4, 5, 6])"
   ]
  },
  {
   "cell_type": "code",
   "execution_count": null,
   "metadata": {
    "id": "4Or_DXdT0HSq"
   },
   "outputs": [],
   "source": [
    "# Your code here"
   ]
  },
  {
   "cell_type": "markdown",
   "metadata": {
    "id": "mEMzMg1c0dhd"
   },
   "source": [
    "#### Exercise 18: Given two arrays *X* and *Y*. Compute $X^Y$, element-wise.\n",
    "\n",
    "X = np.array([1, 2, 3])\n",
    "\n",
    "Y = np.array([4, 5, 6])"
   ]
  },
  {
   "cell_type": "code",
   "execution_count": null,
   "metadata": {
    "id": "96MpGOOn0iAA"
   },
   "outputs": [],
   "source": [
    "# Your code here"
   ]
  },
  {
   "cell_type": "markdown",
   "metadata": {
    "id": "4mneQbO60kT-"
   },
   "source": [
    "#### Exercise 19:  Given an array *X*. If an element of *X* is smaller than 5, replace it with 4. And if an element of *X* is bigger than 9, replace it with 8.\n",
    "\n",
    "X = np.array([8, 4, 22, 3, 66, 12, 1, 5])"
   ]
  },
  {
   "cell_type": "code",
   "execution_count": null,
   "metadata": {
    "id": "ewRP5aj50ro-"
   },
   "outputs": [],
   "source": [
    "# Your code here"
   ]
  },
  {
   "cell_type": "markdown",
   "metadata": {
    "id": "KYW-0pO00xcL"
   },
   "source": [
    "#### Exercise 20: Use the functions len(), numpy.shape() on array *X*. How do they relate to each other? And to the ndim attribute of the arrays?\n",
    "\n",
    "X = np.array([8, 4, 22, 3, 66, 12, 1, 5])"
   ]
  },
  {
   "cell_type": "code",
   "execution_count": null,
   "metadata": {
    "id": "BxYWGEUg0tJn"
   },
   "outputs": [],
   "source": [
    "# Your code here"
   ]
  },
  {
   "cell_type": "markdown",
   "metadata": {
    "id": "3oC2YKlFIfRf"
   },
   "source": [
    "#### Exercise 21: Create a 2-D array called X, ranging from -1 to 14 using arange() with step size 0.25. Split this array row wise into 3 equal parts and print the result."
   ]
  },
  {
   "cell_type": "code",
   "execution_count": null,
   "metadata": {
    "id": "DMA94dj12rMD"
   },
   "outputs": [],
   "source": [
    "# Your code here"
   ]
  },
  {
   "cell_type": "markdown",
   "metadata": {
    "id": "c0CMOS5d1Exe"
   },
   "source": [
    "#### Exercise 22: Use the array X created above and write the commands for the following: \n",
    "\n",
    "* Find the sum of all elements\n",
    "* Find the sum of all elements row wise\n",
    "* Find the sum of all elements column wise\n",
    "* Find the max of all elements\n",
    "* Find the min of all elements in each row\n",
    "* Find the mean of all elements in each row\n",
    "* Find the standard deviation column wise"
   ]
  },
  {
   "cell_type": "code",
   "execution_count": null,
   "metadata": {
    "id": "SO7mwhaV2TpV"
   },
   "outputs": [],
   "source": [
    "# Your code here"
   ]
  }
 ],
 "metadata": {
  "colab": {
   "collapsed_sections": [],
   "name": "M0_NB_Practice_01_NumPy.ipynb",
   "provenance": []
  },
  "kernelspec": {
   "display_name": "Python 3",
   "language": "python",
   "name": "python3"
  },
  "language_info": {
   "codemirror_mode": {
    "name": "ipython",
    "version": 3
   },
   "file_extension": ".py",
   "mimetype": "text/x-python",
   "name": "python",
   "nbconvert_exporter": "python",
   "pygments_lexer": "ipython3",
   "version": "3.6.9"
  }
 },
 "nbformat": 4,
 "nbformat_minor": 1
}
