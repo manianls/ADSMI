{
  "nbformat": 4,
  "nbformat_minor": 0,
  "metadata": {
    "colab": {
      "name": "ADSMI_B1_M0_NB_Practice_01_NumPy.ipynb",
      "provenance": [],
      "collapsed_sections": [],
      "include_colab_link": true
    },
    "kernelspec": {
      "display_name": "Python 3",
      "language": "python",
      "name": "python3"
    },
    "language_info": {
      "codemirror_mode": {
        "name": "ipython",
        "version": 3
      },
      "file_extension": ".py",
      "mimetype": "text/x-python",
      "name": "python",
      "nbconvert_exporter": "python",
      "pygments_lexer": "ipython3",
      "version": "3.6.9"
    }
  },
  "cells": [
    {
      "cell_type": "markdown",
      "metadata": {
        "id": "view-in-github",
        "colab_type": "text"
      },
      "source": [
        "<a href=\"https://colab.research.google.com/github/manianls/ADSMI/blob/main/ADSMI_B1_M0_NB_Practice_01_NumPy.ipynb\" target=\"_parent\"><img src=\"https://colab.research.google.com/assets/colab-badge.svg\" alt=\"Open In Colab\"/></a>"
      ]
    },
    {
      "cell_type": "markdown",
      "metadata": {
        "id": "aUUu9l_JfJ92"
      },
      "source": [
        "# Applied Data Science and Machine Intelligence\n",
        "## A program by IITM and TalentSprint\n",
        "### Practice Notebook 1: Introduction to NumPy\n",
        "#### (Ungraded)"
      ]
    },
    {
      "cell_type": "markdown",
      "metadata": {
        "id": "nljJR6CwfZN_"
      },
      "source": [
        "## Learning Objectives\n",
        "\n",
        "At the end of the experiment, you will be able to :\n",
        "\n",
        "* understand the basics of NumPy including its functional objects\n",
        "* describe the key characteristics of numpy arrays\n",
        "* understand the difference between Python list and NumPy arrays\n",
        "* use indexing to slice/select data from NumPy arrays\n",
        "\n"
      ]
    },
    {
      "cell_type": "markdown",
      "metadata": {
        "id": "G9gCJqk-lyIM"
      },
      "source": [
        "## Information"
      ]
    },
    {
      "cell_type": "markdown",
      "metadata": {
        "id": "qKSeNSXIqa1_"
      },
      "source": [
        "#### NumPy\n",
        "\n",
        "* NumPy stands for 'Numerical Python'\n",
        "* It is a package for data analysis and scientific computing with Python\n",
        "* At the heart of NumPy is a basic data type, called the NumPy array. A NumPy array may have a number of dimensions, thus allowing it to represent quantities such as vectors (1D), matrices (2D), or higher dimensional arrays such as tensors.\n",
        "* It offers ndarray data structure for storing and ufuncs for efficiently processing the (homogeneous) data. Some of the important functionalities include: basic slicing, advanced or fancy indexing, broadcasting, etc.\n",
        "\n",
        "**To know more about Numpy click [here](https://numpy.org/doc/stable/user/whatisnumpy.html)**\n"
      ]
    },
    {
      "cell_type": "markdown",
      "metadata": {
        "id": "uDJsG5abr4lH"
      },
      "source": [
        "#### Difference Between Python list and NumPy array\n",
        "\n",
        "* Python lists are very general. They can contain any kind of object. They are dynamically typed.\n",
        "* They do not support mathematical functions such as matrix and dot multiplications, etc. Implementing such functions for Python lists would not be very efficient because of the dynamic typing.\n",
        "* Numpy arrays are statically typed and homogeneous. The type of the elements is determined when the array is created.\n",
        "* Numpy arrays are memory efficient.\n",
        "* Because of the static typing, fast implementation of mathematical functions such as multiplication and addition of numpy arrays can be implemented in a compiled language (C and Fortran is used).\n",
        "\n",
        "**To know more about the differece between Python list and NumPy arrays click [here](https://webcourses.ucf.edu/courses/1249560/pages/python-lists-vs-numpy-arrays-what-is-the-difference#:~:text=A%20numpy%20array%20is%20a,a%20tuple%20of%20nonnegative%20integers.&text=A%20list%20is%20the%20Python,contain%20elements%20of%20different%20types.)**"
      ]
    },
    {
      "cell_type": "markdown",
      "metadata": {
        "id": "Jx6xyCCOtTPt"
      },
      "source": [
        "## Expected time to complete the experiment : 20 mins"
      ]
    },
    {
      "cell_type": "markdown",
      "metadata": {
        "id": "JSo_rLBatnNQ"
      },
      "source": [
        "#### Exercise 1: Import the numpy package under the name np"
      ]
    },
    {
      "cell_type": "code",
      "metadata": {
        "id": "INYyCl2wfG20"
      },
      "source": [
        "# Your code here\n",
        "import numpy as np"
      ],
      "execution_count": 1,
      "outputs": []
    },
    {
      "cell_type": "markdown",
      "metadata": {
        "id": "Ulp2XpddvbXB"
      },
      "source": [
        "#### Exercise 2: Create a one-dimensional array"
      ]
    },
    {
      "cell_type": "code",
      "metadata": {
        "id": "-bpW1Oacvyn6",
        "colab": {
          "base_uri": "https://localhost:8080/"
        },
        "outputId": "bbb5cb91-d9d3-4a72-e48b-7a69b95d8a23"
      },
      "source": [
        "# Your code here\n",
        "list = [1,2,3,4]\n",
        "n = np.array(list)\n",
        "print(n)"
      ],
      "execution_count": 2,
      "outputs": [
        {
          "output_type": "stream",
          "name": "stdout",
          "text": [
            "[1 2 3 4]\n"
          ]
        }
      ]
    },
    {
      "cell_type": "markdown",
      "metadata": {
        "id": "aTNS3fbswAFx"
      },
      "source": [
        "#### Exercise 3: Create a two-dimensional array"
      ]
    },
    {
      "cell_type": "code",
      "metadata": {
        "id": "Cc1OAX2swDp0",
        "colab": {
          "base_uri": "https://localhost:8080/"
        },
        "outputId": "6b1a9906-05bc-452b-aacf-4a183d791cb2"
      },
      "source": [
        "# Your code here\n",
        "x = np.array([[1,2,3],[3,4,5]])\n",
        "print(x)"
      ],
      "execution_count": 4,
      "outputs": [
        {
          "output_type": "stream",
          "name": "stdout",
          "text": [
            "[[1 2 3]\n",
            " [3 4 5]]\n"
          ]
        }
      ]
    },
    {
      "cell_type": "markdown",
      "metadata": {
        "id": "WYHvBRZxwLkW"
      },
      "source": [
        "#### Exercise 4: Create an array of 10 fives"
      ]
    },
    {
      "cell_type": "code",
      "metadata": {
        "id": "HB3lvMc-wHZu",
        "colab": {
          "base_uri": "https://localhost:8080/"
        },
        "outputId": "3b2d392f-4b83-44a3-cc6f-ddf67c442358"
      },
      "source": [
        "# Your code here\n",
        "array=np.ones(10)*5\n",
        "print(array)"
      ],
      "execution_count": 7,
      "outputs": [
        {
          "output_type": "stream",
          "name": "stdout",
          "text": [
            "[5. 5. 5. 5. 5. 5. 5. 5. 5. 5.]\n"
          ]
        }
      ]
    },
    {
      "cell_type": "markdown",
      "metadata": {
        "id": "ZML4eoAiwjWZ"
      },
      "source": [
        "#### Exercise 5: Create an array of 30 zeros\n"
      ]
    },
    {
      "cell_type": "code",
      "metadata": {
        "id": "l4UsKAp6wcAO",
        "colab": {
          "base_uri": "https://localhost:8080/"
        },
        "outputId": "440c801e-8215-402b-99e6-b9d80fbbf285"
      },
      "source": [
        "# Your code here\n",
        "array_zero=np.zeros(30)\n",
        "print(array_zero)"
      ],
      "execution_count": 10,
      "outputs": [
        {
          "output_type": "stream",
          "name": "stdout",
          "text": [
            "[0. 0. 0. 0. 0. 0. 0. 0. 0. 0. 0. 0. 0. 0. 0. 0. 0. 0. 0. 0. 0. 0. 0. 0.\n",
            " 0. 0. 0. 0. 0. 0.]\n"
          ]
        }
      ]
    },
    {
      "cell_type": "markdown",
      "metadata": {
        "id": "O77D0lTmw47v"
      },
      "source": [
        "#### Exercise 6: Create an array of odd integers from 20 to 40"
      ]
    },
    {
      "cell_type": "code",
      "metadata": {
        "id": "8HqgMPJ1w3fv",
        "colab": {
          "base_uri": "https://localhost:8080/"
        },
        "outputId": "323ecdcf-9f69-410c-be85-86228e7420fa"
      },
      "source": [
        " # Your code here\n",
        " list2=[range(20,40)]\n",
        " x = np.array(list2)\n",
        " print(x)\n",
        " odd = np.arange(21,40,2)\n",
        " print(odd)\n",
        " x[x%2==1]\n",
        " "
      ],
      "execution_count": 24,
      "outputs": [
        {
          "output_type": "stream",
          "name": "stdout",
          "text": [
            "[[20 21 22 23 24 25 26 27 28 29 30 31 32 33 34 35 36 37 38 39]]\n",
            "[21 23 25 27 29 31 33 35 37 39]\n"
          ]
        },
        {
          "output_type": "execute_result",
          "data": {
            "text/plain": [
              "array([21, 23, 25, 27, 29, 31, 33, 35, 37, 39])"
            ]
          },
          "metadata": {},
          "execution_count": 24
        }
      ]
    },
    {
      "cell_type": "markdown",
      "metadata": {
        "id": "0jIz5To9xe20"
      },
      "source": [
        "#### Exercise 7: Create a 5 * 5 identity matrix"
      ]
    },
    {
      "cell_type": "code",
      "metadata": {
        "id": "oWNNi94gxFfh",
        "colab": {
          "base_uri": "https://localhost:8080/"
        },
        "outputId": "8d6226be-f8ae-48ec-c2b2-e5dd14012b42"
      },
      "source": [
        "# Your code here\n",
        "array_id=np.identity(5)\n",
        "array_id"
      ],
      "execution_count": 22,
      "outputs": [
        {
          "output_type": "execute_result",
          "data": {
            "text/plain": [
              "array([[1., 0., 0., 0., 0.],\n",
              "       [0., 1., 0., 0., 0.],\n",
              "       [0., 0., 1., 0., 0.],\n",
              "       [0., 0., 0., 1., 0.],\n",
              "       [0., 0., 0., 0., 1.]])"
            ]
          },
          "metadata": {},
          "execution_count": 22
        }
      ]
    },
    {
      "cell_type": "markdown",
      "metadata": {
        "id": "ax-e0ucgxp6x"
      },
      "source": [
        "#### Exercise 8: Generate an array of 20 random numbers sampled from a standard normal distribution"
      ]
    },
    {
      "cell_type": "code",
      "metadata": {
        "id": "1j41Ng3SxkbW",
        "colab": {
          "base_uri": "https://localhost:8080/"
        },
        "outputId": "c99e04f8-4fca-479d-b496-1da84c101cbe"
      },
      "source": [
        "# Your code here\n",
        "rand = np.random.randn(20)\n",
        "rand"
      ],
      "execution_count": 26,
      "outputs": [
        {
          "output_type": "execute_result",
          "data": {
            "text/plain": [
              "array([-0.60361689,  0.19700213, -0.2957944 ,  1.43726034, -1.44696907,\n",
              "        1.26845138,  0.17109995, -0.48931604,  1.04821398, -0.15568347,\n",
              "        0.91258391, -1.18356056, -0.08037027, -1.32219337, -1.32914162,\n",
              "       -0.37104651,  1.00002918, -0.59394797, -0.48020039,  0.39186397])"
            ]
          },
          "metadata": {},
          "execution_count": 26
        }
      ]
    },
    {
      "cell_type": "markdown",
      "metadata": {
        "id": "zSbk_DNWyB0v"
      },
      "source": [
        "#### Exercise 9: Create a numpy array from a List"
      ]
    },
    {
      "cell_type": "code",
      "metadata": {
        "id": "lUw42XSpxvfr",
        "colab": {
          "base_uri": "https://localhost:8080/"
        },
        "outputId": "b0584c7e-3034-4c53-bd34-2a778aea7132"
      },
      "source": [
        "# Your code here\n",
        "list = [1,2,3,4]\n",
        "n = np.array(list)\n",
        "print(n)"
      ],
      "execution_count": 27,
      "outputs": [
        {
          "output_type": "stream",
          "name": "stdout",
          "text": [
            "[1 2 3 4]\n"
          ]
        }
      ]
    },
    {
      "cell_type": "markdown",
      "metadata": {
        "id": "s2SyGGhUyLce"
      },
      "source": [
        "#### Exercise 10:  Create a 4 * 4 * 4 array with random values"
      ]
    },
    {
      "cell_type": "code",
      "metadata": {
        "id": "qjGljrhvyKxI",
        "colab": {
          "base_uri": "https://localhost:8080/"
        },
        "outputId": "930b67e4-1b7b-4e58-bc08-7807c2cd6048"
      },
      "source": [
        "# Your code here\n",
        "array4=np.arange(64).reshape((4,4,4))\n",
        "array4\n",
        "array5=np.random.randn(64).reshape((4,4,4))\n",
        "array5"
      ],
      "execution_count": 42,
      "outputs": [
        {
          "output_type": "execute_result",
          "data": {
            "text/plain": [
              "array([[[-0.2398491 , -0.87443542, -1.29972648,  0.76818297],\n",
              "        [-0.91613951,  0.21092105, -0.90269854,  1.16511362],\n",
              "        [-1.64316372,  0.20309011,  1.66200323,  1.20385871],\n",
              "        [ 1.71398168, -1.04897013,  1.80382698, -0.73963674]],\n",
              "\n",
              "       [[-0.48199432,  0.03551878, -0.53732731,  0.18369034],\n",
              "        [ 0.70173388, -2.05554084, -1.52001901,  0.14055646],\n",
              "        [ 0.11084066,  0.52208838,  2.20743049,  0.52001151],\n",
              "        [ 0.88445433,  0.55098315,  1.36467927, -0.0410938 ]],\n",
              "\n",
              "       [[-0.88431263,  0.39536055,  1.36509067, -0.19873322],\n",
              "        [ 0.58437717, -0.8751811 ,  0.16530931,  2.88325105],\n",
              "        [ 0.34024075,  0.4092435 ,  0.4509854 , -0.02115959],\n",
              "        [ 0.54430984,  0.35281783, -0.31768483, -0.61617594]],\n",
              "\n",
              "       [[-0.29362096, -0.48109852, -0.78434165, -1.26949863],\n",
              "        [-2.04390363,  0.49389533, -1.18880495,  1.68029328],\n",
              "        [-0.27980267,  0.45190376,  2.03632725,  0.83336552],\n",
              "        [-0.17906159, -0.72634921, -0.7207191 , -0.38493941]]])"
            ]
          },
          "metadata": {},
          "execution_count": 42
        }
      ]
    },
    {
      "cell_type": "markdown",
      "metadata": {
        "id": "vhsfUjihyanN"
      },
      "source": [
        "#### Exercise 11: Create a 10 * 10 array with random values and find the minimum and maximum values "
      ]
    },
    {
      "cell_type": "code",
      "metadata": {
        "id": "kVP6JO1fyZxl",
        "colab": {
          "base_uri": "https://localhost:8080/"
        },
        "outputId": "224d74ad-73fc-404d-b8f0-d347ec6e1d28"
      },
      "source": [
        "# Your code here\n",
        "array10=np.random.randn(100).reshape(10,10)\n",
        "array10\n"
      ],
      "execution_count": 47,
      "outputs": [
        {
          "output_type": "execute_result",
          "data": {
            "text/plain": [
              "array([[-0.22972019,  1.14645657,  0.72496491,  0.31537817,  0.20614401,\n",
              "        -1.2680167 ,  0.00219229,  0.80554221,  0.8266231 ,  1.01656537],\n",
              "       [ 1.07203218,  1.91374547, -0.89443787,  0.68959826,  0.73947646,\n",
              "         0.15720372, -0.41602688, -0.42600124, -0.22348699,  0.90161756],\n",
              "       [ 0.05586335, -0.39837287,  0.99726879, -0.53352204,  0.87983062,\n",
              "        -1.42814252, -0.21567989,  0.66913702, -0.31594414, -0.29595599],\n",
              "       [-0.45705715, -1.65119864, -0.62244556,  0.51506744, -0.59758072,\n",
              "         0.50755065, -0.73195617,  0.00935129,  0.11476254, -1.07612697],\n",
              "       [-0.66228041, -0.83508996, -1.14587104,  0.57854372, -1.73692582,\n",
              "        -2.03141319,  1.12393329, -0.73568528, -1.03876183, -0.74149316],\n",
              "       [ 0.43632879, -0.41367248, -0.46387626,  0.00375719,  1.02044265,\n",
              "        -0.11737986,  1.43123525,  1.29038986,  0.218087  ,  0.48721564],\n",
              "       [-1.01048579,  0.13438589,  0.76640524,  0.1496521 ,  1.00962071,\n",
              "        -1.76453875,  0.44837835, -1.38442809,  1.40261832,  0.38950295],\n",
              "       [-0.6889466 ,  1.67168192, -1.04722551, -0.31546337,  1.85021955,\n",
              "         0.82475905, -0.23121303,  0.93722717,  0.16800046, -0.07893312],\n",
              "       [-0.68998725,  1.90128271,  0.65697376,  0.82199671, -1.37128179,\n",
              "        -0.16701628,  0.53077964, -1.82434306,  0.92719744,  0.80677055],\n",
              "       [ 0.60039992,  0.41175321, -1.29802036, -0.82624877, -0.95548247,\n",
              "        -0.20842154, -1.14012553, -0.04631161,  0.55333648, -1.78901465]])"
            ]
          },
          "metadata": {},
          "execution_count": 47
        }
      ]
    },
    {
      "cell_type": "code",
      "metadata": {
        "colab": {
          "base_uri": "https://localhost:8080/"
        },
        "id": "qR6U1Ya20M2K",
        "outputId": "104822b8-a495-44aa-a853-ff8ab407c961"
      },
      "source": [
        "np.max(array10)"
      ],
      "execution_count": 46,
      "outputs": [
        {
          "output_type": "execute_result",
          "data": {
            "text/plain": [
              "2.203156775048837"
            ]
          },
          "metadata": {},
          "execution_count": 46
        }
      ]
    },
    {
      "cell_type": "code",
      "metadata": {
        "colab": {
          "base_uri": "https://localhost:8080/"
        },
        "id": "gkVJ_WL_0Wp-",
        "outputId": "46e47681-f618-41fe-f655-0ae5a263167b"
      },
      "source": [
        "np.min(array10)"
      ],
      "execution_count": 48,
      "outputs": [
        {
          "output_type": "execute_result",
          "data": {
            "text/plain": [
              "-2.0314131918136047"
            ]
          },
          "metadata": {},
          "execution_count": 48
        }
      ]
    },
    {
      "cell_type": "markdown",
      "metadata": {
        "id": "PH_ZDIGJzA9v"
      },
      "source": [
        "#### Exercise 12: Create a checkerboard 8 * 8 matrix using the tile function"
      ]
    },
    {
      "cell_type": "code",
      "metadata": {
        "id": "UtH-qxy0y5VB",
        "colab": {
          "base_uri": "https://localhost:8080/"
        },
        "outputId": "d0527c42-2720-46a7-833e-282fab4a28ec"
      },
      "source": [
        "# Your code here\n",
        "np.tile([[1,0],[0,1]], (8,8))"
      ],
      "execution_count": 49,
      "outputs": [
        {
          "output_type": "execute_result",
          "data": {
            "text/plain": [
              "array([[1, 0, 1, 0, 1, 0, 1, 0, 1, 0, 1, 0, 1, 0, 1, 0],\n",
              "       [0, 1, 0, 1, 0, 1, 0, 1, 0, 1, 0, 1, 0, 1, 0, 1],\n",
              "       [1, 0, 1, 0, 1, 0, 1, 0, 1, 0, 1, 0, 1, 0, 1, 0],\n",
              "       [0, 1, 0, 1, 0, 1, 0, 1, 0, 1, 0, 1, 0, 1, 0, 1],\n",
              "       [1, 0, 1, 0, 1, 0, 1, 0, 1, 0, 1, 0, 1, 0, 1, 0],\n",
              "       [0, 1, 0, 1, 0, 1, 0, 1, 0, 1, 0, 1, 0, 1, 0, 1],\n",
              "       [1, 0, 1, 0, 1, 0, 1, 0, 1, 0, 1, 0, 1, 0, 1, 0],\n",
              "       [0, 1, 0, 1, 0, 1, 0, 1, 0, 1, 0, 1, 0, 1, 0, 1],\n",
              "       [1, 0, 1, 0, 1, 0, 1, 0, 1, 0, 1, 0, 1, 0, 1, 0],\n",
              "       [0, 1, 0, 1, 0, 1, 0, 1, 0, 1, 0, 1, 0, 1, 0, 1],\n",
              "       [1, 0, 1, 0, 1, 0, 1, 0, 1, 0, 1, 0, 1, 0, 1, 0],\n",
              "       [0, 1, 0, 1, 0, 1, 0, 1, 0, 1, 0, 1, 0, 1, 0, 1],\n",
              "       [1, 0, 1, 0, 1, 0, 1, 0, 1, 0, 1, 0, 1, 0, 1, 0],\n",
              "       [0, 1, 0, 1, 0, 1, 0, 1, 0, 1, 0, 1, 0, 1, 0, 1],\n",
              "       [1, 0, 1, 0, 1, 0, 1, 0, 1, 0, 1, 0, 1, 0, 1, 0],\n",
              "       [0, 1, 0, 1, 0, 1, 0, 1, 0, 1, 0, 1, 0, 1, 0, 1]])"
            ]
          },
          "metadata": {},
          "execution_count": 49
        }
      ]
    },
    {
      "cell_type": "markdown",
      "metadata": {
        "id": "1D4LM_rQzGEY"
      },
      "source": [
        "#### Exercise 13: Given two arrays *A* and *B*, perform the below operations:\n",
        "\n",
        "* A + B\n",
        "* A - B\n",
        "* A * B\n",
        "* A / B\n",
        "* A ** 3\n",
        "\n",
        "A = np.arange(1,6)\n",
        "\n",
        "B = np.arange(6, 15, 2)"
      ]
    },
    {
      "cell_type": "code",
      "metadata": {
        "id": "F8LurmSJzFF4",
        "colab": {
          "base_uri": "https://localhost:8080/"
        },
        "outputId": "f6508ea4-3725-483f-e79c-618c2bc20b66"
      },
      "source": [
        "# Your code here\n",
        "A=np.arange(1,6)\n",
        "B=np.arange(6,15,2)\n",
        "A+B"
      ],
      "execution_count": 52,
      "outputs": [
        {
          "output_type": "execute_result",
          "data": {
            "text/plain": [
              "array([ 7, 10, 13, 16, 19])"
            ]
          },
          "metadata": {},
          "execution_count": 52
        }
      ]
    },
    {
      "cell_type": "code",
      "metadata": {
        "colab": {
          "base_uri": "https://localhost:8080/"
        },
        "id": "W0ZW8LKv2zDL",
        "outputId": "50a357f5-60ab-4781-d4f6-6ae5350a0286"
      },
      "source": [
        "A-B"
      ],
      "execution_count": 53,
      "outputs": [
        {
          "output_type": "execute_result",
          "data": {
            "text/plain": [
              "array([-5, -6, -7, -8, -9])"
            ]
          },
          "metadata": {},
          "execution_count": 53
        }
      ]
    },
    {
      "cell_type": "code",
      "metadata": {
        "colab": {
          "base_uri": "https://localhost:8080/"
        },
        "id": "UM7HvnKV218p",
        "outputId": "97988bf2-ba6a-4955-ee06-546e647da5f6"
      },
      "source": [
        "A*B"
      ],
      "execution_count": 54,
      "outputs": [
        {
          "output_type": "execute_result",
          "data": {
            "text/plain": [
              "array([ 6, 16, 30, 48, 70])"
            ]
          },
          "metadata": {},
          "execution_count": 54
        }
      ]
    },
    {
      "cell_type": "code",
      "metadata": {
        "colab": {
          "base_uri": "https://localhost:8080/"
        },
        "id": "lIcGwYPa24H4",
        "outputId": "2cce4db2-8de5-4231-d4be-6f7906ccb7ab"
      },
      "source": [
        "A/B"
      ],
      "execution_count": 55,
      "outputs": [
        {
          "output_type": "execute_result",
          "data": {
            "text/plain": [
              "array([0.16666667, 0.25      , 0.3       , 0.33333333, 0.35714286])"
            ]
          },
          "metadata": {},
          "execution_count": 55
        }
      ]
    },
    {
      "cell_type": "code",
      "metadata": {
        "colab": {
          "base_uri": "https://localhost:8080/"
        },
        "id": "Ab33PD2L26sI",
        "outputId": "edffd0ee-e182-4d1f-f2ab-563d2e7fb12b"
      },
      "source": [
        "A**B"
      ],
      "execution_count": 56,
      "outputs": [
        {
          "output_type": "execute_result",
          "data": {
            "text/plain": [
              "array([         1,        256,      59049,   16777216, 6103515625])"
            ]
          },
          "metadata": {},
          "execution_count": 56
        }
      ]
    },
    {
      "cell_type": "markdown",
      "metadata": {
        "id": "2UunBRTGzjT7"
      },
      "source": [
        "#### Exercise 14: Given an array *X*. Calculate sine, cosine, and tangent of *X*, element-wise.\n",
        "\n",
        "X = np.array([1, 45, 60, 90])"
      ]
    },
    {
      "cell_type": "code",
      "metadata": {
        "id": "_GePAqckzdqM",
        "colab": {
          "base_uri": "https://localhost:8080/"
        },
        "outputId": "063d3336-1bb3-456f-861c-993d42d81e76"
      },
      "source": [
        "# Your code here\n",
        "X = np.array([1,45,60,90])\n",
        "np.sin(x[0])"
      ],
      "execution_count": 57,
      "outputs": [
        {
          "output_type": "execute_result",
          "data": {
            "text/plain": [
              "array([ 0.91294525,  0.83665564, -0.00885131, -0.8462204 , -0.90557836,\n",
              "       -0.13235175,  0.76255845,  0.95637593,  0.27090579, -0.66363388,\n",
              "       -0.98803162, -0.40403765,  0.55142668,  0.99991186,  0.52908269,\n",
              "       -0.42818267, -0.99177885, -0.64353813,  0.29636858,  0.96379539])"
            ]
          },
          "metadata": {},
          "execution_count": 57
        }
      ]
    },
    {
      "cell_type": "code",
      "metadata": {
        "colab": {
          "base_uri": "https://localhost:8080/"
        },
        "id": "08Kwn83x3OIr",
        "outputId": "aae00a11-c7e2-4ca1-ef4a-d7d8e3809bf3"
      },
      "source": [
        "np.cos(x)"
      ],
      "execution_count": 58,
      "outputs": [
        {
          "output_type": "execute_result",
          "data": {
            "text/plain": [
              "array([[ 0.40808206, -0.54772926, -0.99996083, -0.53283302,  0.42417901,\n",
              "         0.99120281,  0.64691932, -0.29213881, -0.96260587, -0.74805753,\n",
              "         0.15425145,  0.91474236,  0.83422336, -0.01327675, -0.84857027,\n",
              "        -0.90369221, -0.12796369,  0.76541405,  0.95507364,  0.26664293]])"
            ]
          },
          "metadata": {},
          "execution_count": 58
        }
      ]
    },
    {
      "cell_type": "code",
      "metadata": {
        "colab": {
          "base_uri": "https://localhost:8080/"
        },
        "id": "cFM1oM5o3Tni",
        "outputId": "790239cf-5baf-48fc-db2a-b46fac3b728c"
      },
      "source": [
        "np.tan(x)"
      ],
      "execution_count": 59,
      "outputs": [
        {
          "output_type": "execute_result",
          "data": {
            "text/plain": [
              "array([[ 2.23716094e+00, -1.52749853e+00,  8.85165604e-03,\n",
              "         1.58815308e+00, -2.13489670e+00, -1.33526407e-01,\n",
              "         1.17875355e+00, -3.27370380e+00, -2.81429605e-01,\n",
              "         8.87142844e-01, -6.40533120e+00, -4.41695568e-01,\n",
              "         6.61006041e-01, -7.53130148e+01, -6.23498963e-01,\n",
              "         4.73814720e-01,  7.75047091e+00, -8.40771255e-01,\n",
              "         3.10309661e-01,  3.61455441e+00]])"
            ]
          },
          "metadata": {},
          "execution_count": 59
        }
      ]
    },
    {
      "cell_type": "markdown",
      "metadata": {
        "id": "dljFTM1_z25y"
      },
      "source": [
        "#### Exercise 15: Given an array *X*. Convert angles from degrees to radians.\n",
        "\n",
        "X = np.array([-180.,  -90.,   90.,  180.])"
      ]
    },
    {
      "cell_type": "code",
      "metadata": {
        "id": "bk2ZdhYtzy9p",
        "colab": {
          "base_uri": "https://localhost:8080/"
        },
        "outputId": "7cf6c677-15ed-4b63-ca53-f368bdf4b2a1"
      },
      "source": [
        "# Your code here\n",
        "X=np.array([-180., -90., 90., 180.])\n",
        "np.deg2rad(X)"
      ],
      "execution_count": 61,
      "outputs": [
        {
          "output_type": "execute_result",
          "data": {
            "text/plain": [
              "array([-3.14159265, -1.57079633,  1.57079633,  3.14159265])"
            ]
          },
          "metadata": {},
          "execution_count": 61
        }
      ]
    },
    {
      "cell_type": "markdown",
      "metadata": {
        "id": "Nu0UneAKz_kY"
      },
      "source": [
        "#### Exercise 16: Given an array *X*. Calculate the round, ceil, floor of *X*, element-wise\n",
        "\n",
        "X = np.array([4.1, 2.5, 44.5, 25.9, -1.1, -9.5, -6.9])"
      ]
    },
    {
      "cell_type": "code",
      "metadata": {
        "id": "wvjbRcEEz-LR"
      },
      "source": [
        "# Your code here\n",
        "X = np.array([4.1, 2.5, 44.5, 25.9, -1.1, -9.5, -6.9])\n"
      ],
      "execution_count": null,
      "outputs": []
    },
    {
      "cell_type": "code",
      "metadata": {
        "colab": {
          "base_uri": "https://localhost:8080/"
        },
        "id": "-6u6TcCB3qBK",
        "outputId": "38c78cba-196b-4fa1-f014-8878b924366f"
      },
      "source": [
        "np.round(X)"
      ],
      "execution_count": 62,
      "outputs": [
        {
          "output_type": "execute_result",
          "data": {
            "text/plain": [
              "array([-180.,  -90.,   90.,  180.])"
            ]
          },
          "metadata": {},
          "execution_count": 62
        }
      ]
    },
    {
      "cell_type": "code",
      "metadata": {
        "colab": {
          "base_uri": "https://localhost:8080/"
        },
        "id": "-IURBgYU3ucw",
        "outputId": "5803d4d3-9d39-4fbe-8764-9dc65ac550f8"
      },
      "source": [
        "np.ceil(X)"
      ],
      "execution_count": 63,
      "outputs": [
        {
          "output_type": "execute_result",
          "data": {
            "text/plain": [
              "array([-180.,  -90.,   90.,  180.])"
            ]
          },
          "metadata": {},
          "execution_count": 63
        }
      ]
    },
    {
      "cell_type": "code",
      "metadata": {
        "colab": {
          "base_uri": "https://localhost:8080/"
        },
        "id": "2aUghj8O3yrQ",
        "outputId": "a4cc8b47-2c50-432f-9588-87f3d5af05a5"
      },
      "source": [
        "np.floor(X)"
      ],
      "execution_count": 64,
      "outputs": [
        {
          "output_type": "execute_result",
          "data": {
            "text/plain": [
              "array([-180.,  -90.,   90.,  180.])"
            ]
          },
          "metadata": {},
          "execution_count": 64
        }
      ]
    },
    {
      "cell_type": "markdown",
      "metadata": {
        "id": "-60ajk5z0IHq"
      },
      "source": [
        "#### Exercise 17: Given two arrays *X* and *Y*. Divide *X* by *Y* element-wise using divide, true_divide, floor_divide functions.\n",
        "\n",
        "X = np.array([1, 2, 3])\n",
        "\n",
        "Y = np.array([4, 5, 6])"
      ]
    },
    {
      "cell_type": "code",
      "metadata": {
        "id": "4Or_DXdT0HSq"
      },
      "source": [
        "# Your code here\n",
        "X = np.array([1, 2, 3])\n",
        "Y = np.array([4, 5, 6])"
      ],
      "execution_count": 65,
      "outputs": []
    },
    {
      "cell_type": "code",
      "metadata": {
        "colab": {
          "base_uri": "https://localhost:8080/"
        },
        "id": "7a5QPS2T3_-i",
        "outputId": "7ee6d2c9-6b1b-4abf-8170-fa11158f9382"
      },
      "source": [
        "np.divide(X, Y)"
      ],
      "execution_count": 66,
      "outputs": [
        {
          "output_type": "execute_result",
          "data": {
            "text/plain": [
              "array([0.25, 0.4 , 0.5 ])"
            ]
          },
          "metadata": {},
          "execution_count": 66
        }
      ]
    },
    {
      "cell_type": "code",
      "metadata": {
        "colab": {
          "base_uri": "https://localhost:8080/"
        },
        "id": "cGEtW7fo4GLO",
        "outputId": "fa81aff6-8761-41c5-ddd0-2c44214c4f37"
      },
      "source": [
        "np.true_divide(X, Y)"
      ],
      "execution_count": 67,
      "outputs": [
        {
          "output_type": "execute_result",
          "data": {
            "text/plain": [
              "array([0.25, 0.4 , 0.5 ])"
            ]
          },
          "metadata": {},
          "execution_count": 67
        }
      ]
    },
    {
      "cell_type": "code",
      "metadata": {
        "colab": {
          "base_uri": "https://localhost:8080/"
        },
        "id": "VgV7Jwv34NOF",
        "outputId": "7b9eb6d8-39c9-40de-8b19-eb8573e433c3"
      },
      "source": [
        "np.floor_divide(X,Y)"
      ],
      "execution_count": 68,
      "outputs": [
        {
          "output_type": "execute_result",
          "data": {
            "text/plain": [
              "array([0, 0, 0])"
            ]
          },
          "metadata": {},
          "execution_count": 68
        }
      ]
    },
    {
      "cell_type": "markdown",
      "metadata": {
        "id": "mEMzMg1c0dhd"
      },
      "source": [
        "#### Exercise 18: Given two arrays *X* and *Y*. Compute $X^Y$, element-wise.\n",
        "\n",
        "X = np.array([1, 2, 3])\n",
        "\n",
        "Y = np.array([4, 5, 6])"
      ]
    },
    {
      "cell_type": "code",
      "metadata": {
        "id": "96MpGOOn0iAA"
      },
      "source": [
        "# Your code here\n",
        "X = np.array([1, 2, 3])\n",
        "Y = np.array([4, 5, 6])"
      ],
      "execution_count": 69,
      "outputs": []
    },
    {
      "cell_type": "code",
      "metadata": {
        "colab": {
          "base_uri": "https://localhost:8080/"
        },
        "id": "bIVq7h664tAB",
        "outputId": "292cdd3e-7a47-4688-ceb6-752366a754db"
      },
      "source": [
        "X ** Y\n",
        "np.power(X,Y)"
      ],
      "execution_count": 70,
      "outputs": [
        {
          "output_type": "execute_result",
          "data": {
            "text/plain": [
              "array([  1,  32, 729])"
            ]
          },
          "metadata": {},
          "execution_count": 70
        }
      ]
    },
    {
      "cell_type": "markdown",
      "metadata": {
        "id": "4mneQbO60kT-"
      },
      "source": [
        "#### Exercise 19:  Given an array *X*. If an element of *X* is smaller than 5, replace it with 4. And if an element of *X* is bigger than 9, replace it with 8.\n",
        "\n",
        "X = np.array([8, 4, 22, 3, 66, 12, 1, 5])"
      ]
    },
    {
      "cell_type": "code",
      "metadata": {
        "id": "ewRP5aj50ro-",
        "colab": {
          "base_uri": "https://localhost:8080/"
        },
        "outputId": "03038fe1-a71d-465d-f87f-93d9e99a27ab"
      },
      "source": [
        "# Your code here\n",
        "X = np.array([8, 4, 22, 3, 66, 12, 1, 5])\n",
        "np.clip(X, 4, 8)"
      ],
      "execution_count": 72,
      "outputs": [
        {
          "output_type": "execute_result",
          "data": {
            "text/plain": [
              "array([8, 4, 8, 4, 8, 8, 4, 5])"
            ]
          },
          "metadata": {},
          "execution_count": 72
        }
      ]
    },
    {
      "cell_type": "markdown",
      "metadata": {
        "id": "KYW-0pO00xcL"
      },
      "source": [
        "#### Exercise 20: Use the functions len(), numpy.shape() on array *X*. How do they relate to each other? And to the ndim attribute of the arrays?\n",
        "\n",
        "X = np.array([8, 4, 22, 3, 66, 12, 1, 5])"
      ]
    },
    {
      "cell_type": "code",
      "metadata": {
        "id": "BxYWGEUg0tJn"
      },
      "source": [
        "# Your code here\n",
        "X = np.array([8, 4, 22, 3, 66, 12, 1, 5])\n"
      ],
      "execution_count": 73,
      "outputs": []
    },
    {
      "cell_type": "code",
      "metadata": {
        "colab": {
          "base_uri": "https://localhost:8080/"
        },
        "id": "-PRnwfDA5gxD",
        "outputId": "705b58b3-5950-486b-fc9f-bdc6247e2f30"
      },
      "source": [
        "len(X)"
      ],
      "execution_count": 74,
      "outputs": [
        {
          "output_type": "execute_result",
          "data": {
            "text/plain": [
              "8"
            ]
          },
          "metadata": {},
          "execution_count": 74
        }
      ]
    },
    {
      "cell_type": "code",
      "metadata": {
        "colab": {
          "base_uri": "https://localhost:8080/"
        },
        "id": "OPS7siNY5lO1",
        "outputId": "1c6b6db2-b083-441d-a814-e157e528d6ac"
      },
      "source": [
        "X.shape"
      ],
      "execution_count": 75,
      "outputs": [
        {
          "output_type": "execute_result",
          "data": {
            "text/plain": [
              "(8,)"
            ]
          },
          "metadata": {},
          "execution_count": 75
        }
      ]
    },
    {
      "cell_type": "code",
      "metadata": {
        "colab": {
          "base_uri": "https://localhost:8080/"
        },
        "id": "sGtsbixz5sxp",
        "outputId": "f8ed900b-249b-479b-96a8-762626b10ba2"
      },
      "source": [
        "X.ndim"
      ],
      "execution_count": 77,
      "outputs": [
        {
          "output_type": "execute_result",
          "data": {
            "text/plain": [
              "1"
            ]
          },
          "metadata": {},
          "execution_count": 77
        }
      ]
    },
    {
      "cell_type": "markdown",
      "metadata": {
        "id": "3oC2YKlFIfRf"
      },
      "source": [
        "#### Exercise 21: Create a 2-D array called X, ranging from -1 to 14 using arange() with step size 0.25. Split this array row wise into 3 equal parts and print the result."
      ]
    },
    {
      "cell_type": "code",
      "metadata": {
        "id": "DMA94dj12rMD",
        "colab": {
          "base_uri": "https://localhost:8080/"
        },
        "outputId": "17cd5302-8269-4c64-988c-cbd791180ae5"
      },
      "source": [
        "# Your code here\n",
        "X = np.arange(-1,14,0.25).reshape(3,20)\n",
        "X"
      ],
      "execution_count": 78,
      "outputs": [
        {
          "output_type": "execute_result",
          "data": {
            "text/plain": [
              "array([[-1.  , -0.75, -0.5 , -0.25,  0.  ,  0.25,  0.5 ,  0.75,  1.  ,\n",
              "         1.25,  1.5 ,  1.75,  2.  ,  2.25,  2.5 ,  2.75,  3.  ,  3.25,\n",
              "         3.5 ,  3.75],\n",
              "       [ 4.  ,  4.25,  4.5 ,  4.75,  5.  ,  5.25,  5.5 ,  5.75,  6.  ,\n",
              "         6.25,  6.5 ,  6.75,  7.  ,  7.25,  7.5 ,  7.75,  8.  ,  8.25,\n",
              "         8.5 ,  8.75],\n",
              "       [ 9.  ,  9.25,  9.5 ,  9.75, 10.  , 10.25, 10.5 , 10.75, 11.  ,\n",
              "        11.25, 11.5 , 11.75, 12.  , 12.25, 12.5 , 12.75, 13.  , 13.25,\n",
              "        13.5 , 13.75]])"
            ]
          },
          "metadata": {},
          "execution_count": 78
        }
      ]
    },
    {
      "cell_type": "markdown",
      "metadata": {
        "id": "c0CMOS5d1Exe"
      },
      "source": [
        "#### Exercise 22: Use the array X created above and write the commands for the following: \n",
        "\n",
        "* Find the sum of all elements\n",
        "* Find the sum of all elements row wise\n",
        "* Find the sum of all elements column wise\n",
        "* Find the max of all elements\n",
        "* Find the min of all elements in each row\n",
        "* Find the mean of all elements in each row\n",
        "* Find the standard deviation column wise"
      ]
    },
    {
      "cell_type": "code",
      "metadata": {
        "id": "SO7mwhaV2TpV"
      },
      "source": [
        "# Your code here"
      ],
      "execution_count": null,
      "outputs": []
    },
    {
      "cell_type": "code",
      "metadata": {
        "colab": {
          "base_uri": "https://localhost:8080/"
        },
        "id": "Me4vE6036Dip",
        "outputId": "4976e326-17a3-45ff-9d1c-a4953415f54c"
      },
      "source": [
        "print(\"sum is\",np.sum(X))\n",
        "print(\"\\nsum of all elements row wise\\n\",np.sum(X, axis=0))\n",
        "print(\"\\nsum of all elements col wise\\n\",np.sum(X, axis=1))\n",
        "print(\"\\nmax and min\",X.max(), X.min())\n",
        "print(\"\\n min row wise\",np.min(X, axis=0))\n",
        "print(\"\\n mean row wise\",np.mean(X, axis=0))\n",
        "print(\"\\n standard deviation column wise\",np.std(X, axis=1))"
      ],
      "execution_count": 80,
      "outputs": [
        {
          "output_type": "stream",
          "name": "stdout",
          "text": [
            "sum is 382.5\n",
            "\n",
            "sum of all elements row wise\n",
            " [12.   12.75 13.5  14.25 15.   15.75 16.5  17.25 18.   18.75 19.5  20.25\n",
            " 21.   21.75 22.5  23.25 24.   24.75 25.5  26.25]\n",
            "\n",
            "sum of all elements col wise\n",
            " [ 27.5 127.5 227.5]\n",
            "\n",
            "max and min 13.75 -1.0\n",
            "\n",
            " min row wise [-1.   -0.75 -0.5  -0.25  0.    0.25  0.5   0.75  1.    1.25  1.5   1.75\n",
            "  2.    2.25  2.5   2.75  3.    3.25  3.5   3.75]\n",
            "\n",
            " mean row wise [4.   4.25 4.5  4.75 5.   5.25 5.5  5.75 6.   6.25 6.5  6.75 7.   7.25\n",
            " 7.5  7.75 8.   8.25 8.5  8.75]\n",
            "\n",
            " standard deviation column wise [1.44157032 1.44157032 1.44157032]\n"
          ]
        }
      ]
    }
  ]
}